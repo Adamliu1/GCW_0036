{
  "cells": [
    {
      "cell_type": "markdown",
      "metadata": {
        "id": "Oldi7OJdD_-k"
      },
      "source": [
        "# COMP0036 Group Assignment: BEAT THE BOOKIE\n",
        "\n",
        "### Group N\n",
        "\n",
        "We have been assigned to build model(s) that predict the FTR value, which can be Home Win (H), Draw (D) and Away Win (A). The general steps we will be taking to build the model(s) begins with finding a suitable dataset and performing feature engineering on the selected features to be used in the model. This entails creating functions or classes to convert the raw data and transforms it into a format where every match has that historic feature. Then, we perform feature selection to filter out unimportant features, and use the selected features in model(s), and then compare and decide the best performing model. Finally, improve models to get the best accuracy."
      ]
    },
    {
      "cell_type": "code",
      "execution_count": 23,
      "metadata": {
        "id": "uxT6h2PND_-q"
      },
      "outputs": [],
      "source": [
        "import os\n",
        "import pandas as pd\n",
        "import numpy as np\n",
        "\n",
        "# not import for now since tf not working on mine Mac rn\n",
        "#import tensorflow as tf\n",
        "\n",
        "import seaborn as sns\n",
        "from pandas.core.common import random_state\n",
        "\n",
        "from sklearn.base import BaseEstimator, ClassifierMixin\n",
        "from sklearn.metrics import ConfusionMatrixDisplay\n",
        "\n",
        "from sklearn.preprocessing import OrdinalEncoder\n",
        "from sklearn.preprocessing import LabelEncoder\n",
        "from sklearn.preprocessing import StandardScaler\n",
        "from sklearn import model_selection\n",
        "\n",
        "\n",
        "from sklearn.metrics import accuracy_score\n",
        "from sklearn.metrics import classification_report\n",
        "from sklearn.metrics import mean_squared_error\n",
        "\n",
        "from sklearn.neighbors import KNeighborsClassifier\n",
        "from sklearn.tree import DecisionTreeClassifier\n",
        "from sklearn.ensemble import RandomForestClassifier\n",
        "from sklearn.linear_model import LinearRegression\n",
        "from sklearn.preprocessing import PolynomialFeatures\n",
        "\n",
        "from xgboost import XGBClassifier\n",
        "\n",
        "from sklearn.model_selection import train_test_split\n",
        "from sklearn.metrics import plot_confusion_matrix\n",
        "from sklearn.metrics import confusion_matrix, ConfusionMatrixDisplay\n",
        "\n",
        "from numpy import mean\n",
        "from numpy import std\n",
        "from sklearn.model_selection import StratifiedKFold\n",
        "from sklearn.model_selection import KFold\n",
        "from sklearn.model_selection import GridSearchCV\n",
        "\n",
        "from datetime import datetime\n",
        "\n",
        "from matplotlib import pyplot as plt"
      ]
    },
    {
      "cell_type": "markdown",
      "metadata": {
        "id": "vgtedFJKD_-s"
      },
      "source": [
        "Load training data"
      ]
    },
    {
      "cell_type": "code",
      "execution_count": 24,
      "metadata": {
        "id": "TumL1q2YD_-t"
      },
      "outputs": [],
      "source": [
        "dirName_trainData = 'https://raw.githubusercontent.com/shabir-dhillon/GCW_0036/main/Group%20Coursework%20Brief-20221106/Data_Files/epl-full-training.csv'"
      ]
    },
    {
      "cell_type": "markdown",
      "source": [
        "### Auxiliary functions"
      ],
      "metadata": {
        "id": "gsVakaXbWrTw"
      }
    },
    {
      "cell_type": "code",
      "source": [
        "# Used for summary part of each feature Set\n",
        "model_acc_dict = {\n",
        "  'RG': 0,\n",
        "  'DT': 0,\n",
        "  'RF': 0,\n",
        "  'KNN': 0,\n",
        "  'SVM': 0,\n",
        "  'XGB': 0,\n",
        "  'NN': 0\n",
        "}"
      ],
      "metadata": {
        "id": "hI4w1tMrWyT2"
      },
      "execution_count": 25,
      "outputs": []
    },
    {
      "cell_type": "code",
      "source": [
        "def summary_hist(model_acc_dict=model_acc_dict, title=\"Summary of Models - Feature Set 1\", fig_size=(9, 9)):\n",
        "  model_names = model_acc_dict.keys()\n",
        "  model_names = [\"Random Guess\", \"Decision Tree\", \n",
        "                  \"Random Forest\", \"K Nearest Neighbors\",\n",
        "                  \"Support Vector Machine\", \"XGB\",\n",
        "                  \"Nerual Network\"]\n",
        "  \n",
        "  x_label = \"Accuracy (%)\"\n",
        "  y_label = \"Models trained\"\n",
        "\n",
        "  accs = model_acc_dict.values()\n",
        "\n",
        "  fig = plt.figure(figsize=fig_size)\n",
        "  ax = fig.gca()\n",
        "  p1 = ax.barh(model_names, accs)\n",
        "\n",
        "  ax.set_title(title, fontsize=12)\n",
        "  ax.set_xlabel(x_label)\n",
        "  ax.set_ylabel(y_label)\n",
        "\n",
        "  for i, v in enumerate(accs):\n",
        "      ax.text(v//2, i, str(v), color='white', fontsize=9, ha='left', va='center')\n",
        "\n",
        "  fig.tight_layout()\n",
        "  plt.show()\n"
      ],
      "metadata": {
        "id": "MVL0Hwt3W5wp"
      },
      "execution_count": 26,
      "outputs": []
    },
    {
      "cell_type": "markdown",
      "metadata": {
        "id": "EAr74ORbD_-u"
      },
      "source": [
        "## Data Analysis "
      ]
    },
    {
      "cell_type": "code",
      "execution_count": 27,
      "metadata": {
        "id": "cqjCn4t2D_-u",
        "outputId": "4060de00-48a3-496a-ff75-07d3b0ea9f6b",
        "colab": {
          "base_uri": "https://localhost:8080/",
          "height": 206
        }
      },
      "outputs": [
        {
          "output_type": "display_data",
          "data": {
            "text/plain": [
              "  Div        Date   HomeTeam    AwayTeam  FTHG  FTAG FTR  HTHG  HTAG HTR  HS  \\\n",
              "0  E0  17/08/2002  Blackburn  Sunderland     0     0   D     0     0   D  15   \n",
              "1  E0  17/08/2002   Charlton     Chelsea     2     3   A     2     1   H   5   \n",
              "2  E0  17/08/2002    Everton   Tottenham     2     2   D     1     0   H  13   \n",
              "3  E0  17/08/2002     Fulham      Bolton     4     1   H     3     1   H  13   \n",
              "4  E0  17/08/2002      Leeds    Man City     3     0   H     2     0   H  13   \n",
              "\n",
              "   AS  HST  AST  HF  AF  HC  AC  HY  AY  HR  AR  \n",
              "0   7    5    3  14  11   9   1   1   2   0   0  \n",
              "1  21    5   12  10  12   3   6   0   3   1   0  \n",
              "2  10    9    5  18   4  10   5   1   1   0   0  \n",
              "3   3    6    1  16  12   7   4   1   2   0   0  \n",
              "4  18    8   10  13  13   2   7   1   1   0   0  "
            ],
            "text/html": [
              "\n",
              "  <div id=\"df-9a692603-3af5-4902-93d3-2ab4c896ff27\">\n",
              "    <div class=\"colab-df-container\">\n",
              "      <div>\n",
              "<style scoped>\n",
              "    .dataframe tbody tr th:only-of-type {\n",
              "        vertical-align: middle;\n",
              "    }\n",
              "\n",
              "    .dataframe tbody tr th {\n",
              "        vertical-align: top;\n",
              "    }\n",
              "\n",
              "    .dataframe thead th {\n",
              "        text-align: right;\n",
              "    }\n",
              "</style>\n",
              "<table border=\"1\" class=\"dataframe\">\n",
              "  <thead>\n",
              "    <tr style=\"text-align: right;\">\n",
              "      <th></th>\n",
              "      <th>Div</th>\n",
              "      <th>Date</th>\n",
              "      <th>HomeTeam</th>\n",
              "      <th>AwayTeam</th>\n",
              "      <th>FTHG</th>\n",
              "      <th>FTAG</th>\n",
              "      <th>FTR</th>\n",
              "      <th>HTHG</th>\n",
              "      <th>HTAG</th>\n",
              "      <th>HTR</th>\n",
              "      <th>HS</th>\n",
              "      <th>AS</th>\n",
              "      <th>HST</th>\n",
              "      <th>AST</th>\n",
              "      <th>HF</th>\n",
              "      <th>AF</th>\n",
              "      <th>HC</th>\n",
              "      <th>AC</th>\n",
              "      <th>HY</th>\n",
              "      <th>AY</th>\n",
              "      <th>HR</th>\n",
              "      <th>AR</th>\n",
              "    </tr>\n",
              "  </thead>\n",
              "  <tbody>\n",
              "    <tr>\n",
              "      <th>0</th>\n",
              "      <td>E0</td>\n",
              "      <td>17/08/2002</td>\n",
              "      <td>Blackburn</td>\n",
              "      <td>Sunderland</td>\n",
              "      <td>0</td>\n",
              "      <td>0</td>\n",
              "      <td>D</td>\n",
              "      <td>0</td>\n",
              "      <td>0</td>\n",
              "      <td>D</td>\n",
              "      <td>15</td>\n",
              "      <td>7</td>\n",
              "      <td>5</td>\n",
              "      <td>3</td>\n",
              "      <td>14</td>\n",
              "      <td>11</td>\n",
              "      <td>9</td>\n",
              "      <td>1</td>\n",
              "      <td>1</td>\n",
              "      <td>2</td>\n",
              "      <td>0</td>\n",
              "      <td>0</td>\n",
              "    </tr>\n",
              "    <tr>\n",
              "      <th>1</th>\n",
              "      <td>E0</td>\n",
              "      <td>17/08/2002</td>\n",
              "      <td>Charlton</td>\n",
              "      <td>Chelsea</td>\n",
              "      <td>2</td>\n",
              "      <td>3</td>\n",
              "      <td>A</td>\n",
              "      <td>2</td>\n",
              "      <td>1</td>\n",
              "      <td>H</td>\n",
              "      <td>5</td>\n",
              "      <td>21</td>\n",
              "      <td>5</td>\n",
              "      <td>12</td>\n",
              "      <td>10</td>\n",
              "      <td>12</td>\n",
              "      <td>3</td>\n",
              "      <td>6</td>\n",
              "      <td>0</td>\n",
              "      <td>3</td>\n",
              "      <td>1</td>\n",
              "      <td>0</td>\n",
              "    </tr>\n",
              "    <tr>\n",
              "      <th>2</th>\n",
              "      <td>E0</td>\n",
              "      <td>17/08/2002</td>\n",
              "      <td>Everton</td>\n",
              "      <td>Tottenham</td>\n",
              "      <td>2</td>\n",
              "      <td>2</td>\n",
              "      <td>D</td>\n",
              "      <td>1</td>\n",
              "      <td>0</td>\n",
              "      <td>H</td>\n",
              "      <td>13</td>\n",
              "      <td>10</td>\n",
              "      <td>9</td>\n",
              "      <td>5</td>\n",
              "      <td>18</td>\n",
              "      <td>4</td>\n",
              "      <td>10</td>\n",
              "      <td>5</td>\n",
              "      <td>1</td>\n",
              "      <td>1</td>\n",
              "      <td>0</td>\n",
              "      <td>0</td>\n",
              "    </tr>\n",
              "    <tr>\n",
              "      <th>3</th>\n",
              "      <td>E0</td>\n",
              "      <td>17/08/2002</td>\n",
              "      <td>Fulham</td>\n",
              "      <td>Bolton</td>\n",
              "      <td>4</td>\n",
              "      <td>1</td>\n",
              "      <td>H</td>\n",
              "      <td>3</td>\n",
              "      <td>1</td>\n",
              "      <td>H</td>\n",
              "      <td>13</td>\n",
              "      <td>3</td>\n",
              "      <td>6</td>\n",
              "      <td>1</td>\n",
              "      <td>16</td>\n",
              "      <td>12</td>\n",
              "      <td>7</td>\n",
              "      <td>4</td>\n",
              "      <td>1</td>\n",
              "      <td>2</td>\n",
              "      <td>0</td>\n",
              "      <td>0</td>\n",
              "    </tr>\n",
              "    <tr>\n",
              "      <th>4</th>\n",
              "      <td>E0</td>\n",
              "      <td>17/08/2002</td>\n",
              "      <td>Leeds</td>\n",
              "      <td>Man City</td>\n",
              "      <td>3</td>\n",
              "      <td>0</td>\n",
              "      <td>H</td>\n",
              "      <td>2</td>\n",
              "      <td>0</td>\n",
              "      <td>H</td>\n",
              "      <td>13</td>\n",
              "      <td>18</td>\n",
              "      <td>8</td>\n",
              "      <td>10</td>\n",
              "      <td>13</td>\n",
              "      <td>13</td>\n",
              "      <td>2</td>\n",
              "      <td>7</td>\n",
              "      <td>1</td>\n",
              "      <td>1</td>\n",
              "      <td>0</td>\n",
              "      <td>0</td>\n",
              "    </tr>\n",
              "  </tbody>\n",
              "</table>\n",
              "</div>\n",
              "      <button class=\"colab-df-convert\" onclick=\"convertToInteractive('df-9a692603-3af5-4902-93d3-2ab4c896ff27')\"\n",
              "              title=\"Convert this dataframe to an interactive table.\"\n",
              "              style=\"display:none;\">\n",
              "        \n",
              "  <svg xmlns=\"http://www.w3.org/2000/svg\" height=\"24px\"viewBox=\"0 0 24 24\"\n",
              "       width=\"24px\">\n",
              "    <path d=\"M0 0h24v24H0V0z\" fill=\"none\"/>\n",
              "    <path d=\"M18.56 5.44l.94 2.06.94-2.06 2.06-.94-2.06-.94-.94-2.06-.94 2.06-2.06.94zm-11 1L8.5 8.5l.94-2.06 2.06-.94-2.06-.94L8.5 2.5l-.94 2.06-2.06.94zm10 10l.94 2.06.94-2.06 2.06-.94-2.06-.94-.94-2.06-.94 2.06-2.06.94z\"/><path d=\"M17.41 7.96l-1.37-1.37c-.4-.4-.92-.59-1.43-.59-.52 0-1.04.2-1.43.59L10.3 9.45l-7.72 7.72c-.78.78-.78 2.05 0 2.83L4 21.41c.39.39.9.59 1.41.59.51 0 1.02-.2 1.41-.59l7.78-7.78 2.81-2.81c.8-.78.8-2.07 0-2.86zM5.41 20L4 18.59l7.72-7.72 1.47 1.35L5.41 20z\"/>\n",
              "  </svg>\n",
              "      </button>\n",
              "      \n",
              "  <style>\n",
              "    .colab-df-container {\n",
              "      display:flex;\n",
              "      flex-wrap:wrap;\n",
              "      gap: 12px;\n",
              "    }\n",
              "\n",
              "    .colab-df-convert {\n",
              "      background-color: #E8F0FE;\n",
              "      border: none;\n",
              "      border-radius: 50%;\n",
              "      cursor: pointer;\n",
              "      display: none;\n",
              "      fill: #1967D2;\n",
              "      height: 32px;\n",
              "      padding: 0 0 0 0;\n",
              "      width: 32px;\n",
              "    }\n",
              "\n",
              "    .colab-df-convert:hover {\n",
              "      background-color: #E2EBFA;\n",
              "      box-shadow: 0px 1px 2px rgba(60, 64, 67, 0.3), 0px 1px 3px 1px rgba(60, 64, 67, 0.15);\n",
              "      fill: #174EA6;\n",
              "    }\n",
              "\n",
              "    [theme=dark] .colab-df-convert {\n",
              "      background-color: #3B4455;\n",
              "      fill: #D2E3FC;\n",
              "    }\n",
              "\n",
              "    [theme=dark] .colab-df-convert:hover {\n",
              "      background-color: #434B5C;\n",
              "      box-shadow: 0px 1px 3px 1px rgba(0, 0, 0, 0.15);\n",
              "      filter: drop-shadow(0px 1px 2px rgba(0, 0, 0, 0.3));\n",
              "      fill: #FFFFFF;\n",
              "    }\n",
              "  </style>\n",
              "\n",
              "      <script>\n",
              "        const buttonEl =\n",
              "          document.querySelector('#df-9a692603-3af5-4902-93d3-2ab4c896ff27 button.colab-df-convert');\n",
              "        buttonEl.style.display =\n",
              "          google.colab.kernel.accessAllowed ? 'block' : 'none';\n",
              "\n",
              "        async function convertToInteractive(key) {\n",
              "          const element = document.querySelector('#df-9a692603-3af5-4902-93d3-2ab4c896ff27');\n",
              "          const dataTable =\n",
              "            await google.colab.kernel.invokeFunction('convertToInteractive',\n",
              "                                                     [key], {});\n",
              "          if (!dataTable) return;\n",
              "\n",
              "          const docLinkHtml = 'Like what you see? Visit the ' +\n",
              "            '<a target=\"_blank\" href=https://colab.research.google.com/notebooks/data_table.ipynb>data table notebook</a>'\n",
              "            + ' to learn more about interactive tables.';\n",
              "          element.innerHTML = '';\n",
              "          dataTable['output_type'] = 'display_data';\n",
              "          await google.colab.output.renderOutput(dataTable, element);\n",
              "          const docLink = document.createElement('div');\n",
              "          docLink.innerHTML = docLinkHtml;\n",
              "          element.appendChild(docLink);\n",
              "        }\n",
              "      </script>\n",
              "    </div>\n",
              "  </div>\n",
              "  "
            ]
          },
          "metadata": {}
        }
      ],
      "source": [
        "df_epl = pd.read_csv(dirName_trainData)\n",
        "cols = [\"Div\",\"Date\",\"HomeTeam\",\"AwayTeam\",\"FTHG\", \"FTAG\",\"FTR\",\"HTHG\",\"HTAG\",\"HTR\",\"HS\",\"AS\", \"HST\",\"AST\",\"HF\",\"AF\",\"HC\",\"AC\",\"HY\",\"AY\",\"HR\",\"AR\"]\n",
        "\n",
        "df_epl = df_epl.loc[:, cols]\n",
        "df_epl = df_epl.reset_index(drop=True)\n",
        "\n",
        "with pd.option_context('display.max_rows', None, 'display.max_columns', None):  # more options can be specified also\n",
        "    display(df_epl.head())"
      ]
    },
    {
      "cell_type": "markdown",
      "source": [
        "Here is a breakdown of the initial features we have from our dataset:\n",
        "\n",
        "Div = League Division\n",
        "\n",
        "Date = Match Date (dd/mm/yy)\n",
        "\n",
        "HomeTeam = Home Team\n",
        "\n",
        "AwayTeam = Away Team\n",
        "\n",
        "FTHG = Full Time Home Team Goals\n",
        "\n",
        "FTAG = Full Time Away Team Goals\n",
        "\n",
        "FTR = Full Time Result (H=Home Win, D=Draw, A=Away Win)\n",
        "\n",
        "HTHG = Half Time Home Team Goals\n",
        "\n",
        "HTAG = Half Time Away Team Goals\n",
        "\n",
        "HTR = Half Time Result (H=Home Win, D=Draw, A=Away Win)\n",
        "\n",
        "HS = Home Team Shots\n",
        "\n",
        "AS = Away Team Shots\n",
        "\n",
        "HST = Home Team Shots on Target\n",
        "\n",
        "AST = Away Team Shots on Target\n",
        "\n",
        "HF = Home Team Fouls Committed\n",
        "\n",
        "AF = Away Team Fouls Committed\n",
        "\n",
        "HC = Home Team Corners\n",
        "\n",
        "AC = Away Team Corners\n",
        "\n",
        "HY = Home Team Yellow Cards\n",
        "\n",
        "AY = Away Team Yellow Cards\n",
        "\n",
        "HR = Home Team Red Cards\n",
        "\n",
        "AR = Away Team Red Cards"
      ],
      "metadata": {
        "id": "YQhNVeq47lK8"
      }
    },
    {
      "cell_type": "code",
      "execution_count": 28,
      "metadata": {
        "id": "cXWbiSIAD_-v"
      },
      "outputs": [],
      "source": [
        "# Transform the date column from strings into datetime objects\n",
        "df_epl[\"Date\"] = pd.to_datetime(df_epl[\"Date\"], dayfirst=True)\n",
        "# Turn the catergorical data into labels using same method from before\n",
        "df_epl[\"AwayTeam_Enc\"] = df_epl[\"AwayTeam\"].astype(\"category\").cat.codes\n",
        "df_epl[\"HomeTeam_Enc\"] = df_epl[\"HomeTeam\"].astype(\"category\").cat.codes\n",
        "df_epl = df_epl.drop(['HomeTeam', 'AwayTeam', 'Div'], axis=1)\n",
        "# Transform the date column into day and month columns and Add into dataframe (Extract days & months from date)\n",
        "df_epl[\"Date\"] = pd.to_datetime(df_epl[\"Date\"])\n",
        "df_epl[\"Day\"] = df_epl[\"Date\"].dt.day\n",
        "df_epl[\"Month\"] = df_epl[\"Date\"].dt.month \n",
        "df_epl[\"Year\"] = df_epl[\"Date\"].dt.year"
      ]
    },
    {
      "cell_type": "code",
      "execution_count": 29,
      "metadata": {
        "id": "SMP_iu5-D_-w",
        "outputId": "d06116fd-a70e-4178-a4bf-2264db790f64",
        "colab": {
          "base_uri": "https://localhost:8080/",
          "height": 235
        }
      },
      "outputs": [
        {
          "output_type": "execute_result",
          "data": {
            "text/plain": [
              "        Date  FTHG  FTAG FTR  HTHG  HTAG HTR  HS  AS  HST  ...  AC  HY  AY  \\\n",
              "0 2002-08-17     0     0   D     0     0   D  15   7    5  ...   1   1   2   \n",
              "1 2002-08-17     2     3   A     2     1   H   5  21    5  ...   6   0   3   \n",
              "2 2002-08-17     2     2   D     1     0   H  13  10    9  ...   5   1   1   \n",
              "3 2002-08-17     4     1   H     3     1   H  13   3    6  ...   4   1   2   \n",
              "4 2002-08-17     3     0   H     2     0   H  13  18    8  ...   7   1   1   \n",
              "\n",
              "   HR  AR  AwayTeam_Enc  HomeTeam_Enc  Day  Month  Year  \n",
              "0   0   0            34             3   17      8  2002  \n",
              "1   1   0            12            11   17      8  2002  \n",
              "2   0   0            36            15   17      8  2002  \n",
              "3   0   0             5            16   17      8  2002  \n",
              "4   0   0            22            19   17      8  2002  \n",
              "\n",
              "[5 rows x 24 columns]"
            ],
            "text/html": [
              "\n",
              "  <div id=\"df-d0990948-6624-4276-85b7-24a71e85f784\">\n",
              "    <div class=\"colab-df-container\">\n",
              "      <div>\n",
              "<style scoped>\n",
              "    .dataframe tbody tr th:only-of-type {\n",
              "        vertical-align: middle;\n",
              "    }\n",
              "\n",
              "    .dataframe tbody tr th {\n",
              "        vertical-align: top;\n",
              "    }\n",
              "\n",
              "    .dataframe thead th {\n",
              "        text-align: right;\n",
              "    }\n",
              "</style>\n",
              "<table border=\"1\" class=\"dataframe\">\n",
              "  <thead>\n",
              "    <tr style=\"text-align: right;\">\n",
              "      <th></th>\n",
              "      <th>Date</th>\n",
              "      <th>FTHG</th>\n",
              "      <th>FTAG</th>\n",
              "      <th>FTR</th>\n",
              "      <th>HTHG</th>\n",
              "      <th>HTAG</th>\n",
              "      <th>HTR</th>\n",
              "      <th>HS</th>\n",
              "      <th>AS</th>\n",
              "      <th>HST</th>\n",
              "      <th>...</th>\n",
              "      <th>AC</th>\n",
              "      <th>HY</th>\n",
              "      <th>AY</th>\n",
              "      <th>HR</th>\n",
              "      <th>AR</th>\n",
              "      <th>AwayTeam_Enc</th>\n",
              "      <th>HomeTeam_Enc</th>\n",
              "      <th>Day</th>\n",
              "      <th>Month</th>\n",
              "      <th>Year</th>\n",
              "    </tr>\n",
              "  </thead>\n",
              "  <tbody>\n",
              "    <tr>\n",
              "      <th>0</th>\n",
              "      <td>2002-08-17</td>\n",
              "      <td>0</td>\n",
              "      <td>0</td>\n",
              "      <td>D</td>\n",
              "      <td>0</td>\n",
              "      <td>0</td>\n",
              "      <td>D</td>\n",
              "      <td>15</td>\n",
              "      <td>7</td>\n",
              "      <td>5</td>\n",
              "      <td>...</td>\n",
              "      <td>1</td>\n",
              "      <td>1</td>\n",
              "      <td>2</td>\n",
              "      <td>0</td>\n",
              "      <td>0</td>\n",
              "      <td>34</td>\n",
              "      <td>3</td>\n",
              "      <td>17</td>\n",
              "      <td>8</td>\n",
              "      <td>2002</td>\n",
              "    </tr>\n",
              "    <tr>\n",
              "      <th>1</th>\n",
              "      <td>2002-08-17</td>\n",
              "      <td>2</td>\n",
              "      <td>3</td>\n",
              "      <td>A</td>\n",
              "      <td>2</td>\n",
              "      <td>1</td>\n",
              "      <td>H</td>\n",
              "      <td>5</td>\n",
              "      <td>21</td>\n",
              "      <td>5</td>\n",
              "      <td>...</td>\n",
              "      <td>6</td>\n",
              "      <td>0</td>\n",
              "      <td>3</td>\n",
              "      <td>1</td>\n",
              "      <td>0</td>\n",
              "      <td>12</td>\n",
              "      <td>11</td>\n",
              "      <td>17</td>\n",
              "      <td>8</td>\n",
              "      <td>2002</td>\n",
              "    </tr>\n",
              "    <tr>\n",
              "      <th>2</th>\n",
              "      <td>2002-08-17</td>\n",
              "      <td>2</td>\n",
              "      <td>2</td>\n",
              "      <td>D</td>\n",
              "      <td>1</td>\n",
              "      <td>0</td>\n",
              "      <td>H</td>\n",
              "      <td>13</td>\n",
              "      <td>10</td>\n",
              "      <td>9</td>\n",
              "      <td>...</td>\n",
              "      <td>5</td>\n",
              "      <td>1</td>\n",
              "      <td>1</td>\n",
              "      <td>0</td>\n",
              "      <td>0</td>\n",
              "      <td>36</td>\n",
              "      <td>15</td>\n",
              "      <td>17</td>\n",
              "      <td>8</td>\n",
              "      <td>2002</td>\n",
              "    </tr>\n",
              "    <tr>\n",
              "      <th>3</th>\n",
              "      <td>2002-08-17</td>\n",
              "      <td>4</td>\n",
              "      <td>1</td>\n",
              "      <td>H</td>\n",
              "      <td>3</td>\n",
              "      <td>1</td>\n",
              "      <td>H</td>\n",
              "      <td>13</td>\n",
              "      <td>3</td>\n",
              "      <td>6</td>\n",
              "      <td>...</td>\n",
              "      <td>4</td>\n",
              "      <td>1</td>\n",
              "      <td>2</td>\n",
              "      <td>0</td>\n",
              "      <td>0</td>\n",
              "      <td>5</td>\n",
              "      <td>16</td>\n",
              "      <td>17</td>\n",
              "      <td>8</td>\n",
              "      <td>2002</td>\n",
              "    </tr>\n",
              "    <tr>\n",
              "      <th>4</th>\n",
              "      <td>2002-08-17</td>\n",
              "      <td>3</td>\n",
              "      <td>0</td>\n",
              "      <td>H</td>\n",
              "      <td>2</td>\n",
              "      <td>0</td>\n",
              "      <td>H</td>\n",
              "      <td>13</td>\n",
              "      <td>18</td>\n",
              "      <td>8</td>\n",
              "      <td>...</td>\n",
              "      <td>7</td>\n",
              "      <td>1</td>\n",
              "      <td>1</td>\n",
              "      <td>0</td>\n",
              "      <td>0</td>\n",
              "      <td>22</td>\n",
              "      <td>19</td>\n",
              "      <td>17</td>\n",
              "      <td>8</td>\n",
              "      <td>2002</td>\n",
              "    </tr>\n",
              "  </tbody>\n",
              "</table>\n",
              "<p>5 rows × 24 columns</p>\n",
              "</div>\n",
              "      <button class=\"colab-df-convert\" onclick=\"convertToInteractive('df-d0990948-6624-4276-85b7-24a71e85f784')\"\n",
              "              title=\"Convert this dataframe to an interactive table.\"\n",
              "              style=\"display:none;\">\n",
              "        \n",
              "  <svg xmlns=\"http://www.w3.org/2000/svg\" height=\"24px\"viewBox=\"0 0 24 24\"\n",
              "       width=\"24px\">\n",
              "    <path d=\"M0 0h24v24H0V0z\" fill=\"none\"/>\n",
              "    <path d=\"M18.56 5.44l.94 2.06.94-2.06 2.06-.94-2.06-.94-.94-2.06-.94 2.06-2.06.94zm-11 1L8.5 8.5l.94-2.06 2.06-.94-2.06-.94L8.5 2.5l-.94 2.06-2.06.94zm10 10l.94 2.06.94-2.06 2.06-.94-2.06-.94-.94-2.06-.94 2.06-2.06.94z\"/><path d=\"M17.41 7.96l-1.37-1.37c-.4-.4-.92-.59-1.43-.59-.52 0-1.04.2-1.43.59L10.3 9.45l-7.72 7.72c-.78.78-.78 2.05 0 2.83L4 21.41c.39.39.9.59 1.41.59.51 0 1.02-.2 1.41-.59l7.78-7.78 2.81-2.81c.8-.78.8-2.07 0-2.86zM5.41 20L4 18.59l7.72-7.72 1.47 1.35L5.41 20z\"/>\n",
              "  </svg>\n",
              "      </button>\n",
              "      \n",
              "  <style>\n",
              "    .colab-df-container {\n",
              "      display:flex;\n",
              "      flex-wrap:wrap;\n",
              "      gap: 12px;\n",
              "    }\n",
              "\n",
              "    .colab-df-convert {\n",
              "      background-color: #E8F0FE;\n",
              "      border: none;\n",
              "      border-radius: 50%;\n",
              "      cursor: pointer;\n",
              "      display: none;\n",
              "      fill: #1967D2;\n",
              "      height: 32px;\n",
              "      padding: 0 0 0 0;\n",
              "      width: 32px;\n",
              "    }\n",
              "\n",
              "    .colab-df-convert:hover {\n",
              "      background-color: #E2EBFA;\n",
              "      box-shadow: 0px 1px 2px rgba(60, 64, 67, 0.3), 0px 1px 3px 1px rgba(60, 64, 67, 0.15);\n",
              "      fill: #174EA6;\n",
              "    }\n",
              "\n",
              "    [theme=dark] .colab-df-convert {\n",
              "      background-color: #3B4455;\n",
              "      fill: #D2E3FC;\n",
              "    }\n",
              "\n",
              "    [theme=dark] .colab-df-convert:hover {\n",
              "      background-color: #434B5C;\n",
              "      box-shadow: 0px 1px 3px 1px rgba(0, 0, 0, 0.15);\n",
              "      filter: drop-shadow(0px 1px 2px rgba(0, 0, 0, 0.3));\n",
              "      fill: #FFFFFF;\n",
              "    }\n",
              "  </style>\n",
              "\n",
              "      <script>\n",
              "        const buttonEl =\n",
              "          document.querySelector('#df-d0990948-6624-4276-85b7-24a71e85f784 button.colab-df-convert');\n",
              "        buttonEl.style.display =\n",
              "          google.colab.kernel.accessAllowed ? 'block' : 'none';\n",
              "\n",
              "        async function convertToInteractive(key) {\n",
              "          const element = document.querySelector('#df-d0990948-6624-4276-85b7-24a71e85f784');\n",
              "          const dataTable =\n",
              "            await google.colab.kernel.invokeFunction('convertToInteractive',\n",
              "                                                     [key], {});\n",
              "          if (!dataTable) return;\n",
              "\n",
              "          const docLinkHtml = 'Like what you see? Visit the ' +\n",
              "            '<a target=\"_blank\" href=https://colab.research.google.com/notebooks/data_table.ipynb>data table notebook</a>'\n",
              "            + ' to learn more about interactive tables.';\n",
              "          element.innerHTML = '';\n",
              "          dataTable['output_type'] = 'display_data';\n",
              "          await google.colab.output.renderOutput(dataTable, element);\n",
              "          const docLink = document.createElement('div');\n",
              "          docLink.innerHTML = docLinkHtml;\n",
              "          element.appendChild(docLink);\n",
              "        }\n",
              "      </script>\n",
              "    </div>\n",
              "  </div>\n",
              "  "
            ]
          },
          "metadata": {},
          "execution_count": 29
        }
      ],
      "source": [
        "df_epl.head()"
      ]
    },
    {
      "cell_type": "markdown",
      "source": [
        "Let's visualize the dataset and common more and less obvious trends in it.\n",
        "\n",
        "First of all, let's check if the classification problem can be considered balanced by plotting a histogram of classification labels."
      ],
      "metadata": {
        "id": "qQqmlHe3a6VK"
      }
    },
    {
      "cell_type": "code",
      "source": [
        "sns.histplot(df_epl, x='FTR')"
      ],
      "metadata": {
        "colab": {
          "base_uri": "https://localhost:8080/",
          "height": 297
        },
        "id": "lctUitgsbhqj",
        "outputId": "331fa0e7-b107-46fc-9b99-d35570912846"
      },
      "execution_count": 30,
      "outputs": [
        {
          "output_type": "execute_result",
          "data": {
            "text/plain": [
              "<matplotlib.axes._subplots.AxesSubplot at 0x7f85df12bbd0>"
            ]
          },
          "metadata": {},
          "execution_count": 30
        },
        {
          "output_type": "display_data",
          "data": {
            "text/plain": [
              "<Figure size 432x288 with 1 Axes>"
            ],
            "image/png": "[encoded data removed]"
          },
          "metadata": {
            "needs_background": "light"
          }
        }
      ]
    },
    {
      "cell_type": "markdown",
      "source": [
        "We've got visibly more home team wins, this may indicate that if a team plays at home, it has more chances of winning a game. Let's see if playing as a home team gives better scores in other features. "
      ],
      "metadata": {
        "id": "ZbJ7XcpGcBs3"
      }
    },
    {
      "cell_type": "code",
      "source": [
        "fig=plt.figure(figsize=(18, 8), dpi= 80, facecolor='w', edgecolor='k')\n",
        "\n",
        "# width of the bars\n",
        "barWidth = 0.3\n",
        "# Choose the height of the blue bars\n",
        "bars1 = np.array(df_epl[1:2][(['FTHG','HTHG','HS','HST','HHW','HC','HF','HO','HY','HR'])]).flatten()\n",
        "# Choose the height of the cyan bars\n",
        "bars2 = np.array(df_epl[1:2][(['FTAG','HTAG','AS','AST','AHW','AC','AF','AO','AY','AR'])]).flatten()\n",
        "# Choose the height of the error bars (bars1)\n",
        "yer1 = np.array(df_epl[2:3][(['FTHG','HTHG','HS','HST','HHW','HC','HF','HO','HY','HR'])]).flatten()\n",
        "# Choose the height of the error bars (bars2)\n",
        "yer2 = np.array(df_epl[2:3][(['FTAG','HTAG','AS','AST','AHW','AC','AF','AO','AY','AR'])]).flatten()\n",
        "# The x position of bars\n",
        "r1 = np.arange(len(bars1.flatten()))\n",
        "r2 = [x + barWidth for x in r1]\n",
        "# Create blue bars\n",
        "plt.bar(r1, bars1, width = barWidth, color = 'blue', edgecolor = 'black', yerr=yer1, capsize=7, label='Home_Side')\n",
        "# Create cyan bars\n",
        "plt.bar(r2, bars2, width = barWidth, color = 'red', edgecolor = 'black', yerr=yer2, capsize=7, label='Away_Side')\n",
        "# general layout\n",
        "plt.xticks([r + barWidth for r in range(len(bars1))], ['Goals Scored', 'Half-time Gaols Scored', 'Shots','Shots on target','Hit Woodwork', 'Corners','Fouls','Offsides','Yellow Cards','Red Cards','Booking points'])\n",
        "plt.ylabel('Average Value')\n",
        "plt.ylim(0)\n",
        "plt.legend()\n",
        "# Show graphic\n",
        "plt.show()"
      ],
      "metadata": {
        "colab": {
          "base_uri": "https://localhost:8080/",
          "height": 417
        },
        "id": "f7-nyXAScWU-",
        "outputId": "7d93f061-6c52-4c33-9a18-70d2ac3da04f"
      },
      "execution_count": 31,
      "outputs": [
        {
          "output_type": "error",
          "ename": "KeyError",
          "evalue": "ignored",
          "traceback": [
            "\u001b[0;31m---------------------------------------------------------------------------\u001b[0m",
            "\u001b[0;31mKeyError\u001b[0m                                  Traceback (most recent call last)",
            "\u001b[0;32m<ipython-input-31-fba8bfd8d5bf>\u001b[0m in \u001b[0;36m<module>\u001b[0;34m\u001b[0m\n\u001b[1;32m      4\u001b[0m \u001b[0mbarWidth\u001b[0m \u001b[0;34m=\u001b[0m \u001b[0;36m0.3\u001b[0m\u001b[0;34m\u001b[0m\u001b[0;34m\u001b[0m\u001b[0m\n\u001b[1;32m      5\u001b[0m \u001b[0;31m# Choose the height of the blue bars\u001b[0m\u001b[0;34m\u001b[0m\u001b[0;34m\u001b[0m\u001b[0;34m\u001b[0m\u001b[0m\n\u001b[0;32m----> 6\u001b[0;31m \u001b[0mbars1\u001b[0m \u001b[0;34m=\u001b[0m \u001b[0mnp\u001b[0m\u001b[0;34m.\u001b[0m\u001b[0marray\u001b[0m\u001b[0;34m(\u001b[0m\u001b[0mdf_epl\u001b[0m\u001b[0;34m[\u001b[0m\u001b[0;36m1\u001b[0m\u001b[0;34m:\u001b[0m\u001b[0;36m2\u001b[0m\u001b[0;34m]\u001b[0m\u001b[0;34m[\u001b[0m\u001b[0;34m(\u001b[0m\u001b[0;34m[\u001b[0m\u001b[0;34m'FTHG'\u001b[0m\u001b[0;34m,\u001b[0m\u001b[0;34m'HTHG'\u001b[0m\u001b[0;34m,\u001b[0m\u001b[0;34m'HS'\u001b[0m\u001b[0;34m,\u001b[0m\u001b[0;34m'HST'\u001b[0m\u001b[0;34m,\u001b[0m\u001b[0;34m'HHW'\u001b[0m\u001b[0;34m,\u001b[0m\u001b[0;34m'HC'\u001b[0m\u001b[0;34m,\u001b[0m\u001b[0;34m'HF'\u001b[0m\u001b[0;34m,\u001b[0m\u001b[0;34m'HO'\u001b[0m\u001b[0;34m,\u001b[0m\u001b[0;34m'HY'\u001b[0m\u001b[0;34m,\u001b[0m\u001b[0;34m'HR'\u001b[0m\u001b[0;34m]\u001b[0m\u001b[0;34m)\u001b[0m\u001b[0;34m]\u001b[0m\u001b[0;34m)\u001b[0m\u001b[0;34m.\u001b[0m\u001b[0mflatten\u001b[0m\u001b[0;34m(\u001b[0m\u001b[0;34m)\u001b[0m\u001b[0;34m\u001b[0m\u001b[0;34m\u001b[0m\u001b[0m\n\u001b[0m\u001b[1;32m      7\u001b[0m \u001b[0;31m# Choose the height of the cyan bars\u001b[0m\u001b[0;34m\u001b[0m\u001b[0;34m\u001b[0m\u001b[0;34m\u001b[0m\u001b[0m\n\u001b[1;32m      8\u001b[0m \u001b[0mbars2\u001b[0m \u001b[0;34m=\u001b[0m \u001b[0mnp\u001b[0m\u001b[0;34m.\u001b[0m\u001b[0marray\u001b[0m\u001b[0;34m(\u001b[0m\u001b[0mdf_epl\u001b[0m\u001b[0;34m[\u001b[0m\u001b[0;36m1\u001b[0m\u001b[0;34m:\u001b[0m\u001b[0;36m2\u001b[0m\u001b[0;34m]\u001b[0m\u001b[0;34m[\u001b[0m\u001b[0;34m(\u001b[0m\u001b[0;34m[\u001b[0m\u001b[0;34m'FTAG'\u001b[0m\u001b[0;34m,\u001b[0m\u001b[0;34m'HTAG'\u001b[0m\u001b[0;34m,\u001b[0m\u001b[0;34m'AS'\u001b[0m\u001b[0;34m,\u001b[0m\u001b[0;34m'AST'\u001b[0m\u001b[0;34m,\u001b[0m\u001b[0;34m'AHW'\u001b[0m\u001b[0;34m,\u001b[0m\u001b[0;34m'AC'\u001b[0m\u001b[0;34m,\u001b[0m\u001b[0;34m'AF'\u001b[0m\u001b[0;34m,\u001b[0m\u001b[0;34m'AO'\u001b[0m\u001b[0;34m,\u001b[0m\u001b[0;34m'AY'\u001b[0m\u001b[0;34m,\u001b[0m\u001b[0;34m'AR'\u001b[0m\u001b[0;34m]\u001b[0m\u001b[0;34m)\u001b[0m\u001b[0;34m]\u001b[0m\u001b[0;34m)\u001b[0m\u001b[0;34m.\u001b[0m\u001b[0mflatten\u001b[0m\u001b[0;34m(\u001b[0m\u001b[0;34m)\u001b[0m\u001b[0;34m\u001b[0m\u001b[0;34m\u001b[0m\u001b[0m\n",
            "\u001b[0;32m/usr/local/lib/python3.7/dist-packages/pandas/core/frame.py\u001b[0m in \u001b[0;36m__getitem__\u001b[0;34m(self, key)\u001b[0m\n\u001b[1;32m   3462\u001b[0m             \u001b[0;32mif\u001b[0m \u001b[0mis_iterator\u001b[0m\u001b[0;34m(\u001b[0m\u001b[0mkey\u001b[0m\u001b[0;34m)\u001b[0m\u001b[0;34m:\u001b[0m\u001b[0;34m\u001b[0m\u001b[0;34m\u001b[0m\u001b[0m\n\u001b[1;32m   3463\u001b[0m                 \u001b[0mkey\u001b[0m \u001b[0;34m=\u001b[0m \u001b[0mlist\u001b[0m\u001b[0;34m(\u001b[0m\u001b[0mkey\u001b[0m\u001b[0;34m)\u001b[0m\u001b[0;34m\u001b[0m\u001b[0;34m\u001b[0m\u001b[0m\n\u001b[0;32m-> 3464\u001b[0;31m             \u001b[0mindexer\u001b[0m \u001b[0;34m=\u001b[0m \u001b[0mself\u001b[0m\u001b[0;34m.\u001b[0m\u001b[0mloc\u001b[0m\u001b[0;34m.\u001b[0m\u001b[0m_get_listlike_indexer\u001b[0m\u001b[0;34m(\u001b[0m\u001b[0mkey\u001b[0m\u001b[0;34m,\u001b[0m \u001b[0maxis\u001b[0m\u001b[0;34m=\u001b[0m\u001b[0;36m1\u001b[0m\u001b[0;34m)\u001b[0m\u001b[0;34m[\u001b[0m\u001b[0;36m1\u001b[0m\u001b[0;34m]\u001b[0m\u001b[0;34m\u001b[0m\u001b[0;34m\u001b[0m\u001b[0m\n\u001b[0m\u001b[1;32m   3465\u001b[0m \u001b[0;34m\u001b[0m\u001b[0m\n\u001b[1;32m   3466\u001b[0m         \u001b[0;31m# take() does not accept boolean indexers\u001b[0m\u001b[0;34m\u001b[0m\u001b[0;34m\u001b[0m\u001b[0;34m\u001b[0m\u001b[0m\n",
            "\u001b[0;32m/usr/local/lib/python3.7/dist-packages/pandas/core/indexing.py\u001b[0m in \u001b[0;36m_get_listlike_indexer\u001b[0;34m(self, key, axis)\u001b[0m\n\u001b[1;32m   1312\u001b[0m             \u001b[0mkeyarr\u001b[0m\u001b[0;34m,\u001b[0m \u001b[0mindexer\u001b[0m\u001b[0;34m,\u001b[0m \u001b[0mnew_indexer\u001b[0m \u001b[0;34m=\u001b[0m \u001b[0max\u001b[0m\u001b[0;34m.\u001b[0m\u001b[0m_reindex_non_unique\u001b[0m\u001b[0;34m(\u001b[0m\u001b[0mkeyarr\u001b[0m\u001b[0;34m)\u001b[0m\u001b[0;34m\u001b[0m\u001b[0;34m\u001b[0m\u001b[0m\n\u001b[1;32m   1313\u001b[0m \u001b[0;34m\u001b[0m\u001b[0m\n\u001b[0;32m-> 1314\u001b[0;31m         \u001b[0mself\u001b[0m\u001b[0;34m.\u001b[0m\u001b[0m_validate_read_indexer\u001b[0m\u001b[0;34m(\u001b[0m\u001b[0mkeyarr\u001b[0m\u001b[0;34m,\u001b[0m \u001b[0mindexer\u001b[0m\u001b[0;34m,\u001b[0m \u001b[0maxis\u001b[0m\u001b[0;34m)\u001b[0m\u001b[0;34m\u001b[0m\u001b[0;34m\u001b[0m\u001b[0m\n\u001b[0m\u001b[1;32m   1315\u001b[0m \u001b[0;34m\u001b[0m\u001b[0m\n\u001b[1;32m   1316\u001b[0m         if needs_i8_conversion(ax.dtype) or isinstance(\n",
            "\u001b[0;32m/usr/local/lib/python3.7/dist-packages/pandas/core/indexing.py\u001b[0m in \u001b[0;36m_validate_read_indexer\u001b[0;34m(self, key, indexer, axis)\u001b[0m\n\u001b[1;32m   1375\u001b[0m \u001b[0;34m\u001b[0m\u001b[0m\n\u001b[1;32m   1376\u001b[0m             \u001b[0mnot_found\u001b[0m \u001b[0;34m=\u001b[0m \u001b[0mlist\u001b[0m\u001b[0;34m(\u001b[0m\u001b[0mensure_index\u001b[0m\u001b[0;34m(\u001b[0m\u001b[0mkey\u001b[0m\u001b[0;34m)\u001b[0m\u001b[0;34m[\u001b[0m\u001b[0mmissing_mask\u001b[0m\u001b[0;34m.\u001b[0m\u001b[0mnonzero\u001b[0m\u001b[0;34m(\u001b[0m\u001b[0;34m)\u001b[0m\u001b[0;34m[\u001b[0m\u001b[0;36m0\u001b[0m\u001b[0;34m]\u001b[0m\u001b[0;34m]\u001b[0m\u001b[0;34m.\u001b[0m\u001b[0munique\u001b[0m\u001b[0;34m(\u001b[0m\u001b[0;34m)\u001b[0m\u001b[0;34m)\u001b[0m\u001b[0;34m\u001b[0m\u001b[0;34m\u001b[0m\u001b[0m\n\u001b[0;32m-> 1377\u001b[0;31m             \u001b[0;32mraise\u001b[0m \u001b[0mKeyError\u001b[0m\u001b[0;34m(\u001b[0m\u001b[0;34mf\"{not_found} not in index\"\u001b[0m\u001b[0;34m)\u001b[0m\u001b[0;34m\u001b[0m\u001b[0;34m\u001b[0m\u001b[0m\n\u001b[0m\u001b[1;32m   1378\u001b[0m \u001b[0;34m\u001b[0m\u001b[0m\n\u001b[1;32m   1379\u001b[0m \u001b[0;34m\u001b[0m\u001b[0m\n",
            "\u001b[0;31mKeyError\u001b[0m: \"['HHW', 'HO'] not in index\""
          ]
        },
        {
          "output_type": "display_data",
          "data": {
            "text/plain": [
              "<Figure size 1440x640 with 0 Axes>"
            ]
          },
          "metadata": {}
        }
      ]
    },
    {
      "cell_type": "markdown",
      "metadata": {
        "id": "fhTD2UdUD_-2"
      },
      "source": [
        "## Feature Engineering & Models"
      ]
    },
    {
      "cell_type": "markdown",
      "source": [
        "### **METHOD & EVALUATION**"
      ],
      "metadata": {
        "id": "gwMT8Qnn9nZv"
      }
    },
    {
      "cell_type": "markdown",
      "source": [
        "First we start by reading the full (training) dataset (csv file) into a pandas dataframe, this allows us to easily manipulate, clean and encode the data as required. Next, using various functions we use the data in the dataframe to generate new features for each data point. These new generates features are then added back to the dataframe. Finally to create our design matrix we extract the relevant feature columns we require using the .loc method. We also create the output y vector by extracting the encoded FTR values. We then use this matrix and vector to input to different classifiers to see how they perform. In the results section we compare the performance of each classifier and provide brief explanations of why the result might be what they are and how we aim to improve them."
      ],
      "metadata": {
        "id": "dTUyO9PtBPfj"
      }
    },
    {
      "cell_type": "code",
      "source": [
        "def evaluate_report(y_pred, y_test):\n",
        "  print(\"Accuracy: \", accuracy_score(y_test,y_pred))\n",
        "  print(classification_report(y_test, y_pred))\n",
        "  ConfusionMatrixDisplay.from_predictions(y_test, y_pred)"
      ],
      "metadata": {
        "id": "BYTAoo0a9xck"
      },
      "execution_count": 32,
      "outputs": []
    },
    {
      "cell_type": "markdown",
      "metadata": {
        "id": "egebksDVD_-2"
      },
      "source": [
        "### **FEATURE SET 1** - Baseline Classifier: Random Guesses\n",
        "\n",
        "*SUMMARY ->* Custom random guess classifier implementation below. To ensure convenience it is compatibile with some *sklearn* functions.\n",
        "\n"
      ]
    },
    {
      "cell_type": "code",
      "source": [
        "class RandomGuessClassifier(BaseEstimator, ClassifierMixin):\n",
        "    \"\"\"Custom implementation of the random guess classifier. \n",
        "    \n",
        "    Compatible with sklearn.metric.plot_confusion_matrix function.\n",
        "    \"\"\"\n",
        "    def __init__(self) -> None:\n",
        "        self._labels: np.ndarray = None\n",
        "\n",
        "    def fit(self, x_train: np.ndarray, y_train: np.ndarray) -> None:\n",
        "        \"\"\"Does not use x_train at all (who would actually want to use it lol). \n",
        "        Saves available labels from y_train.\n",
        "        \"\"\"\n",
        "        self._labels = np.unique(y_train)\n",
        "\n",
        "    def predict(self, x_test: np.ndarray) -> np.ndarray:\n",
        "        \"\"\"For every sample in x_test, chooses a label from self._labels at random\"\"\"\n",
        "        return np.array(list(map(lambda _: np.random.choice(self._labels, 1), x_test)))"
      ],
      "metadata": {
        "id": "iJjKjR8wKMSE"
      },
      "execution_count": 33,
      "outputs": []
    },
    {
      "cell_type": "code",
      "execution_count": 34,
      "metadata": {
        "id": "Bu7rHROtD_-3"
      },
      "outputs": [],
      "source": [
        "def create_design_matrix(df):\n",
        "  df_epl_final2 = df_epl.loc[:,['HomeTeam_Enc', 'AwayTeam_Enc']].values\n",
        "  return df_epl_final2\n",
        "\n",
        "def create_df(df_epl):\n",
        "  return df_epl.copy()\n",
        "\n",
        "df_final = create_df(df_epl)\n",
        "X = create_design_matrix(df_final)\n",
        "y = df_final.loc[:,['FTR']].values\n",
        "X_train, X_test, y_train, y_test = model_selection.train_test_split(X, y, test_size=0.2, random_state=42)"
      ]
    },
    {
      "cell_type": "code",
      "source": [
        "rgc = RandomGuessClassifier()\n",
        "rgc.fit(X_train, y_train)\n",
        "y_pred = rgc.predict(X_test)\n",
        "\n",
        "evaluate_report(y_pred, y_test)\n",
        "model_acc_dict['RG'] = round(accuracy_score(y_test,y_pred)*100, 2)"
      ],
      "metadata": {
        "id": "RChET5lFKOdI",
        "colab": {
          "base_uri": "https://localhost:8080/",
          "height": 482
        },
        "outputId": "7036aa5e-12c7-44d7-9ea6-053c478a4a2c"
      },
      "execution_count": 35,
      "outputs": [
        {
          "output_type": "stream",
          "name": "stdout",
          "text": [
            "Accuracy:  0.3507751937984496\n",
            "              precision    recall  f1-score   support\n",
            "\n",
            "           A       0.29      0.35      0.31       429\n",
            "           D       0.28      0.39      0.33       382\n",
            "           H       0.49      0.33      0.39       737\n",
            "\n",
            "    accuracy                           0.35      1548\n",
            "   macro avg       0.35      0.36      0.35      1548\n",
            "weighted avg       0.38      0.35      0.36      1548\n",
            "\n"
          ]
        },
        {
          "output_type": "display_data",
          "data": {
            "text/plain": [
              "<Figure size 432x288 with 2 Axes>"
            ],
            "image/png": "[encoded data removed]"
          },
          "metadata": {
            "needs_background": "light"
          }
        }
      ]
    },
    {
      "cell_type": "markdown",
      "metadata": {
        "id": "LN62IXgcD_-3"
      },
      "source": [
        "### **FEATURE SET 2** - Simple: (HomeTeam, AwayTeam and Month) \n",
        "\n",
        "*SUMMARY ->* Firstly, we trained models only using the home team, away team and month as feature set. We evaluated and compared these models.\n",
        "Since these models have not lead to great accuracies, we did not perform model selection on them. As the models become more complex (and include more features) we start to include the results from model selection.\n",
        "\n",
        "(NOTE: We have also tried variations of this MODEL - with other basic features like day and referee added)"
      ]
    },
    {
      "cell_type": "markdown",
      "metadata": {
        "id": "IeIZNyEzD_-3"
      },
      "source": [
        "#### Create Dataframe and Design Matrix\n"
      ]
    },
    {
      "cell_type": "code",
      "execution_count": 36,
      "metadata": {
        "id": "8AaAdEB0D_-4",
        "colab": {
          "base_uri": "https://localhost:8080/"
        },
        "outputId": "14680611-8a10-469f-8c22-0ba17394ffff"
      },
      "outputs": [
        {
          "output_type": "stream",
          "name": "stderr",
          "text": [
            "/usr/local/lib/python3.7/dist-packages/sklearn/preprocessing/_label.py:115: DataConversionWarning: A column-vector y was passed when a 1d array was expected. Please change the shape of y to (n_samples, ), for example using ravel().\n",
            "  y = column_or_1d(y, warn=True)\n"
          ]
        }
      ],
      "source": [
        "def create_df(df_epl):\n",
        "  return df_epl.copy()\n",
        "\n",
        "def create_design_matrix(df):\n",
        "  X = df.loc[:,['HomeTeam_Enc', 'AwayTeam_Enc', 'Month']].values\n",
        "  return X\n",
        "\n",
        "df_final = create_df(df_epl)\n",
        "X = create_design_matrix(df_final)\n",
        "y = df_final.loc[:,['FTR']].values\n",
        "X_train, X_test, y_train, y_test = model_selection.train_test_split(X, y, test_size=0.2, random_state=42)\n",
        "# Check shape of y_train and y_test\n",
        "\n",
        "FTR_encoder = LabelEncoder()\n",
        "y_train = FTR_encoder.fit_transform(y_train);"
      ]
    },
    {
      "cell_type": "markdown",
      "metadata": {
        "id": "yiGyGUmFD_-4"
      },
      "source": [
        "#### Decision Tree Classifier"
      ]
    },
    {
      "cell_type": "code",
      "execution_count": 37,
      "metadata": {
        "id": "7YVJepXID_-4",
        "outputId": "8ecfda56-104b-4341-c871-b12dee3734cc",
        "colab": {
          "base_uri": "https://localhost:8080/",
          "height": 482
        }
      },
      "outputs": [
        {
          "output_type": "stream",
          "name": "stdout",
          "text": [
            "Accuracy:  0.4114987080103359\n",
            "              precision    recall  f1-score   support\n",
            "\n",
            "           A       0.36      0.47      0.41       429\n",
            "           D       0.26      0.23      0.24       382\n",
            "           H       0.54      0.47      0.50       737\n",
            "\n",
            "    accuracy                           0.41      1548\n",
            "   macro avg       0.39      0.39      0.38      1548\n",
            "weighted avg       0.42      0.41      0.41      1548\n",
            "\n"
          ]
        },
        {
          "output_type": "display_data",
          "data": {
            "text/plain": [
              "<Figure size 432x288 with 2 Axes>"
            ],
            "image/png": "[encoded data removed]"
          },
          "metadata": {
            "needs_background": "light"
          }
        }
      ],
      "source": [
        "# Create an empty Tree model\n",
        "dt = DecisionTreeClassifier(random_state=42)\n",
        "# Fit the model using training data\n",
        "dt.fit(X_train, y_train)\n",
        "# Make predictions using the model we have created\n",
        "y_pred = dt.predict(X_test)\n",
        "# Reconverting prediction values (i.e. 0, 1 or 2) back into (H, D or A) using the FTR_encoder defined in earlier cell\n",
        "y_pred = FTR_encoder.inverse_transform(y_pred)\n",
        "\n",
        "evaluate_report(y_pred, y_test)\n",
        "model_acc_dict['DT'] = round(accuracy_score(y_test,y_pred)*100, 2)"
      ]
    },
    {
      "cell_type": "markdown",
      "metadata": {
        "id": "C70kVZBwD_-5"
      },
      "source": [
        "#### Random Forest"
      ]
    },
    {
      "cell_type": "code",
      "execution_count": 38,
      "metadata": {
        "id": "7ulQERh9D_-5",
        "colab": {
          "base_uri": "https://localhost:8080/",
          "height": 482
        },
        "outputId": "dc339299-1762-46e7-efe6-ac2e5b313b28"
      },
      "outputs": [
        {
          "output_type": "stream",
          "name": "stdout",
          "text": [
            "Accuracy:  0.437984496124031\n",
            "              precision    recall  f1-score   support\n",
            "\n",
            "           A       0.37      0.37      0.37       429\n",
            "           D       0.26      0.21      0.23       382\n",
            "           H       0.54      0.60      0.56       737\n",
            "\n",
            "    accuracy                           0.44      1548\n",
            "   macro avg       0.39      0.39      0.39      1548\n",
            "weighted avg       0.42      0.44      0.43      1548\n",
            "\n"
          ]
        },
        {
          "output_type": "display_data",
          "data": {
            "text/plain": [
              "<Figure size 432x288 with 2 Axes>"
            ],
            "image/png": "[encoded data removed]"
          },
          "metadata": {
            "needs_background": "light"
          }
        }
      ],
      "source": [
        "# Create an empty Random Forest model\n",
        "rf = RandomForestClassifier(random_state=42)\n",
        "# Fit the model using training data\n",
        "rf.fit(X_train, y_train)\n",
        "# Make predictions using the model we have created\n",
        "y_pred = rf.predict(X_test)\n",
        "# Reconverting prediction values (i.e. 0, 1 or 2) back into (H, D or A) using the FTR_encoder defined in earlier cell\n",
        "y_pred = FTR_encoder.inverse_transform(y_pred)\n",
        "\n",
        "evaluate_report(y_pred, y_test)\n",
        "model_acc_dict['RF'] = round(accuracy_score(y_test,y_pred)*100, 2)"
      ]
    },
    {
      "cell_type": "markdown",
      "metadata": {
        "id": "dNhdZ17pD_-5"
      },
      "source": [
        "#### K-Nearest Neighbours (KNN)"
      ]
    },
    {
      "cell_type": "code",
      "execution_count": 39,
      "metadata": {
        "id": "Ar9ru4tLD_-6",
        "colab": {
          "base_uri": "https://localhost:8080/",
          "height": 482
        },
        "outputId": "4f10b2d1-8d7d-4182-c328-1b2ef5419eaf"
      },
      "outputs": [
        {
          "output_type": "stream",
          "name": "stdout",
          "text": [
            "Accuracy:  0.4186046511627907\n",
            "              precision    recall  f1-score   support\n",
            "\n",
            "           A       0.35      0.46      0.40       429\n",
            "           D       0.26      0.20      0.23       382\n",
            "           H       0.54      0.50      0.52       737\n",
            "\n",
            "    accuracy                           0.42      1548\n",
            "   macro avg       0.39      0.39      0.38      1548\n",
            "weighted avg       0.42      0.42      0.42      1548\n",
            "\n"
          ]
        },
        {
          "output_type": "display_data",
          "data": {
            "text/plain": [
              "<Figure size 432x288 with 2 Axes>"
            ],
            "image/png": "[encoded data removed]"
          },
          "metadata": {
            "needs_background": "light"
          }
        }
      ],
      "source": [
        "# Create an empty KNN model\n",
        "knn = KNeighborsClassifier()\n",
        "# Fit the model using training data\n",
        "knn.fit(X_train, y_train)\n",
        "# Make predictions using the model we have created\n",
        "y_pred = knn.predict(X_test)\n",
        "# Reconverting prediction values (i.e. 0, 1 or 2) back into (H, D or A) using the FTR_encoder defined in earlier cell\n",
        "y_pred = FTR_encoder.inverse_transform(y_pred)\n",
        "\n",
        "evaluate_report(y_pred, y_test)\n",
        "model_acc_dict['KNN'] = round(accuracy_score(y_test,y_pred)*100, 2)"
      ]
    },
    {
      "cell_type": "markdown",
      "metadata": {
        "id": "-ps6EFiRD_-7"
      },
      "source": [
        "#### Summary of Results"
      ]
    },
    {
      "cell_type": "markdown",
      "source": [
        "@TODO: Add summary text -> Adam"
      ],
      "metadata": {
        "id": "LlisBxjLeEJt"
      }
    },
    {
      "cell_type": "code",
      "execution_count": 53,
      "metadata": {
        "id": "V7wOgKZhD_-7",
        "colab": {
          "base_uri": "https://localhost:8080/",
          "height": 657
        },
        "outputId": "46811317-55a4-4f23-e79a-2d50542da9ef"
      },
      "outputs": [
        {
          "output_type": "display_data",
          "data": {
            "text/plain": [
              "<Figure size 648x648 with 1 Axes>"
            ],
            "image/png": "[encoded data removed]"
          },
          "metadata": {
            "needs_background": "light"
          }
        }
      ],
      "source": [
        "summary_hist(title=\"Summary of Models - Feature Set 2\", fig_size=(9, 9))"
      ]
    },
    {
      "cell_type": "markdown",
      "metadata": {
        "id": "pFX7YcuTD_-7"
      },
      "source": [
        "### **FEATURE SET 3** – Included averages of match statistics between the two specific target teams across all historical data\n",
        "\n",
        "*SUMMARY ->* Here we aim to improve our previous score by adding some extra features. We use the same features from the previous section: date, HomeTeam and AwayTeam, BUT now we also add some averages of past stats between the specific two teams in question. We obtain these stats by filtering the df_epl dataframe for matches between HomeTeam and AwayTeam that took place before the input date. Then take an average of the columns (with stats) like HR, AR, etc. This will provide us with the average past stats for games played in past between the two teams. We can then use these values as extra features to input into the classifier."
      ]
    },
    {
      "cell_type": "markdown",
      "source": [
        "#### Create Dataframe and Design Matrix"
      ],
      "metadata": {
        "id": "iHLc0d37iK-G"
      }
    },
    {
      "cell_type": "code",
      "source": [
        "# This function will take as input a date, HomeTeam and AwayTeam and output a \n",
        "# filtered dataframe where the matches shown are played before input data and \n",
        "# match is between HomeTeam and AwayTeam\n",
        "def filter_dataframe(date, HomeTeam, AwayTeam, df):\n",
        "    # Filter the dataframe to include only rows where Date\n",
        "    df_epl_train_filtered = df.copy()\n",
        "    df_epl_train_filtered = df_epl_train_filtered[(df.Date<date) & (df.HomeTeam_Enc==HomeTeam) & (df.AwayTeam_Enc==AwayTeam)]\n",
        "\n",
        "    # Return filtered dataframe\n",
        "    return df_epl_train_filtered\n",
        "\n",
        "# This function takes as input the filtered dataframe from previous cell, \n",
        "# features to average and a dictionary, it then appends an average of each \n",
        "# feature to the dictionary\n",
        "def average_columns(features, avg_features, filtered_df):\n",
        "    for feature in features:\n",
        "        df_col_means = filtered_df[feature].mean()\n",
        "        avg_features[feature].append(df_col_means)\n",
        "\n",
        "\n",
        "def create_df(df_epl):\n",
        "  df_final = df_epl.copy()\n",
        "  # Run the two functions for each row of our df_epl_train dataframe to fill \n",
        "  # dictionary with AVG for each match\n",
        "  # NOTE: Some matches won't have past stats since the two teams may not have \n",
        "  # played against each other in past or we might not have the data\n",
        "\n",
        "  # These are the features we want to get averages for\n",
        "  features = [\"FTHG\",\"FTAG\",\"HTHG\",\"HTAG\",\"HS\",\"AS\",\"HST\",\"AST\",\"HF\",\"AF\",\"HC\",\"AC\",\"HY\",\"AY\",\"HR\",\"AR\"]\n",
        "  avg_features = {\n",
        "                      \"FTHG\": [],\n",
        "                      \"FTAG\": [],\n",
        "                      \"HTHG\": [],\n",
        "                      \"HTAG\": [],\n",
        "                      \"HS\"  : [],\n",
        "                      \"AS\"  : [],\n",
        "                      \"HST\" : [],\n",
        "                      \"AST\" : [],\n",
        "                      \"HF\"  : [],\n",
        "                      \"AF\"  : [],\n",
        "                      \"HC\"  : [],\n",
        "                      \"AC\"  : [],\n",
        "                      \"HY\"  : [],\n",
        "                      \"AY\"  : [],\n",
        "                      \"HR\"  : [],\n",
        "                      \"AR\"  : []\n",
        "                  }\n",
        "\n",
        "  # Run the two functions on each row of the df_epl_train and fill the dictionary\n",
        "  # For each row in the dataframe\n",
        "  for index, row in df_final.iterrows():\n",
        "      # Filter the dataframe to only show matches played between those teams and before the certain date\n",
        "      df_epl_train_filtered = filter_dataframe(row[\"Date\"], row[\"HomeTeam_Enc\"], row[\"AwayTeam_Enc\"], df_final)\n",
        "      # Get averages from the filtered dataframe and add the the dictionary\n",
        "      average_columns(features, avg_features, df_epl_train_filtered)\n",
        "  # Add a column for each of these feature averages using our list of values from the dictionary\n",
        "  features = [\"FTHG\",\"FTAG\",\"HTHG\",\"HTAG\",\"HS\",\"AS\",\"HST\",\"AST\",\"HF\",\"AF\",\"HC\",\"AC\",\"HY\",\"AY\",\"HR\",\"AR\"]\n",
        "  for feature in features:\n",
        "      # Get the list of averages for a certain feature from the dicitonary\n",
        "      feature_vals = avg_features[feature]\n",
        "      # Add the list of averages into the dataframe for that certain feature\n",
        "      df_final[feature + \"_AVG\"] = feature_vals\n",
        "  return df_final.dropna()\n",
        "\n",
        "\n",
        "def create_design_matrix(df):\n",
        "  X = df.loc[:,['Day', 'Month', 'HomeTeam_Enc', 'AwayTeam_Enc','FTHG_AVG','FTAG_AVG','HTHG_AVG','HTAG_AVG','HS_AVG','AS_AVG','HST_AVG','AST_AVG','HF_AVG','AF_AVG','HC_AVG','AC_AVG','HY_AVG','AY_AVG','HR_AVG','AR_AVG']].values\n",
        "  # X = df.drop(['FTR', 'Date'], axis=1).values\n",
        "  return X\n",
        "\n",
        "df_final = create_df(df_epl)\n",
        "X = create_design_matrix(df_final)\n",
        "y = df_final.loc[:,['FTR']].values\n",
        "X_train, X_test, y_train, y_test = model_selection.train_test_split(X, y, test_size=0.2, random_state=42)\n",
        "# Check shape of y_train and y_test\n",
        "\n",
        "FTR_encoder = LabelEncoder()\n",
        "y_train = FTR_encoder.fit_transform(y_train);"
      ],
      "metadata": {
        "colab": {
          "base_uri": "https://localhost:8080/"
        },
        "id": "_N1zumKBh0gl",
        "outputId": "f34f62bd-7a15-4f96-cc28-6909239a9b37"
      },
      "execution_count": 41,
      "outputs": [
        {
          "output_type": "stream",
          "name": "stderr",
          "text": [
            "/usr/local/lib/python3.7/dist-packages/sklearn/preprocessing/_label.py:115: DataConversionWarning: A column-vector y was passed when a 1d array was expected. Please change the shape of y to (n_samples, ), for example using ravel().\n",
            "  y = column_or_1d(y, warn=True)\n"
          ]
        }
      ]
    },
    {
      "cell_type": "markdown",
      "source": [
        "#### Decision Tree Classifier"
      ],
      "metadata": {
        "id": "RL40yZlH-C4i"
      }
    },
    {
      "cell_type": "code",
      "source": [
        "# Create an empty Tree model\n",
        "dt = DecisionTreeClassifier(random_state=42)\n",
        "# Fit the model using training data\n",
        "dt.fit(X_train, y_train)\n",
        "# Make predictions using the model we have created\n",
        "y_pred = dt.predict(X_test)\n",
        "# Reconverting prediction values (i.e. 0, 1 or 2) back into (H, D or A) using the FTR_encoder defined in earlier cell\n",
        "y_pred = FTR_encoder.inverse_transform(y_pred)\n",
        "\n",
        "evaluate_report(y_pred, y_test)\n",
        "model_acc_dict['DT'] = round(accuracy_score(y_test,y_pred)*100, 2)"
      ],
      "metadata": {
        "id": "ZdGO5e0OiSIz",
        "colab": {
          "base_uri": "https://localhost:8080/",
          "height": 482
        },
        "outputId": "e87f60a3-cc17-41a0-851a-bdbe199c4427"
      },
      "execution_count": 42,
      "outputs": [
        {
          "output_type": "stream",
          "name": "stdout",
          "text": [
            "Accuracy:  0.3949645948072384\n",
            "              precision    recall  f1-score   support\n",
            "\n",
            "           A       0.37      0.36      0.36       393\n",
            "           D       0.26      0.28      0.27       316\n",
            "           H       0.50      0.49      0.49       562\n",
            "\n",
            "    accuracy                           0.39      1271\n",
            "   macro avg       0.37      0.37      0.37      1271\n",
            "weighted avg       0.40      0.39      0.40      1271\n",
            "\n"
          ]
        },
        {
          "output_type": "display_data",
          "data": {
            "text/plain": [
              "<Figure size 432x288 with 2 Axes>"
            ],
            "image/png": "[encoded data removed]"
          },
          "metadata": {
            "needs_background": "light"
          }
        }
      ]
    },
    {
      "cell_type": "markdown",
      "source": [
        "#### Random Forest"
      ],
      "metadata": {
        "id": "nS6ffh-4-jbj"
      }
    },
    {
      "cell_type": "code",
      "source": [
        "# Create an empty Random Forest model\n",
        "rf = RandomForestClassifier(random_state=42)\n",
        "# Fit the model using training data\n",
        "rf.fit(X_train, y_train)\n",
        "# Make predictions using the model we have created\n",
        "y_pred = rf.predict(X_test)\n",
        "# Reconverting prediction values (i.e. 0, 1 or 2) back into (H, D or A) using the FTR_encoder defined in earlier cell\n",
        "y_pred = FTR_encoder.inverse_transform(y_pred)\n",
        "\n",
        "evaluate_report(y_pred, y_test)\n",
        "model_acc_dict['RF'] = round(accuracy_score(y_test,y_pred)*100, 2)"
      ],
      "metadata": {
        "colab": {
          "base_uri": "https://localhost:8080/",
          "height": 482
        },
        "id": "4Rv6Wvc--rWc",
        "outputId": "419200fa-b673-444e-faa5-1019b4a59482"
      },
      "execution_count": 43,
      "outputs": [
        {
          "output_type": "stream",
          "name": "stdout",
          "text": [
            "Accuracy:  0.5011801730920535\n",
            "              precision    recall  f1-score   support\n",
            "\n",
            "           A       0.52      0.48      0.50       393\n",
            "           D       0.27      0.11      0.16       316\n",
            "           H       0.53      0.73      0.62       562\n",
            "\n",
            "    accuracy                           0.50      1271\n",
            "   macro avg       0.44      0.44      0.42      1271\n",
            "weighted avg       0.46      0.50      0.47      1271\n",
            "\n"
          ]
        },
        {
          "output_type": "display_data",
          "data": {
            "text/plain": [
              "<Figure size 432x288 with 2 Axes>"
            ],
            "image/png": "[encoded data removed]"
          },
          "metadata": {
            "needs_background": "light"
          }
        }
      ]
    },
    {
      "cell_type": "markdown",
      "metadata": {
        "id": "7h8XaYd--7Jc"
      },
      "source": [
        "#### K-Nearest Neighbours (KNN)"
      ]
    },
    {
      "cell_type": "code",
      "source": [
        "# Create an empty KNN model\n",
        "knn = KNeighborsClassifier()\n",
        "# Fit the model using training data\n",
        "knn.fit(X_train, y_train)\n",
        "# Make predictions using the model we have created\n",
        "y_pred = knn.predict(X_test)\n",
        "# Reconverting prediction values (i.e. 0, 1 or 2) back into (H, D or A) using the FTR_encoder defined in earlier cell\n",
        "y_pred = FTR_encoder.inverse_transform(y_pred)\n",
        "\n",
        "evaluate_report(y_pred, y_test)\n",
        "model_acc_dict['KNN'] = round(accuracy_score(y_test,y_pred)*100, 2)"
      ],
      "metadata": {
        "colab": {
          "base_uri": "https://localhost:8080/",
          "height": 482
        },
        "id": "h6iF-SdO_1fO",
        "outputId": "15ac779d-c44b-4ef6-80b8-4376fff1cc29"
      },
      "execution_count": 44,
      "outputs": [
        {
          "output_type": "stream",
          "name": "stdout",
          "text": [
            "Accuracy:  0.42800944138473646\n",
            "              precision    recall  f1-score   support\n",
            "\n",
            "           A       0.39      0.51      0.44       393\n",
            "           D       0.26      0.19      0.22       316\n",
            "           H       0.54      0.50      0.52       562\n",
            "\n",
            "    accuracy                           0.43      1271\n",
            "   macro avg       0.40      0.40      0.40      1271\n",
            "weighted avg       0.42      0.43      0.42      1271\n",
            "\n"
          ]
        },
        {
          "output_type": "display_data",
          "data": {
            "text/plain": [
              "<Figure size 432x288 with 2 Axes>"
            ],
            "image/png": "[encoded data removed]"
          },
          "metadata": {
            "needs_background": "light"
          }
        }
      ]
    },
    {
      "cell_type": "markdown",
      "metadata": {
        "id": "q6LmWr_P_xIX"
      },
      "source": [
        "#### Summary of Results"
      ]
    },
    {
      "cell_type": "code",
      "source": [
        "# TODO(@Adam): Add histogram to compare accuracies of the differen models trained before (plus baseline)\n",
        "summary_hist(title=\"Summary of Models - Feature Set 3\", fig_size=(9, 9))"
      ],
      "metadata": {
        "id": "d6KKlcbD_-QS",
        "colab": {
          "base_uri": "https://localhost:8080/",
          "height": 657
        },
        "outputId": "e60ecddf-1d54-492c-9aa5-9d61b5990805"
      },
      "execution_count": 51,
      "outputs": [
        {
          "output_type": "display_data",
          "data": {
            "text/plain": [
              "<Figure size 648x648 with 1 Axes>"
            ],
            "image/png": "[encoded data removed]"
          },
          "metadata": {
            "needs_background": "light"
          }
        }
      ]
    },
    {
      "cell_type": "markdown",
      "metadata": {
        "id": "qzshQ8wID_-7"
      },
      "source": [
        "### **FEATURE SET 4** - Included averages of match statistics between the two specific target teams against ALL other teams across ONLY current season \n",
        "\n",
        "*SUMMARY ->* Here we aim to improve our previous score by adding changing the way we compute the average. These new past average stats are obtained by filtering the df_epl dataframe to get two filtered dataframes. One will include the matches played by HomeTeam at Home against ALL other teams in that specific season. The other will include the matches played by AwayTeam Away against ALL other teams in that specific season. Given these filtered dataframes we take an average of the columns (with stats) like HR, AR, etc. This will provide us with the past stats for games played between the two teams against all other teams in that specific season. We can then use these past average stats as features to input into the classifier. This should produce an improvement because recent season data should act as a better estimator of the result of current season games"
      ]
    },
    {
      "cell_type": "markdown",
      "source": [
        "#### Create Dataframe & Design Matrix"
      ],
      "metadata": {
        "id": "6B_zEgsEBqVI"
      }
    },
    {
      "cell_type": "code",
      "source": [
        "# HELPER FUNCTIONS FOR CREATE_DF()\n",
        "def get_season_start_date(date):\n",
        "    if date.month <= 7:\n",
        "        return datetime(date.year-1, 8, 1)\n",
        "    return datetime(date.year-0, 8, 1)\n",
        "\n",
        "def filter_dataframe_by_hometeam_recent_season(df, date, HomeTeam):\n",
        "    # Convert the input string date into datetime\n",
        "    date = pd.to_datetime(date, dayfirst=True)\n",
        "    # Filter the dataframe to include only rows where Dateinput(first day of season) && HomeTeam=input(HomeTeam)\n",
        "    df_filtered = df.copy()\n",
        "    df_filtered = df_filtered[(df_filtered.Date<date) & (df_filtered.Date>get_season_start_date(date)) & (df_filtered.HomeTeam_Enc==HomeTeam)]\n",
        "    # Return filtered dataframe\n",
        "    return df_filtered\n",
        "\n",
        "def filter_dataframe_by_awayteam_recent_season(df, date, AwayTeam):\n",
        "    # Convert the input string date into datetime\n",
        "    date = pd.to_datetime(date, dayfirst=True)\n",
        "    # Filter the dataframe to include only rows where Dateinput(first day of season) && HomeTeam=input(HomeTeam)\n",
        "    df_filtered = df.copy()\n",
        "    df_filtered = df_filtered[(df_filtered.Date<date) & (df_filtered.Date>get_season_start_date(date)) & (df_filtered.AwayTeam_Enc==AwayTeam)]\n",
        "    # Return filtered dataframe\n",
        "    return df_filtered\n",
        "\n",
        "# This function takes as input the filtered dataframe from previous cell, features to average and a dictionary,\n",
        "# it then appends an average of each feature to the dictionary\n",
        "def average_columns(avg_features, filtered_df):\n",
        "    for feature in avg_features.keys():\n",
        "        df_col_means = filtered_df[feature].mean()\n",
        "        avg_features[feature].append(df_col_means)\n",
        "\n",
        "\n",
        "\n",
        "# CREATE FEATURES & ADD TO ORIGINAL DATAFRAME\n",
        "def create_df(df):\n",
        "  df_final = df_epl.copy()\n",
        "  # These are the features we want to get averages for home team\n",
        "  avg_features_home = {\n",
        "                      \"FTHG\": [],\n",
        "                      \"HTHG\": [],\n",
        "                      \"HS\"  : [],\n",
        "                      \"HST\" : [],\n",
        "                      \"HF\"  : [],\n",
        "                      \"HC\"  : [],\n",
        "                      \"HY\"  : [],\n",
        "                      \"HR\"  : [],\n",
        "                  }\n",
        "\n",
        "  # These are the features we want to get averages for away team\n",
        "  avg_features_away = {\n",
        "                      \"FTAG\": [],\n",
        "                      \"HTAG\": [],\n",
        "                      \"AS\"  : [],\n",
        "                      \"AST\" : [],\n",
        "                      \"AF\"  : [],\n",
        "                      \"AC\"  : [],\n",
        "                      \"AY\"  : [],\n",
        "                      \"AR\"  : []\n",
        "                    }\n",
        "\n",
        "  # Run the two functions on each row of the df_epl_train and fill the dictionary, For each row in the dataframe\n",
        "  for index, row in df_final.iterrows():\n",
        "      # Filter the dataframe to only show matches played between those teams and before the certain date\n",
        "      df_epl_train_average_hometeam_recent_season = filter_dataframe_by_hometeam_recent_season(df_final, row[\"Date\"],row[\"HomeTeam_Enc\"])\n",
        "      df_epl_train_average_awayteam_recent_season = filter_dataframe_by_awayteam_recent_season(df_final, row[\"Date\"],row[\"AwayTeam_Enc\"])\n",
        "      # Get averages from the filtered dataframe and add the the dictionary\n",
        "      average_columns(avg_features_home, df_epl_train_average_hometeam_recent_season)\n",
        "      average_columns(avg_features_away, df_epl_train_average_awayteam_recent_season)\n",
        "\n",
        "  for feature in avg_features_home.keys():\n",
        "      # Get the list of averages for a certain feature from the dicitonary\n",
        "      feature_vals = avg_features_home[feature]\n",
        "      # Add the list of averages into the dataframe for that certain feature\n",
        "      df_final[feature + \"_AVG\"] = feature_vals\n",
        "      \n",
        "  for feature in avg_features_away.keys():\n",
        "      # Get the list of averages for a certain feature from the dicitonary\n",
        "      feature_vals = avg_features_away[feature]\n",
        "      # Add the list of averages into the dataframe for that certain feature\n",
        "      df_final[feature + \"_AVG\"] = feature_vals\n",
        "\n",
        "  # Drop any rows with nan\n",
        "  return df_final.dropna()\n",
        "\n",
        "\n",
        "\n",
        "# CODE TO CREATE DESIGN MATRIX\n",
        "def create_design_matrix(df):\n",
        "  X = df.loc[:,['Day', 'Month', 'HomeTeam_Enc', 'AwayTeam_Enc','FTHG_AVG','FTAG_AVG','HTHG_AVG','HTAG_AVG','HS_AVG','AS_AVG','HST_AVG','AST_AVG','HF_AVG','AF_AVG','HC_AVG','AC_AVG','HY_AVG','AY_AVG','HR_AVG','AR_AVG']].values\n",
        "  # X = df.drop(['FTR', 'Date'], axis=1).values\n",
        "  return X\n",
        "\n",
        "\n",
        "\n",
        "# MAIN CODE\n",
        "df_final = create_df(df_epl)\n",
        "X = create_design_matrix(df_final)\n",
        "y = df_final.loc[:,['FTR']].values\n",
        "X_train, X_test, y_train, y_test = model_selection.train_test_split(X, y, test_size=0.2, random_state=42)\n",
        "\n",
        "FTR_encoder = LabelEncoder()\n",
        "y_train = FTR_encoder.fit_transform(y_train);"
      ],
      "metadata": {
        "colab": {
          "base_uri": "https://localhost:8080/"
        },
        "id": "8Gi9bdPyBzTJ",
        "outputId": "a1a324c5-dcee-4b99-e3d6-5ee43af749f2"
      },
      "execution_count": 47,
      "outputs": [
        {
          "output_type": "stream",
          "name": "stderr",
          "text": [
            "/usr/local/lib/python3.7/dist-packages/sklearn/preprocessing/_label.py:115: DataConversionWarning: A column-vector y was passed when a 1d array was expected. Please change the shape of y to (n_samples, ), for example using ravel().\n",
            "  y = column_or_1d(y, warn=True)\n"
          ]
        }
      ]
    },
    {
      "cell_type": "markdown",
      "source": [
        "#### Decision Tree Classifier"
      ],
      "metadata": {
        "id": "tjf6pFNoB0W1"
      }
    },
    {
      "cell_type": "code",
      "source": [
        "# CROSS VALIDATION USING TRAINING DATA\n",
        "cv = KFold(n_splits=5, random_state=42, shuffle=True)  # 5-fold cross validation\n",
        "# define the model\n",
        "dt = DecisionTreeClassifier(random_state=42)\n",
        "# define search space - hyperparameters - ADD OTHER HYPERPARAMERTERS HERE\n",
        "space = dict()\n",
        "space['max_features'] = list(np.linspace(1, X.shape[1], X.shape[1]//5, dtype=int))\n",
        "space['max_depth'] = list(np.linspace(1, X.shape[1], X.shape[1]//5, dtype=int))\n",
        "# define search space\n",
        "search = GridSearchCV(dt, space, scoring='accuracy', cv=cv, refit=True)\n",
        "# execute search (i.e. start model selection) using the parameters\n",
        "result = search.fit(X_train, y_train)\n",
        "# get the best performing model fit on the whole training set\n",
        "best_model = result.best_estimator_\n",
        "\n",
        "\n",
        "\n",
        "# Using the cross validation we have found the best hyperparamters and\n",
        "# hence the best model, now will we use this model to predict the values\n",
        "# for the unseen test data - evaluate model on the hold out dataset\n",
        "y_pred = best_model.predict(X_test)\n",
        "# Reconverting prediction values (i.e. 0, 1 or 2) back into (H, D or A) \n",
        "# using the FTR_encoder defined in earlier cell\n",
        "y_pred = FTR_encoder.inverse_transform(y_pred)\n",
        "\n",
        "evaluate_report(y_pred, y_test)\n",
        "model_acc_dict['DT'] = round(accuracy_score(y_test,y_pred)*100, 2)"
      ],
      "metadata": {
        "colab": {
          "base_uri": "https://localhost:8080/",
          "height": 593
        },
        "id": "lILPefZhB8Ad",
        "outputId": "04c59f3a-e1db-4aa1-81e7-7920ab19478a"
      },
      "execution_count": 48,
      "outputs": [
        {
          "output_type": "stream",
          "name": "stdout",
          "text": [
            "Accuracy:  0.4921286789869952\n",
            "              precision    recall  f1-score   support\n",
            "\n",
            "           A       0.44      0.40      0.42       430\n",
            "           D       0.00      0.00      0.00       349\n",
            "           H       0.51      0.80      0.62       682\n",
            "\n",
            "    accuracy                           0.49      1461\n",
            "   macro avg       0.32      0.40      0.35      1461\n",
            "weighted avg       0.37      0.49      0.42      1461\n",
            "\n"
          ]
        },
        {
          "output_type": "stream",
          "name": "stderr",
          "text": [
            "/usr/local/lib/python3.7/dist-packages/sklearn/metrics/_classification.py:1318: UndefinedMetricWarning: Precision and F-score are ill-defined and being set to 0.0 in labels with no predicted samples. Use `zero_division` parameter to control this behavior.\n",
            "  _warn_prf(average, modifier, msg_start, len(result))\n",
            "/usr/local/lib/python3.7/dist-packages/sklearn/metrics/_classification.py:1318: UndefinedMetricWarning: Precision and F-score are ill-defined and being set to 0.0 in labels with no predicted samples. Use `zero_division` parameter to control this behavior.\n",
            "  _warn_prf(average, modifier, msg_start, len(result))\n",
            "/usr/local/lib/python3.7/dist-packages/sklearn/metrics/_classification.py:1318: UndefinedMetricWarning: Precision and F-score are ill-defined and being set to 0.0 in labels with no predicted samples. Use `zero_division` parameter to control this behavior.\n",
            "  _warn_prf(average, modifier, msg_start, len(result))\n"
          ]
        },
        {
          "output_type": "display_data",
          "data": {
            "text/plain": [
              "<Figure size 432x288 with 2 Axes>"
            ],
            "image/png": "[encoded data removed]"
          },
          "metadata": {
            "needs_background": "light"
          }
        }
      ]
    },
    {
      "cell_type": "markdown",
      "source": [
        "#### Random Forest"
      ],
      "metadata": {
        "id": "AR9K2vzxB9Fl"
      }
    },
    {
      "cell_type": "code",
      "source": [
        "# CROSS VALIDATION USING TRAINING DATA - RF\n",
        "cv = KFold(n_splits=5, random_state=42, shuffle=True)  # 5-fold cross validation\n",
        "# define the model\n",
        "rf = RandomForestClassifier(random_state=42)\n",
        "# define search space - hyperparameters - ADD OTHER HYPERPARAMERTERS HERE\n",
        "space = dict()\n",
        "space['max_features'] = list(np.linspace(1, X.shape[1], X.shape[1]//5, dtype=int))\n",
        "space['max_depth'] = list(np.linspace(1, X.shape[1], X.shape[1]//5, dtype=int))\n",
        "# define search space\n",
        "search = GridSearchCV(rf, space, scoring='accuracy', cv=cv, refit=True)\n",
        "# execute search (i.e. start model selection) using the parameters\n",
        "result = search.fit(X_train, y_train)\n",
        "# get the best performing model fit on the whole training set\n",
        "best_model = result.best_estimator_\n",
        "\n",
        "# Using the cross validation we have found the best hyperparamters and\n",
        "# hence the best model, now will we use this model to predict the values\n",
        "# for the unseen test data - evaluate model on the hold out dataset\n",
        "y_pred = best_model.predict(X_test)\n",
        "\n",
        "# Reconverting prediction values (i.e. 0, 1 or 2) back into (H, D or A) \n",
        "# using the FTR_encoder defined in earlier cell\n",
        "y_pred = FTR_encoder.inverse_transform(y_pred)\n",
        "\n",
        "evaluate_report(y_pred, y_test)\n",
        "model_acc_dict['RF'] = round(accuracy_score(y_test,y_pred)*100, 2)"
      ],
      "metadata": {
        "colab": {
          "base_uri": "https://localhost:8080/",
          "height": 482
        },
        "id": "d481OUWpCB_r",
        "outputId": "694b20c0-ab9b-450a-cb04-7f722b95f790"
      },
      "execution_count": 49,
      "outputs": [
        {
          "output_type": "stream",
          "name": "stdout",
          "text": [
            "Accuracy:  0.5222450376454483\n",
            "              precision    recall  f1-score   support\n",
            "\n",
            "           A       0.50      0.43      0.47       430\n",
            "           D       0.25      0.01      0.01       349\n",
            "           H       0.53      0.84      0.65       682\n",
            "\n",
            "    accuracy                           0.52      1461\n",
            "   macro avg       0.43      0.43      0.38      1461\n",
            "weighted avg       0.46      0.52      0.44      1461\n",
            "\n"
          ]
        },
        {
          "output_type": "display_data",
          "data": {
            "text/plain": [
              "<Figure size 432x288 with 2 Axes>"
            ],
            "image/png": "[encoded data removed]"
          },
          "metadata": {
            "needs_background": "light"
          }
        }
      ]
    },
    {
      "cell_type": "markdown",
      "source": [
        "#### K-Nearest Neighbours (KNN)"
      ],
      "metadata": {
        "id": "9LhGVq57CDzr"
      }
    },
    {
      "cell_type": "code",
      "source": [
        "# CROSS VALIDATION USING TRAINING DATA - KNN\n",
        "cv = KFold(n_splits=5, random_state=42, shuffle=True)  # 5-fold cross validation\n",
        "results = list()\n",
        "# define the model\n",
        "knn = KNeighborsClassifier()\n",
        "# define search space - hyperparameters - ADD OTHER HYPERPARAMERTERS HERE\n",
        "space = dict()\n",
        "space['n_neighbors'] = list(np.linspace(3, 10, 2, dtype=int))\n",
        "# define search space\n",
        "search = GridSearchCV(knn, space, scoring='accuracy', cv=cv, refit=True)\n",
        "# execute search (i.e. start model selection) using the parameters\n",
        "result = search.fit(X_train, y_train)\n",
        "# get the best performing model fit on the whole training set\n",
        "best_model = result.best_estimator_\n",
        "\n",
        "# Using the cross validation we have found the best hyperparamters and\n",
        "# hence the best model, now will we use this model to predict the values\n",
        "# for the unseen test data - evaluate model on the hold out dataset\n",
        "y_pred = best_model.predict(X_test)\n",
        "\n",
        "# Reconverting prediction values (i.e. 0, 1 or 2) back into (H, D or A) \n",
        "# using the FTR_encoder defined in earlier cell\n",
        "y_pred = FTR_encoder.inverse_transform(y_pred)\n",
        "\n",
        "evaluate_report(y_pred, y_test)\n",
        "model_acc_dict['KNN'] = round(accuracy_score(y_test,y_pred)*100, 2)"
      ],
      "metadata": {
        "colab": {
          "base_uri": "https://localhost:8080/",
          "height": 482
        },
        "id": "NLx3GYUfCK8Q",
        "outputId": "f6fbb909-8548-4e7f-ac68-4de277e8bd1d"
      },
      "execution_count": 50,
      "outputs": [
        {
          "output_type": "stream",
          "name": "stdout",
          "text": [
            "Accuracy:  0.4668035592060233\n",
            "              precision    recall  f1-score   support\n",
            "\n",
            "           A       0.43      0.42      0.42       430\n",
            "           D       0.27      0.17      0.21       349\n",
            "           H       0.54      0.65      0.59       682\n",
            "\n",
            "    accuracy                           0.47      1461\n",
            "   macro avg       0.41      0.41      0.41      1461\n",
            "weighted avg       0.44      0.47      0.45      1461\n",
            "\n"
          ]
        },
        {
          "output_type": "display_data",
          "data": {
            "text/plain": [
              "<Figure size 432x288 with 2 Axes>"
            ],
            "image/png": "[encoded data removed]"
          },
          "metadata": {
            "needs_background": "light"
          }
        }
      ]
    },
    {
      "cell_type": "markdown",
      "source": [
        "#### Summary Of Results"
      ],
      "metadata": {
        "id": "LTmnpmPnCMNA"
      }
    },
    {
      "cell_type": "code",
      "source": [
        "# TODO(@Adam): Add histogram to compare accuracies of the differen models trained before (plus baseline)\n",
        "summary_hist(title=\"Summary of Models - Feature Set 4\", fig_size=(9, 9))"
      ],
      "metadata": {
        "id": "ro4uUDqOCQZN",
        "colab": {
          "base_uri": "https://localhost:8080/",
          "height": 657
        },
        "outputId": "331dcab3-dc7a-440b-f461-6bdd3291d884"
      },
      "execution_count": 52,
      "outputs": [
        {
          "output_type": "display_data",
          "data": {
            "text/plain": [
              "<Figure size 648x648 with 1 Axes>"
            ],
            "image/png": "[encoded data removed]"
          },
          "metadata": {
            "needs_background": "light"
          }
        }
      ]
    },
    {
      "cell_type": "markdown",
      "source": [
        "### **FEATURE SET 5** - Combines FEATURE SET 3 & 4"
      ],
      "metadata": {
        "id": "2VHfeXNQqo6d"
      }
    },
    {
      "cell_type": "markdown",
      "source": [
        "#### Create Dataframe & Design Matrix"
      ],
      "metadata": {
        "id": "k-H4AcMUq__5"
      }
    },
    {
      "cell_type": "code",
      "source": [
        "# HELPER FUNCTIONS FOR CREATE_DF()\n",
        "def get_season_start_date(date):\n",
        "    if date.month <= 7:\n",
        "        return datetime(date.year-1, 8, 1)\n",
        "    return datetime(date.year-0, 8, 1)\n",
        "\n",
        "def filter_dataframe_by_bothteams_history(df, date, HomeTeam, AwayTeam):\n",
        "    # Convert the input string date into datetime\n",
        "    date = pd.to_datetime(date, dayfirst=True)\n",
        "\n",
        "    # Filter the dataframe to include only rows where Date\n",
        "    df_filtered = df.copy()\n",
        "    df_filtered = df_filtered[(df_filtered.Date<date) & (df_filtered.HomeTeam_Enc==HomeTeam) & (df_filtered.AwayTeam_Enc==AwayTeam)]\n",
        "\n",
        "    # Return filtered dataframe\n",
        "    return df_filtered\n",
        "\n",
        "def filter_dataframe_by_hometeam_recent_season(df, date, HomeTeam):\n",
        "    # Convert the input string date into datetime\n",
        "    date = pd.to_datetime(date, dayfirst=True)\n",
        "\n",
        "    # Filter the dataframe to include only rows where Dateinput(first day of season) && HomeTeam=input(HomeTeam)\n",
        "    df_filtered = df.copy()\n",
        "    df_filtered = df_filtered[(df_filtered.Date<date) & (df_filtered.Date>get_season_start_date(date)) & (df_filtered.HomeTeam_Enc==HomeTeam)]\n",
        "\n",
        "    # Return filtered dataframe\n",
        "    return df_filtered\n",
        "\n",
        "def filter_dataframe_by_awayteam_recent_season(df, date, AwayTeam):\n",
        "    # Convert the input string date into datetime\n",
        "    date = pd.to_datetime(date, dayfirst=True)\n",
        "\n",
        "    # Filter the dataframe to include only rows where Dateinput(first day of season) && HomeTeam=input(HomeTeam)\n",
        "    df_filtered = df.copy()\n",
        "    df_filtered = df_filtered[(df_filtered.Date<date) & (df_filtered.Date>get_season_start_date(date)) & (df_filtered.AwayTeam_Enc==AwayTeam)]\n",
        "\n",
        "    # Return filtered dataframe\n",
        "    return df_filtered\n",
        "\n",
        "# This function takes as input the filtered dataframe from previous cell, features to average and a dictionary,\n",
        "# it then appends an average of each feature to the dictionary\n",
        "def average_columns(avg_features, filtered_df):\n",
        "    for feature in avg_features.keys():\n",
        "        df_col_means = filtered_df[feature].mean()\n",
        "        avg_features[feature].append(df_col_means)\n",
        "\n",
        "\n",
        "\n",
        "# CREATE FEATURES & ADD TO ORIGINAL DATAFRAME\n",
        "def create_df(df):\n",
        "  df_final = df_epl.copy()\n",
        "  # These are the features we want to get averages for both teams\n",
        "  avg_features_both = {\n",
        "                      \"FTHG\": [],\n",
        "                      \"FTAG\": [],\n",
        "                      \"HTHG\": [],\n",
        "                      \"HTAG\": [],\n",
        "                      \"HS\"  : [],\n",
        "                      \"AS\"  : [],\n",
        "                      \"HST\" : [],\n",
        "                      \"AST\" : [],\n",
        "                      \"HF\"  : [],\n",
        "                      \"AF\"  : [],\n",
        "                      \"HC\"  : [],\n",
        "                      \"AC\"  : [],\n",
        "                      \"HY\"  : [],\n",
        "                      \"AY\"  : [],\n",
        "                      \"HR\"  : [],\n",
        "                      \"AR\"  : []\n",
        "                  }\n",
        "\n",
        "  # These are the features we want to get averages for home team\n",
        "  avg_features_home = {\n",
        "                      \"FTHG\": [],\n",
        "                      \"HTHG\": [],\n",
        "                      \"HS\"  : [],\n",
        "                      \"HST\" : [],\n",
        "                      \"HF\"  : [],\n",
        "                      \"HC\"  : [],\n",
        "                      \"HY\"  : [],\n",
        "                      \"HR\"  : [],\n",
        "                  }\n",
        "\n",
        "  # These are the features we want to get averages for away team\n",
        "  avg_features_away = {\n",
        "                      \"FTAG\": [],\n",
        "                      \"HTAG\": [],\n",
        "                      \"AS\"  : [],\n",
        "                      \"AST\" : [],\n",
        "                      \"AF\"  : [],\n",
        "                      \"AC\"  : [],\n",
        "                      \"AY\"  : [],\n",
        "                      \"AR\"  : []\n",
        "                    }\n",
        "\n",
        "  # Run the two functions on each row of the df_epl_train and fill the dictionary, For each row in the dataframe\n",
        "  for index, row in df_final.iterrows():\n",
        "      # Filter the dataframe to only show matches played between those teams and before the certain date\n",
        "      df_epl_train_average_bothteams_history = filter_dataframe_by_bothteams_history(df_final, row[\"Date\"],row[\"HomeTeam_Enc\"],row[\"AwayTeam_Enc\"])\n",
        "      df_epl_train_average_hometeam_recent_season = filter_dataframe_by_hometeam_recent_season(df_final, row[\"Date\"],row[\"HomeTeam_Enc\"])\n",
        "      df_epl_train_average_awayteam_recent_season = filter_dataframe_by_awayteam_recent_season(df_final, row[\"Date\"],row[\"AwayTeam_Enc\"])\n",
        "      # Get averages from the filtered dataframe and add the the dictionary\n",
        "      average_columns(avg_features_both, df_epl_train_average_bothteams_history)\n",
        "      average_columns(avg_features_home, df_epl_train_average_hometeam_recent_season)\n",
        "      average_columns(avg_features_away, df_epl_train_average_awayteam_recent_season)\n",
        "\n",
        "  for feature in avg_features_both.keys():\n",
        "      # Get the list of averages for a certain feature from the dicitonary\n",
        "      feature_vals = avg_features_both[feature]\n",
        "      # Add the list of averages into the dataframe for that certain feature\n",
        "      df_final[feature + \"_HISTORY\"] = feature_vals\n",
        "\n",
        "  for feature in avg_features_home.keys():\n",
        "      # Get the list of averages for a certain feature from the dicitonary\n",
        "      feature_vals = avg_features_home[feature]\n",
        "      # Add the list of averages into the dataframe for that certain feature\n",
        "      df_final[feature + \"_AVG\"] = feature_vals\n",
        "      \n",
        "  for feature in avg_features_away.keys():\n",
        "      # Get the list of averages for a certain feature from the dicitonary\n",
        "      feature_vals = avg_features_away[feature]\n",
        "      # Add the list of averages into the dataframe for that certain feature\n",
        "      df_final[feature + \"_AVG\"] = feature_vals\n",
        "\n",
        "  # Drop any rows with nan\n",
        "  return df_final.dropna()\n",
        "\n",
        "\n",
        "\n",
        "# CODE TO CREATE DESIGN MATRIX\n",
        "def create_design_matrix(df):\n",
        "  X = df.loc[:,['Day', 'Month', 'HomeTeam_Enc', 'AwayTeam_Enc',\n",
        "                              'HS_HISTORY','AS_HISTORY','HST_HISTORY','AST_HISTORY','HF_HISTORY','AF_HISTORY','HC_HISTORY','AC_HISTORY','HY_HISTORY','AY_HISTORY','HR_HISTORY','AR_HISTORY',\n",
        "                              'HS_AVG','AS_AVG','HST_AVG','AST_AVG','HF_AVG','AF_AVG','HC_AVG','AC_AVG','HY_AVG','AY_AVG','HR_AVG','AR_AVG']].values\n",
        "  # X = df.drop(['FTR', 'Date'], axis=1).values\n",
        "  return X\n",
        "\n",
        "\n",
        "\n",
        "# MAIN CODE\n",
        "df_final = create_df(df_epl)\n",
        "X = create_design_matrix(df_final)\n",
        "y = df_final.loc[:,['FTR']].values\n",
        "X_train, X_test, y_train, y_test = model_selection.train_test_split(X, y, test_size=0.2, random_state=42)\n",
        "\n",
        "FTR_encoder = LabelEncoder()\n",
        "y_train = FTR_encoder.fit_transform(y_train);"
      ],
      "metadata": {
        "colab": {
          "base_uri": "https://localhost:8080/"
        },
        "id": "aYA3DAhKrEhW",
        "outputId": "652a1d8f-5495-4fd6-e81e-250439fa2e42"
      },
      "execution_count": 54,
      "outputs": [
        {
          "output_type": "stream",
          "name": "stderr",
          "text": [
            "/usr/local/lib/python3.7/dist-packages/sklearn/preprocessing/_label.py:115: DataConversionWarning: A column-vector y was passed when a 1d array was expected. Please change the shape of y to (n_samples, ), for example using ravel().\n",
            "  y = column_or_1d(y, warn=True)\n"
          ]
        }
      ]
    },
    {
      "cell_type": "markdown",
      "source": [
        "#### Decision Tree Classifier"
      ],
      "metadata": {
        "id": "s7IGhSu6ut2c"
      }
    },
    {
      "cell_type": "code",
      "source": [
        "# CROSS VALIDATION USING TRAINING DATA - DT\n",
        "cv = KFold(n_splits=5, random_state=42, shuffle=True)  # 5-fold cross validation\n",
        "# define the model\n",
        "dt = DecisionTreeClassifier(random_state=42)\n",
        "# define search space - hyperparameters - ADD OTHER HYPERPARAMERTERS HERE\n",
        "space = dict()\n",
        "space['max_features'] = list(np.linspace(1, X.shape[1], X.shape[1]//5, dtype=int))\n",
        "space['max_depth'] = list(np.linspace(1, X.shape[1], X.shape[1]//5, dtype=int))\n",
        "# define search space\n",
        "search = GridSearchCV(dt, space, scoring='accuracy', cv=cv, refit=True)\n",
        "# execute search (i.e. start model selection) using the parameters\n",
        "result = search.fit(X_train, y_train)\n",
        "# get the best performing model fit on the whole training set\n",
        "best_model = result.best_estimator_\n",
        "\n",
        "\n",
        "\n",
        "# Using the cross validation we have found the best hyperparamters and\n",
        "# hence the best model, now will we use this model to predict the values\n",
        "# for the unseen test data - evaluate model on the hold out dataset\n",
        "y_pred = best_model.predict(X_test)\n",
        "# Reconverting prediction values (i.e. 0, 1 or 2) back into (H, D or A) \n",
        "# using the FTR_encoder defined in earlier cell\n",
        "y_pred = FTR_encoder.inverse_transform(y_pred)\n",
        "\n",
        "evaluate_report(y_pred, y_test)\n",
        "model_acc_dict['DT'] = round(accuracy_score(y_test,y_pred)*100, 2)"
      ],
      "metadata": {
        "colab": {
          "base_uri": "https://localhost:8080/",
          "height": 482
        },
        "id": "cz5Cx0dWuygM",
        "outputId": "2da1b2b2-1e20-4f5f-89d1-de6849b5bd8a"
      },
      "execution_count": 55,
      "outputs": [
        {
          "output_type": "stream",
          "name": "stdout",
          "text": [
            "Accuracy:  0.5062447960033306\n",
            "              precision    recall  f1-score   support\n",
            "\n",
            "           A       0.44      0.53      0.48       347\n",
            "           D       0.27      0.09      0.14       290\n",
            "           H       0.58      0.71      0.64       564\n",
            "\n",
            "    accuracy                           0.51      1201\n",
            "   macro avg       0.43      0.44      0.42      1201\n",
            "weighted avg       0.47      0.51      0.47      1201\n",
            "\n"
          ]
        },
        {
          "output_type": "display_data",
          "data": {
            "text/plain": [
              "<Figure size 432x288 with 2 Axes>"
            ],
            "image/png": "[encoded data removed]"
          },
          "metadata": {
            "needs_background": "light"
          }
        }
      ]
    },
    {
      "cell_type": "markdown",
      "source": [
        "#### Random Forest Classifier"
      ],
      "metadata": {
        "id": "xRRf530cuz24"
      }
    },
    {
      "cell_type": "code",
      "source": [
        "# CROSS VALIDATION USING TRAINING DATA - RF\n",
        "cv = KFold(n_splits=5, random_state=42, shuffle=True)  # 5-fold cross validation\n",
        "# define the model\n",
        "rf = RandomForestClassifier(random_state=42)\n",
        "# define search space - hyperparameters - ADD OTHER HYPERPARAMERTERS HERE\n",
        "space = dict()\n",
        "space['max_features'] = list(np.linspace(1, X.shape[1], X.shape[1]//5, dtype=int))\n",
        "space['max_depth'] = list(np.linspace(1, X.shape[1], X.shape[1]//5, dtype=int))\n",
        "# define search space\n",
        "search = GridSearchCV(rf, space, scoring='accuracy', cv=cv, refit=True)\n",
        "# execute search (i.e. start model selection) using the parameters\n",
        "result = search.fit(X_train, y_train)\n",
        "# get the best performing model fit on the whole training set\n",
        "best_model = result.best_estimator_\n",
        "\n",
        "# Using the cross validation we have found the best hyperparamters and\n",
        "# hence the best model, now will we use this model to predict the values\n",
        "# for the unseen test data - evaluate model on the hold out dataset\n",
        "y_pred = best_model.predict(X_test)\n",
        "\n",
        "# Reconverting prediction values (i.e. 0, 1 or 2) back into (H, D or A) \n",
        "# using the FTR_encoder defined in earlier cell\n",
        "y_pred = FTR_encoder.inverse_transform(y_pred)\n",
        "\n",
        "evaluate_report(y_pred, y_test)\n",
        "model_acc_dict['RF'] = round(accuracy_score(y_test,y_pred)*100, 2)"
      ],
      "metadata": {
        "colab": {
          "base_uri": "https://localhost:8080/",
          "height": 482
        },
        "id": "LCqsmuWFu4T7",
        "outputId": "b6c8d689-5784-437f-9d51-4282cea32375"
      },
      "execution_count": 56,
      "outputs": [
        {
          "output_type": "stream",
          "name": "stdout",
          "text": [
            "Accuracy:  0.5512073272273106\n",
            "              precision    recall  f1-score   support\n",
            "\n",
            "           A       0.52      0.49      0.51       347\n",
            "           D       0.25      0.01      0.02       290\n",
            "           H       0.57      0.87      0.68       564\n",
            "\n",
            "    accuracy                           0.55      1201\n",
            "   macro avg       0.45      0.46      0.40      1201\n",
            "weighted avg       0.48      0.55      0.47      1201\n",
            "\n"
          ]
        },
        {
          "output_type": "display_data",
          "data": {
            "text/plain": [
              "<Figure size 432x288 with 2 Axes>"
            ],
            "image/png": "[encoded data removed]"
          },
          "metadata": {
            "needs_background": "light"
          }
        }
      ]
    },
    {
      "cell_type": "markdown",
      "source": [
        "#### K-Nearest Neighbours (KNN)"
      ],
      "metadata": {
        "id": "1OKJoAi7u58z"
      }
    },
    {
      "cell_type": "code",
      "source": [
        "# CROSS VALIDATION USING TRAINING DATA - KNN\n",
        "cv = KFold(n_splits=5, random_state=42, shuffle=True)  # 5-fold cross validation\n",
        "results = list()\n",
        "# define the model\n",
        "knn = KNeighborsClassifier()\n",
        "# define search space - hyperparameters - ADD OTHER HYPERPARAMERTERS HERE\n",
        "space = dict()\n",
        "space['n_neighbors'] = list(np.linspace(3, 10, 2, dtype=int))\n",
        "# define search space\n",
        "search = GridSearchCV(knn, space, scoring='accuracy', cv=cv, refit=True)\n",
        "# execute search (i.e. start model selection) using the parameters\n",
        "result = search.fit(X_train, y_train)\n",
        "# get the best performing model fit on the whole training set\n",
        "best_model = result.best_estimator_\n",
        "\n",
        "# Using the cross validation we have found the best hyperparamters and\n",
        "# hence the best model, now will we use this model to predict the values\n",
        "# for the unseen test data - evaluate model on the hold out dataset\n",
        "y_pred = best_model.predict(X_test)\n",
        "\n",
        "# Reconverting prediction values (i.e. 0, 1 or 2) back into (H, D or A) \n",
        "# using the FTR_encoder defined in earlier cell\n",
        "y_pred = FTR_encoder.inverse_transform(y_pred)\n",
        "\n",
        "evaluate_report(y_pred, y_test)\n",
        "model_acc_dict['KNN'] = round(accuracy_score(y_test,y_pred)*100, 2)"
      ],
      "metadata": {
        "colab": {
          "base_uri": "https://localhost:8080/",
          "height": 482
        },
        "id": "4PiXdZuivA-O",
        "outputId": "ac1571d8-9557-4fca-be74-852636b023af"
      },
      "execution_count": 57,
      "outputs": [
        {
          "output_type": "stream",
          "name": "stdout",
          "text": [
            "Accuracy:  0.46960865945045793\n",
            "              precision    recall  f1-score   support\n",
            "\n",
            "           A       0.43      0.50      0.46       347\n",
            "           D       0.24      0.14      0.18       290\n",
            "           H       0.56      0.62      0.59       564\n",
            "\n",
            "    accuracy                           0.47      1201\n",
            "   macro avg       0.41      0.42      0.41      1201\n",
            "weighted avg       0.44      0.47      0.45      1201\n",
            "\n"
          ]
        },
        {
          "output_type": "display_data",
          "data": {
            "text/plain": [
              "<Figure size 432x288 with 2 Axes>"
            ],
            "image/png": "[encoded data removed]"
          },
          "metadata": {
            "needs_background": "light"
          }
        }
      ]
    },
    {
      "cell_type": "markdown",
      "source": [
        "#### Summary Of Results"
      ],
      "metadata": {
        "id": "_7EFP-bRvBpf"
      }
    },
    {
      "cell_type": "code",
      "source": [
        "# TODO(@Adam): Add histogram to compare accuracies of the differen models trained before (plus baseline)\n",
        "summary_hist(title=\"Summary of Models - Feature Set 5\", fig_size=(9, 9))"
      ],
      "metadata": {
        "id": "eeVWuicQvF1B",
        "colab": {
          "base_uri": "https://localhost:8080/",
          "height": 657
        },
        "outputId": "40ba2fde-b0c0-42c8-c56f-79679bdda87f"
      },
      "execution_count": 58,
      "outputs": [
        {
          "output_type": "display_data",
          "data": {
            "text/plain": [
              "<Figure size 648x648 with 1 Axes>"
            ],
            "image/png": "[encoded data removed]"
          },
          "metadata": {
            "needs_background": "light"
          }
        }
      ]
    },
    {
      "cell_type": "markdown",
      "metadata": {
        "id": "xE3rzsKRD_-8"
      },
      "source": [
        "### **FEATURE SET 6** – Complex: Included Expected Goals, Number of Past Wins (Home & Away)\n",
        "\n",
        "*SUMMARY ->* Here we aim to improve our previous score by adding some complex features to the design matrix. These features are Home/Away Team ratings, the expected/predicted goals for each team and the number of past wins in season for the home/away team.\n",
        "\n",
        "The Home/Away team ratings are calculated by using a weighted sum of some of the averages we calculated in MODEL 4. The expected goals for each team are calculated using a polynomial regression classifier that is trained using again some of the features from the previous MODELS. The number of past wins are calculated by summing the number of wins by the team in the season. Once we calculate these extra features, we can then use them as extra inputs into the classifier.\n",
        "\n",
        "NOTE: We must remove the rows in the dataframe where the average values of stats/features are 'nan'; we get these values because either its the teams first game of the season (hence no past data) OR because we have not got the past stats for these matches in the dataset. We cannot use the 'nan' values for the classifier training and hence have to remove these rows. We can then train a classifier using this final dataframe.\n",
        "\n",
        "SO, In the final model/classifier, in the case where we DO NOT have these past stats of the teams playing, we need to switch back to using a variation of MODEL 2 which takes the 4 basic features: day, month, HomeTeam and AwayTeam. In the case where we DO have these past stats for the teams, we can use this model/classifier and input the features like HST_AVG. We would find these by using the filter_dataframe() and average_columns() functions to find them for any two specific teams playing each other on some date.\n",
        "\n",
        "NOTE: This applies to MODEL 4 as well. A similar case applies to MODEL 3 BUT  in this case it happens when the two teams playing each other have not played each other before OR when we do not have this data in the dataset."
      ]
    },
    {
      "cell_type": "markdown",
      "source": [
        "#### Create Dataframe & Design Matrix"
      ],
      "metadata": {
        "id": "yHSB_Zsswa8r"
      }
    },
    {
      "cell_type": "code",
      "source": [
        "# HELPER FUNCTIONS FOR CREATE_DF()\n",
        "def get_season_start_date(date):\n",
        "    if date.month <= 7:\n",
        "        return datetime(date.year-1, 8, 1)\n",
        "    return datetime(date.year-0, 8, 1)\n",
        "\n",
        "def filter_dataframe_by_bothteams_history(df, date, HomeTeam, AwayTeam):\n",
        "    # Convert the input string date into datetime\n",
        "    date = pd.to_datetime(date, dayfirst=True)\n",
        "\n",
        "    # Filter the dataframe to include only rows where Date\n",
        "    df_filtered = df.copy()\n",
        "    df_filtered = df_filtered[(df_filtered.Date<date) & (df_filtered.HomeTeam_Enc==HomeTeam) & (df_filtered.AwayTeam_Enc==AwayTeam)]\n",
        "\n",
        "    # Return filtered dataframe\n",
        "    return df_filtered\n",
        "\n",
        "def filter_dataframe_by_hometeam_recent_season(df, date, HomeTeam):\n",
        "    # Convert the input string date into datetime\n",
        "    date = pd.to_datetime(date, dayfirst=True)\n",
        "\n",
        "    # Filter the dataframe to include only rows where Dateinput(first day of season) && HomeTeam=input(HomeTeam)\n",
        "    df_filtered = df.copy()\n",
        "    df_filtered = df_filtered[(df_filtered.Date<date) & (df_filtered.Date>get_season_start_date(date)) & (df_filtered.HomeTeam_Enc==HomeTeam)]\n",
        "\n",
        "    # Return filtered dataframe\n",
        "    return df_filtered\n",
        "\n",
        "def filter_dataframe_by_awayteam_recent_season(df, date, AwayTeam):\n",
        "    # Convert the input string date into datetime\n",
        "    date = pd.to_datetime(date, dayfirst=True)\n",
        "\n",
        "    # Filter the dataframe to include only rows where Dateinput(first day of season) && HomeTeam=input(HomeTeam)\n",
        "    df_filtered = df.copy()\n",
        "    df_filtered = df_filtered[(df_filtered.Date<date) & (df_filtered.Date>get_season_start_date(date)) & (df_filtered.AwayTeam_Enc==AwayTeam)]\n",
        "\n",
        "    # Return filtered dataframe\n",
        "    return df_filtered\n",
        "\n",
        "# This function takes as input the filtered dataframe from previous cell, features to average and a dictionary,\n",
        "# it then appends an average of each feature to the dictionary\n",
        "def average_columns(avg_features, filtered_df):\n",
        "    for feature in avg_features.keys():\n",
        "        df_col_means = filtered_df[feature].mean()\n",
        "        avg_features[feature].append(df_col_means)\n",
        "\n",
        "# This function takes as input a filtered dataframe from previous cell, and a list,\n",
        "# it then appends the % number of home/away wins in past\n",
        "def find_number_of_wins(number_of_wins_list, filtered_df, team):\n",
        "    df_filtered_ftr = filtered_df.copy()\n",
        "    total_games = df_filtered_ftr.shape[0]\n",
        "    if total_games == 0:\n",
        "        number_of_wins_list.append(np.nan)\n",
        "        return\n",
        "    number_of_wins = df_filtered_ftr[(df_filtered_ftr.FTR==team)].shape[0]\n",
        "    number_of_wins_list.append(number_of_wins/total_games)\n",
        "\n",
        "\n",
        "\n",
        "# CREATE FEATURES & ADD TO ORIGINAL DATAFRAME\n",
        "def create_df(df):\n",
        "  df_final = df_epl.copy()\n",
        "  # These are the features we want to get averages for both teams\n",
        "  avg_features_both = {\n",
        "                      \"FTHG\": [],\n",
        "                      \"FTAG\": [],\n",
        "                      \"HTHG\": [],\n",
        "                      \"HTAG\": [],\n",
        "                      \"HS\"  : [],\n",
        "                      \"AS\"  : [],\n",
        "                      \"HST\" : [],\n",
        "                      \"AST\" : [],\n",
        "                      \"HF\"  : [],\n",
        "                      \"AF\"  : [],\n",
        "                      \"HC\"  : [],\n",
        "                      \"AC\"  : [],\n",
        "                      \"HY\"  : [],\n",
        "                      \"AY\"  : [],\n",
        "                      \"HR\"  : [],\n",
        "                      \"AR\"  : []\n",
        "                  }\n",
        "\n",
        "  # These are the features we want to get averages for home team\n",
        "  avg_features_home = {\n",
        "                      \"FTHG\": [],\n",
        "                      \"HTHG\": [],\n",
        "                      \"HS\"  : [],\n",
        "                      \"HST\" : [],\n",
        "                      \"HF\"  : [],\n",
        "                      \"HC\"  : [],\n",
        "                      \"HY\"  : [],\n",
        "                      \"HR\"  : [],\n",
        "                  }\n",
        "\n",
        "  # These are the features we want to get averages for away team\n",
        "  avg_features_away = {\n",
        "                      \"FTAG\": [],\n",
        "                      \"HTAG\": [],\n",
        "                      \"AS\"  : [],\n",
        "                      \"AST\" : [],\n",
        "                      \"AF\"  : [],\n",
        "                      \"AC\"  : [],\n",
        "                      \"AY\"  : [],\n",
        "                      \"AR\"  : []\n",
        "                    }\n",
        "\n",
        "  number_of_wins_HOME = []\n",
        "  number_of_wins_AWAY = []\n",
        "\n",
        "  # Run the two functions on each row of the df_epl_train and fill the dictionary, For each row in the dataframe\n",
        "  for index, row in df_final.iterrows():\n",
        "      # Filter the dataframe to only show matches played between those teams and before the certain date\n",
        "      df_epl_train_average_bothteams_history = filter_dataframe_by_bothteams_history(df_final, row[\"Date\"],row[\"HomeTeam_Enc\"],row[\"AwayTeam_Enc\"])\n",
        "      df_epl_train_average_hometeam_recent_season = filter_dataframe_by_hometeam_recent_season(df_final, row[\"Date\"],row[\"HomeTeam_Enc\"])\n",
        "      df_epl_train_average_awayteam_recent_season = filter_dataframe_by_awayteam_recent_season(df_final, row[\"Date\"],row[\"AwayTeam_Enc\"])\n",
        "      # Get averages from the filtered dataframe and add the the dictionary\n",
        "      average_columns(avg_features_both, df_epl_train_average_bothteams_history)\n",
        "      average_columns(avg_features_home, df_epl_train_average_hometeam_recent_season)\n",
        "      average_columns(avg_features_away, df_epl_train_average_awayteam_recent_season)\n",
        "      # Get number_of_wins from the filtered dataframe and add to list\n",
        "      find_number_of_wins(number_of_wins_HOME, df_epl_train_average_hometeam_recent_season, \"H\")\n",
        "      find_number_of_wins(number_of_wins_AWAY, df_epl_train_average_awayteam_recent_season, \"A\")\n",
        "\n",
        "  for feature in avg_features_both.keys():\n",
        "      # Get the list of averages for a certain feature from the dicitonary\n",
        "      feature_vals = avg_features_both[feature]\n",
        "      # Add the list of averages into the dataframe for that certain feature\n",
        "      df_final[feature + \"_HISTORY\"] = feature_vals\n",
        "\n",
        "  for feature in avg_features_home.keys():\n",
        "      # Get the list of averages for a certain feature from the dicitonary\n",
        "      feature_vals = avg_features_home[feature]\n",
        "      # Add the list of averages into the dataframe for that certain feature\n",
        "      df_final[feature + \"_AVG\"] = feature_vals\n",
        "      \n",
        "  for feature in avg_features_away.keys():\n",
        "      # Get the list of averages for a certain feature from the dicitonary\n",
        "      feature_vals = avg_features_away[feature]\n",
        "      # Add the list of averages into the dataframe for that certain feature\n",
        "      df_final[feature + \"_AVG\"] = feature_vals\n",
        "\n",
        "  # Add the past % number of wins\n",
        "  df_final[\"HW_AVG\"] = number_of_wins_HOME\n",
        "  df_final[\"AW_AVG\"] = number_of_wins_AWAY\n",
        "\n",
        "  df_final = df_final.dropna()\n",
        "\n",
        "  # Here we aim to create a 'expected or predicted goals for a HomeTeam' feature based upon the HomeTeamRating, \n",
        "  # and also the past wins, losses and draws, our outputs will be full time goals(FTHG). Similar for Away.\n",
        "  min_mse_home = float('inf')\n",
        "  min_mse_away = float('inf')\n",
        "\n",
        "  # Create the design matrix\n",
        "  X_H = df_final.loc[:,['Day', 'Month', 'HomeTeam_Enc', 'FTHG_AVG', 'HTHG_AVG', 'HS_AVG']].values\n",
        "  y_H = df_final.loc[:,'FTHG'].values\n",
        "  X_H_train, X_H_test, y_H_train, y_H_test = model_selection.train_test_split(X_H, y_H, test_size=0.2, random_state=20)\n",
        "\n",
        "  # Similar idea for AwayTeam\n",
        "  X_A = df_final.loc[:,['Day', 'Month', 'AwayTeam_Enc', 'FTAG_AVG', 'HTAG_AVG', 'AS_AVG']].values\n",
        "  y_A = df_final.loc[:,'FTAG'].values\n",
        "  X_A_train, X_A_test, y_A_train, y_A_test = model_selection.train_test_split(X_A, y_A, test_size=0.2, random_state=20)\n",
        "\n",
        "  # Here we use a polynomial regression classifier - and select best one:\n",
        "  for i in range(1,5):\n",
        "      # Select order\n",
        "      poly = PolynomialFeatures(degree=i)\n",
        "\n",
        "      # Transform the features\n",
        "      X_H_train_transform = poly.fit_transform(X_H_train)\n",
        "      X_H_test_transform = poly.fit_transform(X_H_test)\n",
        "\n",
        "      LR_Model_HOME_EG = LinearRegression()\n",
        "      # Fit the model using training data\n",
        "      LR_Model_HOME_EG.fit(X_H_train_transform, y_H_train)\n",
        "      # Make predictions using the model we have created\n",
        "      LR_H_predictions_test = LR_Model_HOME_EG.predict(X_H_test_transform)\n",
        "      # Check the mean square error(MSE) for HomeTeam Expected Goals\n",
        "      print(i, mean_squared_error(LR_H_predictions_test, y_H_test))\n",
        "\n",
        "      # Transform the features\n",
        "      X_A_train_transform = poly.fit_transform(X_A_train)\n",
        "      X_A_test_transform = poly.fit_transform(X_A_test)\n",
        "\n",
        "      LR_Model_AWAY_EG = LinearRegression()\n",
        "      # Fit the model using training data\n",
        "      LR_Model_AWAY_EG.fit(X_A_train_transform, y_A_train)\n",
        "      # Make predictions using the model we have created\n",
        "      LR_A_predictions_test = LR_Model_AWAY_EG.predict(X_A_test_transform)\n",
        "      # Check the mean square error(MSE) for AwayTeam Expected Goals\n",
        "      # print(i, mean_squared_error(LR_A_predictions_test, y_A_test))\n",
        "\n",
        "      curr_mse_home = mean_squared_error(LR_H_predictions_test, y_H_test)\n",
        "      curr_mse_away = mean_squared_error(LR_A_predictions_test, y_A_test)\n",
        "      \n",
        "      if curr_mse_home < min_mse_home:\n",
        "          best_poly1 = poly\n",
        "          best_model_home = LR_Model_HOME_EG\n",
        "          min_mse_home = curr_mse_home\n",
        "      \n",
        "      if curr_mse_away < min_mse_away:\n",
        "          best_poly2 = poly\n",
        "          best_model_away = LR_Model_AWAY_EG\n",
        "          min_mse_away = curr_mse_away\n",
        "\n",
        "  # Using the two regression classfiers above, predict the number of goals that \n",
        "  # the Home and Away teams will hit for each row in the dataframe:\n",
        "  HomeExGoals = []\n",
        "  AwayExGoals = []\n",
        "  # For each row, predict the home and away expected goals\n",
        "  for index, row in df_final.iterrows():\n",
        "      X_Home_features = np.array([[row[\"Day\"],row[\"Month\"],row[\"HomeTeam_Enc\"],row[\"FTHG_AVG\"],row[\"HTHG_AVG\"],row[\"HS_AVG\"]]])\n",
        "      X_Away_features = np.array([[row[\"Day\"],row[\"Month\"],row[\"AwayTeam_Enc\"],row[\"FTAG_AVG\"],row[\"HTAG_AVG\"],row[\"AS_AVG\"]]])\n",
        "      # Transform features since we use polynomial regression\n",
        "      X_Home_features_transform = best_poly1.fit_transform(X_Home_features)\n",
        "      X_Away_features_transform = best_poly2.fit_transform(X_Away_features)\n",
        "      # Use the best polynomial classifier - Note the prediction is a 1 by 1 vector\n",
        "      ex_home_goals = best_model_home.predict(X_Home_features_transform)[0]\n",
        "      ex_away_goals = best_model_away.predict(X_Away_features_transform)[0]\n",
        "      # Add prediciton to list\n",
        "      HomeExGoals.append(ex_home_goals)\n",
        "      AwayExGoals.append(ex_away_goals)\n",
        "\n",
        "  # Add this data into the final dataframe\n",
        "  df_final[\"Ex_Goals_Home\"] = HomeExGoals\n",
        "  df_final[\"Ex_Goals_Away\"] = AwayExGoals\n",
        "\n",
        "  # Drop any rows with nan\n",
        "  return df_final\n",
        "\n",
        "\n",
        "\n",
        "# CODE TO CREATE DESIGN MATRIX\n",
        "def create_design_matrix(df):\n",
        "  X = df.loc[:,['Day', 'Month', 'HomeTeam_Enc', 'AwayTeam_Enc',\n",
        "                              'HS_HISTORY','AS_HISTORY','HST_HISTORY','AST_HISTORY','HF_HISTORY','AF_HISTORY','HC_HISTORY','AC_HISTORY','HY_HISTORY','AY_HISTORY','HR_HISTORY','AR_HISTORY',\n",
        "                              'HS_AVG','AS_AVG','HST_AVG','AST_AVG','HF_AVG','AF_AVG','HC_AVG','AC_AVG','HY_AVG','AY_AVG','HR_AVG','AR_AVG','HW_AVG','AW_AVG','Ex_Goals_Home','Ex_Goals_Away']].values\n",
        "  # X = df.drop(['FTR', 'Date'], axis=1).values\n",
        "  return X\n",
        "\n",
        "\n",
        "\n",
        "# MAIN CODE\n",
        "df_final = create_df(df_epl)\n",
        "X = create_design_matrix(df_final)\n",
        "y = df_final.loc[:,['FTR']].values\n",
        "X_train, X_test, y_train, y_test = model_selection.train_test_split(X, y, test_size=0.2, random_state=42)\n",
        "\n",
        "FTR_encoder = LabelEncoder()\n",
        "y_train = FTR_encoder.fit_transform(y_train);"
      ],
      "metadata": {
        "colab": {
          "base_uri": "https://localhost:8080/"
        },
        "id": "onFlAL21wgzf",
        "outputId": "4352a1dc-4b94-4293-d75c-100d35f1f609"
      },
      "execution_count": 59,
      "outputs": [
        {
          "output_type": "stream",
          "name": "stdout",
          "text": [
            "1 1.5703161278928965\n",
            "2 1.55917101860113\n",
            "3 1.5440265254742451\n",
            "4 1.595503490607686\n"
          ]
        },
        {
          "output_type": "stream",
          "name": "stderr",
          "text": [
            "/usr/local/lib/python3.7/dist-packages/sklearn/preprocessing/_label.py:115: DataConversionWarning: A column-vector y was passed when a 1d array was expected. Please change the shape of y to (n_samples, ), for example using ravel().\n",
            "  y = column_or_1d(y, warn=True)\n"
          ]
        }
      ]
    },
    {
      "cell_type": "markdown",
      "source": [
        "#### Decision Tree Classifier"
      ],
      "metadata": {
        "id": "eXoG-0NawhsI"
      }
    },
    {
      "cell_type": "code",
      "source": [
        "# CROSS VALIDATION USING TRAINING DATA - DT\n",
        "cv = KFold(n_splits=5, random_state=42, shuffle=True)  # 5-fold cross validation\n",
        "# define the model\n",
        "dt = DecisionTreeClassifier(random_state=42)\n",
        "# define search space - hyperparameters - ADD OTHER HYPERPARAMERTERS HERE\n",
        "space = dict()\n",
        "space['max_features'] = list(np.linspace(1, X.shape[1], X.shape[1]//5, dtype=int))\n",
        "space['max_depth'] = list(np.linspace(1, X.shape[1], X.shape[1]//5, dtype=int))\n",
        "# define search space\n",
        "search = GridSearchCV(dt, space, scoring='accuracy', cv=cv, refit=True)\n",
        "# execute search (i.e. start model selection) using the parameters\n",
        "result = search.fit(X_train, y_train)\n",
        "# get the best performing model fit on the whole training set\n",
        "best_model = result.best_estimator_\n",
        "\n",
        "\n",
        "\n",
        "# Using the cross validation we have found the best hyperparamters and\n",
        "# hence the best model, now will we use this model to predict the values\n",
        "# for the unseen test data - evaluate model on the hold out dataset\n",
        "y_pred = best_model.predict(X_test)\n",
        "# Reconverting prediction values (i.e. 0, 1 or 2) back into (H, D or A) \n",
        "# using the FTR_encoder defined in earlier cell\n",
        "y_pred = FTR_encoder.inverse_transform(y_pred)\n",
        "\n",
        "evaluate_report(y_pred, y_test)\n",
        "model_acc_dict['DT'] = round(accuracy_score(y_test,y_pred)*100, 2)"
      ],
      "metadata": {
        "colab": {
          "base_uri": "https://localhost:8080/",
          "height": 482
        },
        "id": "CHbPUlanw-zd",
        "outputId": "980b8624-455c-4a58-d993-8f6c843e8fe0"
      },
      "execution_count": 60,
      "outputs": [
        {
          "output_type": "stream",
          "name": "stdout",
          "text": [
            "Accuracy:  0.5312239800166528\n",
            "              precision    recall  f1-score   support\n",
            "\n",
            "           A       0.50      0.45      0.47       347\n",
            "           D       0.27      0.04      0.08       290\n",
            "           H       0.56      0.83      0.67       564\n",
            "\n",
            "    accuracy                           0.53      1201\n",
            "   macro avg       0.44      0.44      0.41      1201\n",
            "weighted avg       0.47      0.53      0.47      1201\n",
            "\n"
          ]
        },
        {
          "output_type": "display_data",
          "data": {
            "text/plain": [
              "<Figure size 432x288 with 2 Axes>"
            ],
            "image/png": "[encoded data removed]"
          },
          "metadata": {
            "needs_background": "light"
          }
        }
      ]
    },
    {
      "cell_type": "markdown",
      "source": [
        "#### Random Forest Classifier"
      ],
      "metadata": {
        "id": "-O84uMn6woua"
      }
    },
    {
      "cell_type": "code",
      "source": [
        "# CROSS VALIDATION USING TRAINING DATA - RF\n",
        "cv = KFold(n_splits=5, random_state=42, shuffle=True)  # 5-fold cross validation\n",
        "# define the model\n",
        "rf = RandomForestClassifier(random_state=42)\n",
        "# define search space - hyperparameters - ADD OTHER HYPERPARAMERTERS HERE\n",
        "space = dict()\n",
        "space['max_features'] = list(np.linspace(1, X.shape[1], X.shape[1]//5, dtype=int))\n",
        "space['max_depth'] = list(np.linspace(1, X.shape[1], X.shape[1]//5, dtype=int))\n",
        "# define search space\n",
        "search = GridSearchCV(rf, space, scoring='accuracy', cv=cv, refit=True)\n",
        "# execute search (i.e. start model selection) using the parameters\n",
        "result = search.fit(X_train, y_train)\n",
        "# get the best performing model fit on the whole training set\n",
        "best_model = result.best_estimator_\n",
        "\n",
        "# Using the cross validation we have found the best hyperparamters and\n",
        "# hence the best model, now will we use this model to predict the values\n",
        "# for the unseen test data - evaluate model on the hold out dataset\n",
        "y_pred = best_model.predict(X_test)\n",
        "\n",
        "# Reconverting prediction values (i.e. 0, 1 or 2) back into (H, D or A) \n",
        "# using the FTR_encoder defined in earlier cell\n",
        "y_pred = FTR_encoder.inverse_transform(y_pred)\n",
        "\n",
        "evaluate_report(y_pred, y_test)\n",
        "model_acc_dict['RF'] = round(accuracy_score(y_test,y_pred)*100, 2)"
      ],
      "metadata": {
        "colab": {
          "base_uri": "https://localhost:8080/",
          "height": 482
        },
        "id": "_UZg0Gy1wnkJ",
        "outputId": "75d4fe61-5faf-4dd7-e65a-2cee13d2ccb4"
      },
      "execution_count": 61,
      "outputs": [
        {
          "output_type": "stream",
          "name": "stdout",
          "text": [
            "Accuracy:  0.5462114904246461\n",
            "              precision    recall  f1-score   support\n",
            "\n",
            "           A       0.52      0.50      0.51       347\n",
            "           D       0.08      0.00      0.01       290\n",
            "           H       0.56      0.85      0.68       564\n",
            "\n",
            "    accuracy                           0.55      1201\n",
            "   macro avg       0.39      0.45      0.40      1201\n",
            "weighted avg       0.44      0.55      0.47      1201\n",
            "\n"
          ]
        },
        {
          "output_type": "display_data",
          "data": {
            "text/plain": [
              "<Figure size 432x288 with 2 Axes>"
            ],
            "image/png": "[encoded data removed]"
          },
          "metadata": {
            "needs_background": "light"
          }
        }
      ]
    },
    {
      "cell_type": "markdown",
      "source": [
        "#### K-Nearest Neighbours (KNN)"
      ],
      "metadata": {
        "id": "aWsgUHu9w_sW"
      }
    },
    {
      "cell_type": "code",
      "source": [
        "# CROSS VALIDATION USING TRAINING DATA - KNN\n",
        "cv = KFold(n_splits=5, random_state=42, shuffle=True)  # 5-fold cross validation\n",
        "results = list()\n",
        "# define the model\n",
        "knn = KNeighborsClassifier()\n",
        "# define search space - hyperparameters - ADD OTHER HYPERPARAMERTERS HERE\n",
        "space = dict()\n",
        "space['n_neighbors'] = list(np.linspace(3, 10, 2, dtype=int))\n",
        "# define search space\n",
        "search = GridSearchCV(knn, space, scoring='accuracy', cv=cv, refit=True)\n",
        "# execute search (i.e. start model selection) using the parameters\n",
        "result = search.fit(X_train, y_train)\n",
        "# get the best performing model fit on the whole training set\n",
        "best_model = result.best_estimator_\n",
        "\n",
        "# Using the cross validation we have found the best hyperparamters and\n",
        "# hence the best model, now will we use this model to predict the values\n",
        "# for the unseen test data - evaluate model on the hold out dataset\n",
        "y_pred = best_model.predict(X_test)\n",
        "\n",
        "# Reconverting prediction values (i.e. 0, 1 or 2) back into (H, D or A) \n",
        "# using the FTR_encoder defined in earlier cell\n",
        "y_pred = FTR_encoder.inverse_transform(y_pred)\n",
        "\n",
        "evaluate_report(y_pred, y_test)\n",
        "model_acc_dict['KNN'] = round(accuracy_score(y_test,y_pred)*100, 2)"
      ],
      "metadata": {
        "colab": {
          "base_uri": "https://localhost:8080/",
          "height": 482
        },
        "id": "fo_waHJ7xG_g",
        "outputId": "3f3d77e9-fff3-47d8-8ba0-ed2dc138941a"
      },
      "execution_count": 62,
      "outputs": [
        {
          "output_type": "stream",
          "name": "stdout",
          "text": [
            "Accuracy:  0.46544546211490423\n",
            "              precision    recall  f1-score   support\n",
            "\n",
            "           A       0.43      0.50      0.46       347\n",
            "           D       0.23      0.13      0.17       290\n",
            "           H       0.56      0.62      0.58       564\n",
            "\n",
            "    accuracy                           0.47      1201\n",
            "   macro avg       0.40      0.42      0.40      1201\n",
            "weighted avg       0.44      0.47      0.45      1201\n",
            "\n"
          ]
        },
        {
          "output_type": "display_data",
          "data": {
            "text/plain": [
              "<Figure size 432x288 with 2 Axes>"
            ],
            "image/png": "[encoded data removed]"
          },
          "metadata": {
            "needs_background": "light"
          }
        }
      ]
    },
    {
      "cell_type": "markdown",
      "source": [
        "#### Summary Of Results"
      ],
      "metadata": {
        "id": "H4MnHGbuxIDe"
      }
    },
    {
      "cell_type": "code",
      "source": [
        "# TODO(@Adam): Add histogram to compare accuracies of the differen models trained before (plus baseline)\n",
        "summary_hist(title=\"Summary of Models - Feature Set 4\", fig_size=(9, 9))"
      ],
      "metadata": {
        "id": "CX_7XVdFxNZp",
        "colab": {
          "base_uri": "https://localhost:8080/",
          "height": 657
        },
        "outputId": "af02c96d-5a3a-48e8-e809-d7ab2c5c47fe"
      },
      "execution_count": 63,
      "outputs": [
        {
          "output_type": "display_data",
          "data": {
            "text/plain": [
              "<Figure size 648x648 with 1 Axes>"
            ],
            "image/png": "[encoded data removed]"
          },
          "metadata": {
            "needs_background": "light"
          }
        }
      ]
    }
  ],
  "metadata": {
    "kernelspec": {
      "display_name": "Python 3.10.4 ('COMP0036')",
      "language": "python",
      "name": "python3"
    },
    "language_info": {
      "codemirror_mode": {
        "name": "ipython",
        "version": 3
      },
      "file_extension": ".py",
      "mimetype": "text/x-python",
      "name": "python",
      "nbconvert_exporter": "python",
      "pygments_lexer": "ipython3",
      "version": "3.10.8"
    },
    "orig_nbformat": 4,
    "vscode": {
      "interpreter": {
        "hash": "17969e96c672e81b7c4af3859a4ff591d8f1fed8af1fa4f38310cd48afd8d95b"
      }
    },
    "colab": {
      "provenance": []
    }
  },
  "nbformat": 4,
  "nbformat_minor": 0
}