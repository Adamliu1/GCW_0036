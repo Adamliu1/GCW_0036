{
  "cells": [
    {
      "cell_type": "markdown",
      "metadata": {
        "id": "view-in-github",
        "colab_type": "text"
      },
      "source": [
        "<a href=\"https://colab.research.google.com/github/shabir-dhillon/GCW_0036/blob/shabir/Group_N_draft.ipynb\" target=\"_parent\"><img src=\"https://colab.research.google.com/assets/colab-badge.svg\" alt=\"Open In Colab\"/></a>"
      ]
    },
    {
      "cell_type": "markdown",
      "metadata": {
        "id": "Oldi7OJdD_-k"
      },
      "source": [
        "# COMP0036 Group Assignment: BEAT THE BOOKIE\n",
        "\n",
        "### Group N\n",
        "\n",
        "We have been assigned to build model(s) that predict the FTR value, which can be Home Win (H), Draw (D) and Away Win (A). The general steps we will be taking to build the model(s) begins with finding a suitable dataset and performing feature engineering on the selected features to be used in the model. This entails creating functions or classes to convert the raw data and transforms it into a format where every match has that historic feature. Then, we perform feature selection to filter out unimportant features, and use the selected features in model(s), and then compare and decide the best performing model. Finally, improve models to get the best accuracy."
      ]
    },
    {
      "cell_type": "code",
      "execution_count": null,
      "metadata": {
        "id": "uxT6h2PND_-q"
      },
      "outputs": [],
      "source": [
        "import os\n",
        "import pandas as pd\n",
        "import numpy as np\n",
        "\n",
        "# not import for now since tf not working on mine Mac rn\n",
        "#import tensorflow as tf\n",
        "\n",
        "from pandas.core.common import random_state\n",
        "\n",
        "from sklearn.base import BaseEstimator, ClassifierMixin\n",
        "from sklearn.metrics import ConfusionMatrixDisplay\n",
        "\n",
        "from sklearn.preprocessing import OrdinalEncoder\n",
        "from sklearn.preprocessing import LabelEncoder\n",
        "from sklearn.preprocessing import StandardScaler\n",
        "from sklearn import model_selection\n",
        "\n",
        "\n",
        "from sklearn.metrics import accuracy_score\n",
        "from sklearn.metrics import classification_report\n",
        "from sklearn.metrics import mean_squared_error\n",
        "\n",
        "from sklearn.neighbors import KNeighborsClassifier\n",
        "from sklearn.tree import DecisionTreeClassifier\n",
        "from sklearn.ensemble import RandomForestClassifier\n",
        "from sklearn.linear_model import LinearRegression\n",
        "from sklearn.preprocessing import PolynomialFeatures\n",
        "\n",
        "from xgboost import XGBClassifier\n",
        "\n",
        "from sklearn.model_selection import train_test_split\n",
        "from sklearn.metrics import plot_confusion_matrix\n",
        "from sklearn.metrics import confusion_matrix, ConfusionMatrixDisplay\n",
        "\n",
        "from numpy import mean\n",
        "from numpy import std\n",
        "from sklearn.model_selection import KFold\n",
        "from sklearn.model_selection import GridSearchCV\n",
        "\n",
        "from datetime import datetime"
      ]
    },
    {
      "cell_type": "markdown",
      "metadata": {
        "id": "vgtedFJKD_-s"
      },
      "source": [
        "Load training data"
      ]
    },
    {
      "cell_type": "code",
      "execution_count": null,
      "metadata": {
        "id": "TumL1q2YD_-t"
      },
      "outputs": [],
      "source": [
        "dirName_trainData = 'https://raw.githubusercontent.com/shabir-dhillon/GCW_0036/main/Group%20Coursework%20Brief-20221106/Data_Files/epl-full-training.csv'"
      ]
    },
    {
      "cell_type": "markdown",
      "metadata": {
        "id": "EAr74ORbD_-u"
      },
      "source": [
        "## Data Analysis "
      ]
    },
    {
      "cell_type": "code",
      "execution_count": null,
      "metadata": {
        "id": "cqjCn4t2D_-u",
        "outputId": "d57661ec-a2ea-4ea7-fca1-005209994be8",
        "colab": {
          "base_uri": "https://localhost:8080/"
        }
      },
      "outputs": [
        {
          "output_type": "display_data",
          "data": {
            "text/plain": [
              "  Div        Date   HomeTeam    AwayTeam  FTHG  FTAG FTR  HTHG  HTAG HTR  HS  \\\n",
              "0  E0  17/08/2002  Blackburn  Sunderland     0     0   D     0     0   D  15   \n",
              "1  E0  17/08/2002   Charlton     Chelsea     2     3   A     2     1   H   5   \n",
              "2  E0  17/08/2002    Everton   Tottenham     2     2   D     1     0   H  13   \n",
              "3  E0  17/08/2002     Fulham      Bolton     4     1   H     3     1   H  13   \n",
              "4  E0  17/08/2002      Leeds    Man City     3     0   H     2     0   H  13   \n",
              "\n",
              "   AS  HST  AST  HF  AF  HC  AC  HY  AY  HR  AR  \n",
              "0   7    5    3  14  11   9   1   1   2   0   0  \n",
              "1  21    5   12  10  12   3   6   0   3   1   0  \n",
              "2  10    9    5  18   4  10   5   1   1   0   0  \n",
              "3   3    6    1  16  12   7   4   1   2   0   0  \n",
              "4  18    8   10  13  13   2   7   1   1   0   0  "
            ],
            "text/html": [
              "\n",
              "  <div id=\"df-79128244-969a-4028-aa46-3a3f19762d4c\">\n",
              "    <div class=\"colab-df-container\">\n",
              "      <div>\n",
              "<style scoped>\n",
              "    .dataframe tbody tr th:only-of-type {\n",
              "        vertical-align: middle;\n",
              "    }\n",
              "\n",
              "    .dataframe tbody tr th {\n",
              "        vertical-align: top;\n",
              "    }\n",
              "\n",
              "    .dataframe thead th {\n",
              "        text-align: right;\n",
              "    }\n",
              "</style>\n",
              "<table border=\"1\" class=\"dataframe\">\n",
              "  <thead>\n",
              "    <tr style=\"text-align: right;\">\n",
              "      <th></th>\n",
              "      <th>Div</th>\n",
              "      <th>Date</th>\n",
              "      <th>HomeTeam</th>\n",
              "      <th>AwayTeam</th>\n",
              "      <th>FTHG</th>\n",
              "      <th>FTAG</th>\n",
              "      <th>FTR</th>\n",
              "      <th>HTHG</th>\n",
              "      <th>HTAG</th>\n",
              "      <th>HTR</th>\n",
              "      <th>HS</th>\n",
              "      <th>AS</th>\n",
              "      <th>HST</th>\n",
              "      <th>AST</th>\n",
              "      <th>HF</th>\n",
              "      <th>AF</th>\n",
              "      <th>HC</th>\n",
              "      <th>AC</th>\n",
              "      <th>HY</th>\n",
              "      <th>AY</th>\n",
              "      <th>HR</th>\n",
              "      <th>AR</th>\n",
              "    </tr>\n",
              "  </thead>\n",
              "  <tbody>\n",
              "    <tr>\n",
              "      <th>0</th>\n",
              "      <td>E0</td>\n",
              "      <td>17/08/2002</td>\n",
              "      <td>Blackburn</td>\n",
              "      <td>Sunderland</td>\n",
              "      <td>0</td>\n",
              "      <td>0</td>\n",
              "      <td>D</td>\n",
              "      <td>0</td>\n",
              "      <td>0</td>\n",
              "      <td>D</td>\n",
              "      <td>15</td>\n",
              "      <td>7</td>\n",
              "      <td>5</td>\n",
              "      <td>3</td>\n",
              "      <td>14</td>\n",
              "      <td>11</td>\n",
              "      <td>9</td>\n",
              "      <td>1</td>\n",
              "      <td>1</td>\n",
              "      <td>2</td>\n",
              "      <td>0</td>\n",
              "      <td>0</td>\n",
              "    </tr>\n",
              "    <tr>\n",
              "      <th>1</th>\n",
              "      <td>E0</td>\n",
              "      <td>17/08/2002</td>\n",
              "      <td>Charlton</td>\n",
              "      <td>Chelsea</td>\n",
              "      <td>2</td>\n",
              "      <td>3</td>\n",
              "      <td>A</td>\n",
              "      <td>2</td>\n",
              "      <td>1</td>\n",
              "      <td>H</td>\n",
              "      <td>5</td>\n",
              "      <td>21</td>\n",
              "      <td>5</td>\n",
              "      <td>12</td>\n",
              "      <td>10</td>\n",
              "      <td>12</td>\n",
              "      <td>3</td>\n",
              "      <td>6</td>\n",
              "      <td>0</td>\n",
              "      <td>3</td>\n",
              "      <td>1</td>\n",
              "      <td>0</td>\n",
              "    </tr>\n",
              "    <tr>\n",
              "      <th>2</th>\n",
              "      <td>E0</td>\n",
              "      <td>17/08/2002</td>\n",
              "      <td>Everton</td>\n",
              "      <td>Tottenham</td>\n",
              "      <td>2</td>\n",
              "      <td>2</td>\n",
              "      <td>D</td>\n",
              "      <td>1</td>\n",
              "      <td>0</td>\n",
              "      <td>H</td>\n",
              "      <td>13</td>\n",
              "      <td>10</td>\n",
              "      <td>9</td>\n",
              "      <td>5</td>\n",
              "      <td>18</td>\n",
              "      <td>4</td>\n",
              "      <td>10</td>\n",
              "      <td>5</td>\n",
              "      <td>1</td>\n",
              "      <td>1</td>\n",
              "      <td>0</td>\n",
              "      <td>0</td>\n",
              "    </tr>\n",
              "    <tr>\n",
              "      <th>3</th>\n",
              "      <td>E0</td>\n",
              "      <td>17/08/2002</td>\n",
              "      <td>Fulham</td>\n",
              "      <td>Bolton</td>\n",
              "      <td>4</td>\n",
              "      <td>1</td>\n",
              "      <td>H</td>\n",
              "      <td>3</td>\n",
              "      <td>1</td>\n",
              "      <td>H</td>\n",
              "      <td>13</td>\n",
              "      <td>3</td>\n",
              "      <td>6</td>\n",
              "      <td>1</td>\n",
              "      <td>16</td>\n",
              "      <td>12</td>\n",
              "      <td>7</td>\n",
              "      <td>4</td>\n",
              "      <td>1</td>\n",
              "      <td>2</td>\n",
              "      <td>0</td>\n",
              "      <td>0</td>\n",
              "    </tr>\n",
              "    <tr>\n",
              "      <th>4</th>\n",
              "      <td>E0</td>\n",
              "      <td>17/08/2002</td>\n",
              "      <td>Leeds</td>\n",
              "      <td>Man City</td>\n",
              "      <td>3</td>\n",
              "      <td>0</td>\n",
              "      <td>H</td>\n",
              "      <td>2</td>\n",
              "      <td>0</td>\n",
              "      <td>H</td>\n",
              "      <td>13</td>\n",
              "      <td>18</td>\n",
              "      <td>8</td>\n",
              "      <td>10</td>\n",
              "      <td>13</td>\n",
              "      <td>13</td>\n",
              "      <td>2</td>\n",
              "      <td>7</td>\n",
              "      <td>1</td>\n",
              "      <td>1</td>\n",
              "      <td>0</td>\n",
              "      <td>0</td>\n",
              "    </tr>\n",
              "  </tbody>\n",
              "</table>\n",
              "</div>\n",
              "      <button class=\"colab-df-convert\" onclick=\"convertToInteractive('df-79128244-969a-4028-aa46-3a3f19762d4c')\"\n",
              "              title=\"Convert this dataframe to an interactive table.\"\n",
              "              style=\"display:none;\">\n",
              "        \n",
              "  <svg xmlns=\"http://www.w3.org/2000/svg\" height=\"24px\"viewBox=\"0 0 24 24\"\n",
              "       width=\"24px\">\n",
              "    <path d=\"M0 0h24v24H0V0z\" fill=\"none\"/>\n",
              "    <path d=\"M18.56 5.44l.94 2.06.94-2.06 2.06-.94-2.06-.94-.94-2.06-.94 2.06-2.06.94zm-11 1L8.5 8.5l.94-2.06 2.06-.94-2.06-.94L8.5 2.5l-.94 2.06-2.06.94zm10 10l.94 2.06.94-2.06 2.06-.94-2.06-.94-.94-2.06-.94 2.06-2.06.94z\"/><path d=\"M17.41 7.96l-1.37-1.37c-.4-.4-.92-.59-1.43-.59-.52 0-1.04.2-1.43.59L10.3 9.45l-7.72 7.72c-.78.78-.78 2.05 0 2.83L4 21.41c.39.39.9.59 1.41.59.51 0 1.02-.2 1.41-.59l7.78-7.78 2.81-2.81c.8-.78.8-2.07 0-2.86zM5.41 20L4 18.59l7.72-7.72 1.47 1.35L5.41 20z\"/>\n",
              "  </svg>\n",
              "      </button>\n",
              "      \n",
              "  <style>\n",
              "    .colab-df-container {\n",
              "      display:flex;\n",
              "      flex-wrap:wrap;\n",
              "      gap: 12px;\n",
              "    }\n",
              "\n",
              "    .colab-df-convert {\n",
              "      background-color: #E8F0FE;\n",
              "      border: none;\n",
              "      border-radius: 50%;\n",
              "      cursor: pointer;\n",
              "      display: none;\n",
              "      fill: #1967D2;\n",
              "      height: 32px;\n",
              "      padding: 0 0 0 0;\n",
              "      width: 32px;\n",
              "    }\n",
              "\n",
              "    .colab-df-convert:hover {\n",
              "      background-color: #E2EBFA;\n",
              "      box-shadow: 0px 1px 2px rgba(60, 64, 67, 0.3), 0px 1px 3px 1px rgba(60, 64, 67, 0.15);\n",
              "      fill: #174EA6;\n",
              "    }\n",
              "\n",
              "    [theme=dark] .colab-df-convert {\n",
              "      background-color: #3B4455;\n",
              "      fill: #D2E3FC;\n",
              "    }\n",
              "\n",
              "    [theme=dark] .colab-df-convert:hover {\n",
              "      background-color: #434B5C;\n",
              "      box-shadow: 0px 1px 3px 1px rgba(0, 0, 0, 0.15);\n",
              "      filter: drop-shadow(0px 1px 2px rgba(0, 0, 0, 0.3));\n",
              "      fill: #FFFFFF;\n",
              "    }\n",
              "  </style>\n",
              "\n",
              "      <script>\n",
              "        const buttonEl =\n",
              "          document.querySelector('#df-79128244-969a-4028-aa46-3a3f19762d4c button.colab-df-convert');\n",
              "        buttonEl.style.display =\n",
              "          google.colab.kernel.accessAllowed ? 'block' : 'none';\n",
              "\n",
              "        async function convertToInteractive(key) {\n",
              "          const element = document.querySelector('#df-79128244-969a-4028-aa46-3a3f19762d4c');\n",
              "          const dataTable =\n",
              "            await google.colab.kernel.invokeFunction('convertToInteractive',\n",
              "                                                     [key], {});\n",
              "          if (!dataTable) return;\n",
              "\n",
              "          const docLinkHtml = 'Like what you see? Visit the ' +\n",
              "            '<a target=\"_blank\" href=https://colab.research.google.com/notebooks/data_table.ipynb>data table notebook</a>'\n",
              "            + ' to learn more about interactive tables.';\n",
              "          element.innerHTML = '';\n",
              "          dataTable['output_type'] = 'display_data';\n",
              "          await google.colab.output.renderOutput(dataTable, element);\n",
              "          const docLink = document.createElement('div');\n",
              "          docLink.innerHTML = docLinkHtml;\n",
              "          element.appendChild(docLink);\n",
              "        }\n",
              "      </script>\n",
              "    </div>\n",
              "  </div>\n",
              "  "
            ]
          },
          "metadata": {}
        }
      ],
      "source": [
        "df_epl = pd.read_csv(dirName_trainData)\n",
        "cols = [\"Div\",\"Date\",\"HomeTeam\",\"AwayTeam\",\"FTHG\", \"FTAG\",\"FTR\",\"HTHG\",\"HTAG\",\"HTR\",\"HS\",\"AS\", \"HST\",\"AST\",\"HF\",\"AF\",\"HC\",\"AC\",\"HY\",\"AY\",\"HR\",\"AR\"]\n",
        "\n",
        "df_epl = df_epl.loc[:, cols]\n",
        "df_epl = df_epl.reset_index(drop=True)\n",
        "\n",
        "with pd.option_context('display.max_rows', None, 'display.max_columns', None):  # more options can be specified also\n",
        "    display(df_epl.head())"
      ]
    },
    {
      "cell_type": "code",
      "execution_count": null,
      "metadata": {
        "id": "cXWbiSIAD_-v"
      },
      "outputs": [],
      "source": [
        "# Transform the date column from strings into datetime objects\n",
        "df_epl[\"Date\"] = pd.to_datetime(df_epl[\"Date\"], dayfirst=True)\n",
        "# Turn the catergorical data into labels using same method from before\n",
        "df_epl[\"AwayTeam_Enc\"] = df_epl[\"AwayTeam\"].astype(\"category\").cat.codes\n",
        "df_epl[\"HomeTeam_Enc\"] = df_epl[\"HomeTeam\"].astype(\"category\").cat.codes\n",
        "df_epl = df_epl.drop(['HomeTeam', 'AwayTeam', 'Div'], axis=1)\n",
        "# Transform the date column into day and month columns and Add into dataframe (Extract days & months from date)\n",
        "df_epl[\"Date\"] = pd.to_datetime(df_epl[\"Date\"])\n",
        "df_epl[\"Day\"] = df_epl[\"Date\"].dt.day\n",
        "df_epl[\"Month\"] = df_epl[\"Date\"].dt.month \n",
        "df_epl[\"Year\"] = df_epl[\"Date\"].dt.year"
      ]
    },
    {
      "cell_type": "code",
      "execution_count": null,
      "metadata": {
        "id": "SMP_iu5-D_-w",
        "outputId": "39bb358f-3d7e-48c7-8126-945e0488d00a",
        "colab": {
          "base_uri": "https://localhost:8080/"
        }
      },
      "outputs": [
        {
          "output_type": "execute_result",
          "data": {
            "text/plain": [
              "        Date  FTHG  FTAG FTR  HTHG  HTAG HTR  HS  AS  HST  ...  AC  HY  AY  \\\n",
              "0 2002-08-17     0     0   D     0     0   D  15   7    5  ...   1   1   2   \n",
              "1 2002-08-17     2     3   A     2     1   H   5  21    5  ...   6   0   3   \n",
              "2 2002-08-17     2     2   D     1     0   H  13  10    9  ...   5   1   1   \n",
              "3 2002-08-17     4     1   H     3     1   H  13   3    6  ...   4   1   2   \n",
              "4 2002-08-17     3     0   H     2     0   H  13  18    8  ...   7   1   1   \n",
              "\n",
              "   HR  AR  AwayTeam_Enc  HomeTeam_Enc  Day  Month  Year  \n",
              "0   0   0            34             3   17      8  2002  \n",
              "1   1   0            12            11   17      8  2002  \n",
              "2   0   0            36            15   17      8  2002  \n",
              "3   0   0             5            16   17      8  2002  \n",
              "4   0   0            22            19   17      8  2002  \n",
              "\n",
              "[5 rows x 24 columns]"
            ],
            "text/html": [
              "\n",
              "  <div id=\"df-8e4f8ef3-36ab-4ae7-ba08-7c8a871dd4fe\">\n",
              "    <div class=\"colab-df-container\">\n",
              "      <div>\n",
              "<style scoped>\n",
              "    .dataframe tbody tr th:only-of-type {\n",
              "        vertical-align: middle;\n",
              "    }\n",
              "\n",
              "    .dataframe tbody tr th {\n",
              "        vertical-align: top;\n",
              "    }\n",
              "\n",
              "    .dataframe thead th {\n",
              "        text-align: right;\n",
              "    }\n",
              "</style>\n",
              "<table border=\"1\" class=\"dataframe\">\n",
              "  <thead>\n",
              "    <tr style=\"text-align: right;\">\n",
              "      <th></th>\n",
              "      <th>Date</th>\n",
              "      <th>FTHG</th>\n",
              "      <th>FTAG</th>\n",
              "      <th>FTR</th>\n",
              "      <th>HTHG</th>\n",
              "      <th>HTAG</th>\n",
              "      <th>HTR</th>\n",
              "      <th>HS</th>\n",
              "      <th>AS</th>\n",
              "      <th>HST</th>\n",
              "      <th>...</th>\n",
              "      <th>AC</th>\n",
              "      <th>HY</th>\n",
              "      <th>AY</th>\n",
              "      <th>HR</th>\n",
              "      <th>AR</th>\n",
              "      <th>AwayTeam_Enc</th>\n",
              "      <th>HomeTeam_Enc</th>\n",
              "      <th>Day</th>\n",
              "      <th>Month</th>\n",
              "      <th>Year</th>\n",
              "    </tr>\n",
              "  </thead>\n",
              "  <tbody>\n",
              "    <tr>\n",
              "      <th>0</th>\n",
              "      <td>2002-08-17</td>\n",
              "      <td>0</td>\n",
              "      <td>0</td>\n",
              "      <td>D</td>\n",
              "      <td>0</td>\n",
              "      <td>0</td>\n",
              "      <td>D</td>\n",
              "      <td>15</td>\n",
              "      <td>7</td>\n",
              "      <td>5</td>\n",
              "      <td>...</td>\n",
              "      <td>1</td>\n",
              "      <td>1</td>\n",
              "      <td>2</td>\n",
              "      <td>0</td>\n",
              "      <td>0</td>\n",
              "      <td>34</td>\n",
              "      <td>3</td>\n",
              "      <td>17</td>\n",
              "      <td>8</td>\n",
              "      <td>2002</td>\n",
              "    </tr>\n",
              "    <tr>\n",
              "      <th>1</th>\n",
              "      <td>2002-08-17</td>\n",
              "      <td>2</td>\n",
              "      <td>3</td>\n",
              "      <td>A</td>\n",
              "      <td>2</td>\n",
              "      <td>1</td>\n",
              "      <td>H</td>\n",
              "      <td>5</td>\n",
              "      <td>21</td>\n",
              "      <td>5</td>\n",
              "      <td>...</td>\n",
              "      <td>6</td>\n",
              "      <td>0</td>\n",
              "      <td>3</td>\n",
              "      <td>1</td>\n",
              "      <td>0</td>\n",
              "      <td>12</td>\n",
              "      <td>11</td>\n",
              "      <td>17</td>\n",
              "      <td>8</td>\n",
              "      <td>2002</td>\n",
              "    </tr>\n",
              "    <tr>\n",
              "      <th>2</th>\n",
              "      <td>2002-08-17</td>\n",
              "      <td>2</td>\n",
              "      <td>2</td>\n",
              "      <td>D</td>\n",
              "      <td>1</td>\n",
              "      <td>0</td>\n",
              "      <td>H</td>\n",
              "      <td>13</td>\n",
              "      <td>10</td>\n",
              "      <td>9</td>\n",
              "      <td>...</td>\n",
              "      <td>5</td>\n",
              "      <td>1</td>\n",
              "      <td>1</td>\n",
              "      <td>0</td>\n",
              "      <td>0</td>\n",
              "      <td>36</td>\n",
              "      <td>15</td>\n",
              "      <td>17</td>\n",
              "      <td>8</td>\n",
              "      <td>2002</td>\n",
              "    </tr>\n",
              "    <tr>\n",
              "      <th>3</th>\n",
              "      <td>2002-08-17</td>\n",
              "      <td>4</td>\n",
              "      <td>1</td>\n",
              "      <td>H</td>\n",
              "      <td>3</td>\n",
              "      <td>1</td>\n",
              "      <td>H</td>\n",
              "      <td>13</td>\n",
              "      <td>3</td>\n",
              "      <td>6</td>\n",
              "      <td>...</td>\n",
              "      <td>4</td>\n",
              "      <td>1</td>\n",
              "      <td>2</td>\n",
              "      <td>0</td>\n",
              "      <td>0</td>\n",
              "      <td>5</td>\n",
              "      <td>16</td>\n",
              "      <td>17</td>\n",
              "      <td>8</td>\n",
              "      <td>2002</td>\n",
              "    </tr>\n",
              "    <tr>\n",
              "      <th>4</th>\n",
              "      <td>2002-08-17</td>\n",
              "      <td>3</td>\n",
              "      <td>0</td>\n",
              "      <td>H</td>\n",
              "      <td>2</td>\n",
              "      <td>0</td>\n",
              "      <td>H</td>\n",
              "      <td>13</td>\n",
              "      <td>18</td>\n",
              "      <td>8</td>\n",
              "      <td>...</td>\n",
              "      <td>7</td>\n",
              "      <td>1</td>\n",
              "      <td>1</td>\n",
              "      <td>0</td>\n",
              "      <td>0</td>\n",
              "      <td>22</td>\n",
              "      <td>19</td>\n",
              "      <td>17</td>\n",
              "      <td>8</td>\n",
              "      <td>2002</td>\n",
              "    </tr>\n",
              "  </tbody>\n",
              "</table>\n",
              "<p>5 rows × 24 columns</p>\n",
              "</div>\n",
              "      <button class=\"colab-df-convert\" onclick=\"convertToInteractive('df-8e4f8ef3-36ab-4ae7-ba08-7c8a871dd4fe')\"\n",
              "              title=\"Convert this dataframe to an interactive table.\"\n",
              "              style=\"display:none;\">\n",
              "        \n",
              "  <svg xmlns=\"http://www.w3.org/2000/svg\" height=\"24px\"viewBox=\"0 0 24 24\"\n",
              "       width=\"24px\">\n",
              "    <path d=\"M0 0h24v24H0V0z\" fill=\"none\"/>\n",
              "    <path d=\"M18.56 5.44l.94 2.06.94-2.06 2.06-.94-2.06-.94-.94-2.06-.94 2.06-2.06.94zm-11 1L8.5 8.5l.94-2.06 2.06-.94-2.06-.94L8.5 2.5l-.94 2.06-2.06.94zm10 10l.94 2.06.94-2.06 2.06-.94-2.06-.94-.94-2.06-.94 2.06-2.06.94z\"/><path d=\"M17.41 7.96l-1.37-1.37c-.4-.4-.92-.59-1.43-.59-.52 0-1.04.2-1.43.59L10.3 9.45l-7.72 7.72c-.78.78-.78 2.05 0 2.83L4 21.41c.39.39.9.59 1.41.59.51 0 1.02-.2 1.41-.59l7.78-7.78 2.81-2.81c.8-.78.8-2.07 0-2.86zM5.41 20L4 18.59l7.72-7.72 1.47 1.35L5.41 20z\"/>\n",
              "  </svg>\n",
              "      </button>\n",
              "      \n",
              "  <style>\n",
              "    .colab-df-container {\n",
              "      display:flex;\n",
              "      flex-wrap:wrap;\n",
              "      gap: 12px;\n",
              "    }\n",
              "\n",
              "    .colab-df-convert {\n",
              "      background-color: #E8F0FE;\n",
              "      border: none;\n",
              "      border-radius: 50%;\n",
              "      cursor: pointer;\n",
              "      display: none;\n",
              "      fill: #1967D2;\n",
              "      height: 32px;\n",
              "      padding: 0 0 0 0;\n",
              "      width: 32px;\n",
              "    }\n",
              "\n",
              "    .colab-df-convert:hover {\n",
              "      background-color: #E2EBFA;\n",
              "      box-shadow: 0px 1px 2px rgba(60, 64, 67, 0.3), 0px 1px 3px 1px rgba(60, 64, 67, 0.15);\n",
              "      fill: #174EA6;\n",
              "    }\n",
              "\n",
              "    [theme=dark] .colab-df-convert {\n",
              "      background-color: #3B4455;\n",
              "      fill: #D2E3FC;\n",
              "    }\n",
              "\n",
              "    [theme=dark] .colab-df-convert:hover {\n",
              "      background-color: #434B5C;\n",
              "      box-shadow: 0px 1px 3px 1px rgba(0, 0, 0, 0.15);\n",
              "      filter: drop-shadow(0px 1px 2px rgba(0, 0, 0, 0.3));\n",
              "      fill: #FFFFFF;\n",
              "    }\n",
              "  </style>\n",
              "\n",
              "      <script>\n",
              "        const buttonEl =\n",
              "          document.querySelector('#df-8e4f8ef3-36ab-4ae7-ba08-7c8a871dd4fe button.colab-df-convert');\n",
              "        buttonEl.style.display =\n",
              "          google.colab.kernel.accessAllowed ? 'block' : 'none';\n",
              "\n",
              "        async function convertToInteractive(key) {\n",
              "          const element = document.querySelector('#df-8e4f8ef3-36ab-4ae7-ba08-7c8a871dd4fe');\n",
              "          const dataTable =\n",
              "            await google.colab.kernel.invokeFunction('convertToInteractive',\n",
              "                                                     [key], {});\n",
              "          if (!dataTable) return;\n",
              "\n",
              "          const docLinkHtml = 'Like what you see? Visit the ' +\n",
              "            '<a target=\"_blank\" href=https://colab.research.google.com/notebooks/data_table.ipynb>data table notebook</a>'\n",
              "            + ' to learn more about interactive tables.';\n",
              "          element.innerHTML = '';\n",
              "          dataTable['output_type'] = 'display_data';\n",
              "          await google.colab.output.renderOutput(dataTable, element);\n",
              "          const docLink = document.createElement('div');\n",
              "          docLink.innerHTML = docLinkHtml;\n",
              "          element.appendChild(docLink);\n",
              "        }\n",
              "      </script>\n",
              "    </div>\n",
              "  </div>\n",
              "  "
            ]
          },
          "metadata": {},
          "execution_count": 78
        }
      ],
      "source": [
        "df_epl.head()"
      ]
    },
    {
      "cell_type": "markdown",
      "metadata": {
        "id": "fhTD2UdUD_-2"
      },
      "source": [
        "## Feature Engineering & Models"
      ]
    },
    {
      "cell_type": "markdown",
      "source": [
        "### **METHOD & EVALUATION**"
      ],
      "metadata": {
        "id": "gwMT8Qnn9nZv"
      }
    },
    {
      "cell_type": "markdown",
      "source": [
        "First we start by reading the full (training) dataset (csv file) into a pandas dataframe, this allows us to easily manipulate, clean and encode the data as required. Next, using various functions we use the data in the dataframe to generate new features for each data point. These new generates features are then added back to the dataframe. Finally to create our design matrix we extract the relevant feature columns we require using the .loc method. We also create the output y vector by extracting the encoded FTR values. We then use this matrix and vector to input to different classifiers to see how they perform. In the results section we compare the performance of each classifier and provide brief explanations of why the result might be what they are and how we aim to improve them."
      ],
      "metadata": {
        "id": "dTUyO9PtBPfj"
      }
    },
    {
      "cell_type": "code",
      "source": [
        "def evaluate_report(y_pred, y_test):\n",
        "  print(\"Accuracy: \", accuracy_score(y_test, y_pred))\n",
        "  print(classification_report(y_pred, y_test))\n",
        "  ConfusionMatrixDisplay.from_predictions(y_pred, y_test)"
      ],
      "metadata": {
        "id": "BYTAoo0a9xck"
      },
      "execution_count": null,
      "outputs": []
    },
    {
      "cell_type": "markdown",
      "metadata": {
        "id": "egebksDVD_-2"
      },
      "source": [
        "### **FEATURE SET 1** - Baseline Classifier: Random Guesses\n",
        "\n",
        "*SUMMARY ->* Custom random guess classifier implementation below. To ensure convenience it is compatibile with some *sklearn* functions.\n",
        "\n"
      ]
    },
    {
      "cell_type": "code",
      "source": [
        "class RandomGuessClassifier(BaseEstimator, ClassifierMixin):\n",
        "    \"\"\"Custom implementation of the random guess classifier. \n",
        "    \n",
        "    Compatible with sklearn.metric.plot_confusion_matrix function.\n",
        "    \"\"\"\n",
        "    def __init__(self) -> None:\n",
        "        self._labels: np.ndarray = None\n",
        "\n",
        "    def fit(self, x_train: np.ndarray, y_train: np.ndarray) -> None:\n",
        "        \"\"\"Does not use x_train at all (who would actually want to use it lol). \n",
        "        Saves available labels from y_train.\n",
        "        \"\"\"\n",
        "        self._labels = np.unique(y_train)\n",
        "\n",
        "    def predict(self, x_test: np.ndarray) -> np.ndarray:\n",
        "        \"\"\"For every sample in x_test, chooses a label from self._labels at random\"\"\"\n",
        "        return np.array(list(map(lambda _: np.random.choice(self._labels, 1), x_test)))"
      ],
      "metadata": {
        "id": "iJjKjR8wKMSE"
      },
      "execution_count": null,
      "outputs": []
    },
    {
      "cell_type": "code",
      "execution_count": null,
      "metadata": {
        "id": "Bu7rHROtD_-3"
      },
      "outputs": [],
      "source": [
        "def create_design_matrix(df):\n",
        "  df_epl_final2 = df_epl.loc[:,['HomeTeam_Enc', 'AwayTeam_Enc']].values\n",
        "  return df_epl_final2\n",
        "\n",
        "def create_df(df_epl):\n",
        "  return df_epl.copy()\n",
        "\n",
        "df_final = create_df(df_epl)\n",
        "X = create_design_matrix(df_final)\n",
        "y = df_final.loc[:,['FTR']].values\n",
        "X_train, X_test, y_train, y_test = model_selection.train_test_split(X, y, test_size=0.2, random_state=42)"
      ]
    },
    {
      "cell_type": "code",
      "source": [
        "rgc = RandomGuessClassifier()\n",
        "rgc.fit(X_train, y_train)\n",
        "y_pred = rgc.predict(X_test)\n",
        "\n",
        "evaluate_report(y_pred, y_test)"
      ],
      "metadata": {
        "id": "RChET5lFKOdI",
        "colab": {
          "base_uri": "https://localhost:8080/"
        },
        "outputId": "f113a75a-485f-4657-b7a8-83bfee91988f"
      },
      "execution_count": null,
      "outputs": [
        {
          "output_type": "stream",
          "name": "stdout",
          "text": [
            "Accuracy:  0.32170542635658916\n",
            "              precision    recall  f1-score   support\n",
            "\n",
            "           A       0.34      0.27      0.30       550\n",
            "           D       0.30      0.22      0.26       525\n",
            "           H       0.32      0.50      0.39       473\n",
            "\n",
            "    accuracy                           0.32      1548\n",
            "   macro avg       0.32      0.33      0.31      1548\n",
            "weighted avg       0.32      0.32      0.31      1548\n",
            "\n"
          ]
        },
        {
          "output_type": "display_data",
          "data": {
            "text/plain": [
              "<Figure size 432x288 with 2 Axes>"
            ],
            "image/png": "[encoded data removed]"
          },
          "metadata": {
            "needs_background": "light"
          }
        }
      ]
    },
    {
      "cell_type": "markdown",
      "metadata": {
        "id": "LN62IXgcD_-3"
      },
      "source": [
        "### **FEATURE SET 2** - Simple: (HomeTeam, AwayTeam and Month) \n",
        "\n",
        "*SUMMARY ->* Firstly, we trained models only using the home team, away team and month as feature set. We evaluated and compared these models.\n",
        "Since these models have not lead to great accuracies, we did not perform model selection on them. As the models become more complex (and include more features) we start to include the results from model selection.\n",
        "\n",
        "(NOTE: We have also tried variations of this MODEL - with other basic features like day and referee added)"
      ]
    },
    {
      "cell_type": "markdown",
      "metadata": {
        "id": "IeIZNyEzD_-3"
      },
      "source": [
        "#### Create Dataframe and Design Matrix\n"
      ]
    },
    {
      "cell_type": "code",
      "execution_count": null,
      "metadata": {
        "id": "8AaAdEB0D_-4",
        "colab": {
          "base_uri": "https://localhost:8080/"
        },
        "outputId": "39c2d6ad-3896-4f16-922e-1767a8ba47df"
      },
      "outputs": [
        {
          "output_type": "stream",
          "name": "stderr",
          "text": [
            "/usr/local/lib/python3.7/dist-packages/sklearn/preprocessing/_label.py:115: DataConversionWarning: A column-vector y was passed when a 1d array was expected. Please change the shape of y to (n_samples, ), for example using ravel().\n",
            "  y = column_or_1d(y, warn=True)\n"
          ]
        }
      ],
      "source": [
        "def create_df(df_epl):\n",
        "  return df_epl.copy()\n",
        "\n",
        "def create_design_matrix(df):\n",
        "  X = df.loc[:,['HomeTeam_Enc', 'AwayTeam_Enc', 'Month']].values\n",
        "  return X\n",
        "\n",
        "df_final = create_df(df_epl)\n",
        "X = create_design_matrix(df_final)\n",
        "y = df_final.loc[:,['FTR']].values\n",
        "X_train, X_test, y_train, y_test = model_selection.train_test_split(X, y, test_size=0.2, random_state=42)\n",
        "# Check shape of y_train and y_test\n",
        "\n",
        "FTR_encoder = LabelEncoder()\n",
        "y_train = FTR_encoder.fit_transform(y_train);"
      ]
    },
    {
      "cell_type": "markdown",
      "metadata": {
        "id": "yiGyGUmFD_-4"
      },
      "source": [
        "#### Decision Tree Classifier"
      ]
    },
    {
      "cell_type": "code",
      "execution_count": null,
      "metadata": {
        "id": "7YVJepXID_-4",
        "outputId": "bea6ff47-0f88-412b-8b89-8a6517be235f",
        "colab": {
          "base_uri": "https://localhost:8080/"
        }
      },
      "outputs": [
        {
          "output_type": "stream",
          "name": "stdout",
          "text": [
            "Accuracy:  0.4114987080103359\n",
            "              precision    recall  f1-score   support\n",
            "\n",
            "           A       0.47      0.36      0.41       561\n",
            "           D       0.23      0.26      0.24       348\n",
            "           H       0.47      0.54      0.50       639\n",
            "\n",
            "    accuracy                           0.41      1548\n",
            "   macro avg       0.39      0.39      0.38      1548\n",
            "weighted avg       0.42      0.41      0.41      1548\n",
            "\n"
          ]
        },
        {
          "output_type": "display_data",
          "data": {
            "text/plain": [
              "<Figure size 432x288 with 2 Axes>"
            ],
            "image/png": "[encoded data removed]"
          },
          "metadata": {
            "needs_background": "light"
          }
        }
      ],
      "source": [
        "# Create an empty Tree model\n",
        "dt = DecisionTreeClassifier(random_state=42)\n",
        "# Fit the model using training data\n",
        "dt.fit(X_train, y_train)\n",
        "# Make predictions using the model we have created\n",
        "y_pred = dt.predict(X_test)\n",
        "# Reconverting prediction values (i.e. 0, 1 or 2) back into (H, D or A) using the FTR_encoder defined in earlier cell\n",
        "y_pred = FTR_encoder.inverse_transform(y_pred)\n",
        "\n",
        "evaluate_report(y_pred, y_test)"
      ]
    },
    {
      "cell_type": "markdown",
      "metadata": {
        "id": "C70kVZBwD_-5"
      },
      "source": [
        "#### Random Forest"
      ]
    },
    {
      "cell_type": "code",
      "execution_count": null,
      "metadata": {
        "id": "7ulQERh9D_-5",
        "colab": {
          "base_uri": "https://localhost:8080/"
        },
        "outputId": "4a9253de-fd84-46e4-e8c8-47a64cc0f11c"
      },
      "outputs": [
        {
          "output_type": "stream",
          "name": "stdout",
          "text": [
            "Accuracy:  0.437984496124031\n",
            "              precision    recall  f1-score   support\n",
            "\n",
            "           A       0.37      0.37      0.37       423\n",
            "           D       0.21      0.26      0.23       308\n",
            "           H       0.60      0.54      0.56       817\n",
            "\n",
            "    accuracy                           0.44      1548\n",
            "   macro avg       0.39      0.39      0.39      1548\n",
            "weighted avg       0.46      0.44      0.45      1548\n",
            "\n"
          ]
        },
        {
          "output_type": "display_data",
          "data": {
            "text/plain": [
              "<Figure size 432x288 with 2 Axes>"
            ],
            "image/png": "[encoded data removed]"
          },
          "metadata": {
            "needs_background": "light"
          }
        }
      ],
      "source": [
        "# Create an empty Random Forest model\n",
        "rf = RandomForestClassifier(random_state=42)\n",
        "# Fit the model using training data\n",
        "rf.fit(X_train, y_train)\n",
        "# Make predictions using the model we have created\n",
        "y_pred = rf.predict(X_test)\n",
        "# Reconverting prediction values (i.e. 0, 1 or 2) back into (H, D or A) using the FTR_encoder defined in earlier cell\n",
        "y_pred = FTR_encoder.inverse_transform(y_pred)\n",
        "\n",
        "evaluate_report(y_pred, y_test)"
      ]
    },
    {
      "cell_type": "markdown",
      "metadata": {
        "id": "dNhdZ17pD_-5"
      },
      "source": [
        "#### K-Nearest Neighbours (KNN)"
      ]
    },
    {
      "cell_type": "code",
      "execution_count": null,
      "metadata": {
        "id": "Ar9ru4tLD_-6",
        "colab": {
          "base_uri": "https://localhost:8080/"
        },
        "outputId": "4fddabff-3d4b-4789-fba6-0b87a8e7dd03"
      },
      "outputs": [
        {
          "output_type": "stream",
          "name": "stdout",
          "text": [
            "Accuracy:  0.4186046511627907\n",
            "              precision    recall  f1-score   support\n",
            "\n",
            "           A       0.46      0.35      0.40       564\n",
            "           D       0.20      0.26      0.23       301\n",
            "           H       0.50      0.54      0.52       683\n",
            "\n",
            "    accuracy                           0.42      1548\n",
            "   macro avg       0.39      0.39      0.38      1548\n",
            "weighted avg       0.43      0.42      0.42      1548\n",
            "\n"
          ]
        },
        {
          "output_type": "display_data",
          "data": {
            "text/plain": [
              "<Figure size 432x288 with 2 Axes>"
            ],
            "image/png": "[encoded data removed]"
          },
          "metadata": {
            "needs_background": "light"
          }
        }
      ],
      "source": [
        "# Create an empty KNN model\n",
        "knn = KNeighborsClassifier()\n",
        "# Fit the model using training data\n",
        "knn.fit(X_train, y_train)\n",
        "# Make predictions using the model we have created\n",
        "y_pred = knn.predict(X_test)\n",
        "# Reconverting prediction values (i.e. 0, 1 or 2) back into (H, D or A) using the FTR_encoder defined in earlier cell\n",
        "y_pred = FTR_encoder.inverse_transform(y_pred)\n",
        "\n",
        "evaluate_report(y_pred, y_test)"
      ]
    },
    {
      "cell_type": "markdown",
      "metadata": {
        "id": "-ps6EFiRD_-7"
      },
      "source": [
        "#### Summary of Results"
      ]
    },
    {
      "cell_type": "code",
      "execution_count": null,
      "metadata": {
        "id": "V7wOgKZhD_-7"
      },
      "outputs": [],
      "source": [
        "# TODO(@Adam): Add histogram to compare accuracies of the differen models trained before (plus baseline)"
      ]
    },
    {
      "cell_type": "markdown",
      "metadata": {
        "id": "pFX7YcuTD_-7"
      },
      "source": [
        "### **FEATURE SET 3** – Included averages of match statistics between the two specific target teams across all historical data\n",
        "\n",
        "*SUMMARY ->* Here we aim to improve our previous score by adding some extra features. We use the same features from the previous section: date, HomeTeam and AwayTeam, BUT now we also add some averages of past stats between the specific two teams in question. We obtain these stats by filtering the df_epl dataframe for matches between HomeTeam and AwayTeam that took place before the input date. Then take an average of the columns (with stats) like HR, AR, etc. This will provide us with the average past stats for games played in past between the two teams. We can then use these values as extra features to input into the classifier."
      ]
    },
    {
      "cell_type": "markdown",
      "source": [
        "#### Create Dataframe and Design Matrix"
      ],
      "metadata": {
        "id": "iHLc0d37iK-G"
      }
    },
    {
      "cell_type": "code",
      "source": [
        "# This function will take as input a date, HomeTeam and AwayTeam and output a \n",
        "# filtered dataframe where the matches shown are played before input data and \n",
        "# match is between HomeTeam and AwayTeam\n",
        "def filter_dataframe(date, HomeTeam, AwayTeam, df):\n",
        "    # Filter the dataframe to include only rows where Date\n",
        "    df_epl_train_filtered = df.copy()\n",
        "    df_epl_train_filtered = df_epl_train_filtered[(df.Date<date) & (df.HomeTeam_Enc==HomeTeam) & (df.AwayTeam_Enc==AwayTeam)]\n",
        "\n",
        "    # Return filtered dataframe\n",
        "    return df_epl_train_filtered\n",
        "\n",
        "# This function takes as input the filtered dataframe from previous cell, \n",
        "# features to average and a dictionary, it then appends an average of each \n",
        "# feature to the dictionary\n",
        "def average_columns(features, avg_features, filtered_df):\n",
        "    for feature in features:\n",
        "        df_col_means = filtered_df[feature].mean()\n",
        "        avg_features[feature].append(df_col_means)\n",
        "\n",
        "\n",
        "def create_df(df_epl):\n",
        "  df_final = df_epl.copy()\n",
        "  # Run the two functions for each row of our df_epl_train dataframe to fill \n",
        "  # dictionary with AVG for each match\n",
        "  # NOTE: Some matches won't have past stats since the two teams may not have \n",
        "  # played against each other in past or we might not have the data\n",
        "\n",
        "  # These are the features we want to get averages for\n",
        "  features = [\"FTHG\",\"FTAG\",\"HTHG\",\"HTAG\",\"HS\",\"AS\",\"HST\",\"AST\",\"HF\",\"AF\",\"HC\",\"AC\",\"HY\",\"AY\",\"HR\",\"AR\"]\n",
        "  avg_features = {\n",
        "                      \"FTHG\": [],\n",
        "                      \"FTAG\": [],\n",
        "                      \"HTHG\": [],\n",
        "                      \"HTAG\": [],\n",
        "                      \"HS\"  : [],\n",
        "                      \"AS\"  : [],\n",
        "                      \"HST\" : [],\n",
        "                      \"AST\" : [],\n",
        "                      \"HF\"  : [],\n",
        "                      \"AF\"  : [],\n",
        "                      \"HC\"  : [],\n",
        "                      \"AC\"  : [],\n",
        "                      \"HY\"  : [],\n",
        "                      \"AY\"  : [],\n",
        "                      \"HR\"  : [],\n",
        "                      \"AR\"  : []\n",
        "                  }\n",
        "\n",
        "  # Run the two functions on each row of the df_epl_train and fill the dictionary\n",
        "  # For each row in the dataframe\n",
        "  for index, row in df_final.iterrows():\n",
        "      # Filter the dataframe to only show matches played between those teams and before the certain date\n",
        "      df_epl_train_filtered = filter_dataframe(row[\"Date\"], row[\"HomeTeam_Enc\"], row[\"AwayTeam_Enc\"], df_final)\n",
        "      # Get averages from the filtered dataframe and add the the dictionary\n",
        "      average_columns(features, avg_features, df_epl_train_filtered)\n",
        "  # Add a column for each of these feature averages using our list of values from the dictionary\n",
        "  features = [\"FTHG\",\"FTAG\",\"HTHG\",\"HTAG\",\"HS\",\"AS\",\"HST\",\"AST\",\"HF\",\"AF\",\"HC\",\"AC\",\"HY\",\"AY\",\"HR\",\"AR\"]\n",
        "  for feature in features:\n",
        "      # Get the list of averages for a certain feature from the dicitonary\n",
        "      feature_vals = avg_features[feature]\n",
        "      # Add the list of averages into the dataframe for that certain feature\n",
        "      df_final[feature + \"_AVG\"] = feature_vals\n",
        "  return df_final.dropna()\n",
        "\n",
        "\n",
        "def create_design_matrix(df):\n",
        "  X = df.loc[:,['Day', 'Month', 'HomeTeam_Enc', 'AwayTeam_Enc','FTHG_AVG','FTAG_AVG','HTHG_AVG','HTAG_AVG','HS_AVG','AS_AVG','HST_AVG','AST_AVG','HF_AVG','AF_AVG','HC_AVG','AC_AVG','HY_AVG','AY_AVG','HR_AVG','AR_AVG']].values\n",
        "  # X = df.drop(['FTR', 'Date'], axis=1).values\n",
        "  return X\n",
        "\n",
        "df_final = create_df(df_epl)\n",
        "X = create_design_matrix(df_final)\n",
        "y = df_final.loc[:,['FTR']].values\n",
        "X_train, X_test, y_train, y_test = model_selection.train_test_split(X, y, test_size=0.2, random_state=42)\n",
        "# Check shape of y_train and y_test\n",
        "\n",
        "FTR_encoder = LabelEncoder()\n",
        "y_train = FTR_encoder.fit_transform(y_train);\n",
        "\n",
        "df_final.head()"
      ],
      "metadata": {
        "colab": {
          "base_uri": "https://localhost:8080/"
        },
        "id": "_N1zumKBh0gl",
        "outputId": "ff58fd06-ca79-4d93-f0fa-f7337dee9643"
      },
      "execution_count": null,
      "outputs": [
        {
          "output_type": "stream",
          "name": "stderr",
          "text": [
            "/usr/local/lib/python3.7/dist-packages/sklearn/preprocessing/_label.py:115: DataConversionWarning: A column-vector y was passed when a 1d array was expected. Please change the shape of y to (n_samples, ), for example using ravel().\n",
            "  y = column_or_1d(y, warn=True)\n"
          ]
        }
      ]
    },
    {
      "cell_type": "markdown",
      "source": [
        "#### Decision Tree Classifier"
      ],
      "metadata": {
        "id": "RL40yZlH-C4i"
      }
    },
    {
      "cell_type": "code",
      "source": [
        "# Create an empty Tree model\n",
        "dt = DecisionTreeClassifier(random_state=42)\n",
        "# Fit the model using training data\n",
        "dt.fit(X_train, y_train)\n",
        "# Make predictions using the model we have created\n",
        "y_pred = dt.predict(X_test)\n",
        "# Reconverting prediction values (i.e. 0, 1 or 2) back into (H, D or A) using the FTR_encoder defined in earlier cell\n",
        "y_pred = FTR_encoder.inverse_transform(y_pred)\n",
        "\n",
        "evaluate_report(y_pred, y_test)"
      ],
      "metadata": {
        "id": "ZdGO5e0OiSIz",
        "colab": {
          "base_uri": "https://localhost:8080/"
        },
        "outputId": "da3c73b9-e0fe-43eb-b2ad-e709e50899af"
      },
      "execution_count": null,
      "outputs": [
        {
          "output_type": "stream",
          "name": "stdout",
          "text": [
            "Accuracy:  0.3949645948072384\n",
            "              precision    recall  f1-score   support\n",
            "\n",
            "           A       0.36      0.37      0.36       384\n",
            "           D       0.28      0.26      0.27       339\n",
            "           H       0.49      0.50      0.49       548\n",
            "\n",
            "    accuracy                           0.39      1271\n",
            "   macro avg       0.37      0.37      0.37      1271\n",
            "weighted avg       0.39      0.39      0.39      1271\n",
            "\n"
          ]
        },
        {
          "output_type": "display_data",
          "data": {
            "text/plain": [
              "<Figure size 432x288 with 2 Axes>"
            ],
            "image/png": "[encoded data removed]"
          },
          "metadata": {
            "needs_background": "light"
          }
        }
      ]
    },
    {
      "cell_type": "markdown",
      "source": [
        "#### Random Forest"
      ],
      "metadata": {
        "id": "nS6ffh-4-jbj"
      }
    },
    {
      "cell_type": "code",
      "source": [
        "# Create an empty Random Forest model\n",
        "rf = RandomForestClassifier(random_state=42)\n",
        "# Fit the model using training data\n",
        "rf.fit(X_train, y_train)\n",
        "# Make predictions using the model we have created\n",
        "y_pred = rf.predict(X_test)\n",
        "# Reconverting prediction values (i.e. 0, 1 or 2) back into (H, D or A) using the FTR_encoder defined in earlier cell\n",
        "y_pred = FTR_encoder.inverse_transform(y_pred)\n",
        "\n",
        "evaluate_report(y_pred, y_test)"
      ],
      "metadata": {
        "colab": {
          "base_uri": "https://localhost:8080/"
        },
        "id": "4Rv6Wvc--rWc",
        "outputId": "84e11eca-6f5b-46d7-dac4-6004f67fa92d"
      },
      "execution_count": null,
      "outputs": [
        {
          "output_type": "stream",
          "name": "stdout",
          "text": [
            "Accuracy:  0.5011801730920535\n",
            "              precision    recall  f1-score   support\n",
            "\n",
            "           A       0.48      0.52      0.50       361\n",
            "           D       0.11      0.27      0.16       129\n",
            "           H       0.73      0.53      0.62       781\n",
            "\n",
            "    accuracy                           0.50      1271\n",
            "   macro avg       0.44      0.44      0.42      1271\n",
            "weighted avg       0.60      0.50      0.54      1271\n",
            "\n"
          ]
        },
        {
          "output_type": "display_data",
          "data": {
            "text/plain": [
              "<Figure size 432x288 with 2 Axes>"
            ],
            "image/png": "[encoded data removed]"
          },
          "metadata": {
            "needs_background": "light"
          }
        }
      ]
    },
    {
      "cell_type": "markdown",
      "metadata": {
        "id": "7h8XaYd--7Jc"
      },
      "source": [
        "#### K-Nearest Neighbours (KNN)"
      ]
    },
    {
      "cell_type": "code",
      "source": [
        "# Create an empty KNN model\n",
        "knn = KNeighborsClassifier()\n",
        "# Fit the model using training data\n",
        "knn.fit(X_train, y_train)\n",
        "# Make predictions using the model we have created\n",
        "y_pred = knn.predict(X_test)\n",
        "# Reconverting prediction values (i.e. 0, 1 or 2) back into (H, D or A) using the FTR_encoder defined in earlier cell\n",
        "y_pred = FTR_encoder.inverse_transform(y_pred)\n",
        "\n",
        "evaluate_report(y_pred, y_test)"
      ],
      "metadata": {
        "colab": {
          "base_uri": "https://localhost:8080/"
        },
        "id": "h6iF-SdO_1fO",
        "outputId": "a34fa2da-6710-4717-aa3a-1c5a0c321fb5"
      },
      "execution_count": null,
      "outputs": [
        {
          "output_type": "stream",
          "name": "stdout",
          "text": [
            "Accuracy:  0.42800944138473646\n",
            "              precision    recall  f1-score   support\n",
            "\n",
            "           A       0.51      0.39      0.44       519\n",
            "           D       0.19      0.26      0.22       232\n",
            "           H       0.50      0.54      0.52       520\n",
            "\n",
            "    accuracy                           0.43      1271\n",
            "   macro avg       0.40      0.40      0.40      1271\n",
            "weighted avg       0.45      0.43      0.43      1271\n",
            "\n"
          ]
        },
        {
          "output_type": "display_data",
          "data": {
            "text/plain": [
              "<Figure size 432x288 with 2 Axes>"
            ],
            "image/png": "[encoded data removed]"
          },
          "metadata": {
            "needs_background": "light"
          }
        }
      ]
    },
    {
      "cell_type": "markdown",
      "metadata": {
        "id": "q6LmWr_P_xIX"
      },
      "source": [
        "#### Summary of Results"
      ]
    },
    {
      "cell_type": "code",
      "source": [
        "# TODO(@Adam): Add histogram to compare accuracies of the differen models trained before (plus baseline)"
      ],
      "metadata": {
        "id": "d6KKlcbD_-QS"
      },
      "execution_count": null,
      "outputs": []
    },
    {
      "cell_type": "markdown",
      "metadata": {
        "id": "qzshQ8wID_-7"
      },
      "source": [
        "### **FEATURE SET 4** - Included averages of match statistics between the two specific target teams against ALL other teams across ONLY current season \n",
        "\n",
        "*SUMMARY ->* Here we aim to improve our previous score by adding changing the way we compute the average. These new past average stats are obtained by filtering the df_epl dataframe to get two filtered dataframes. One will include the matches played by HomeTeam at Home against ALL other teams in that specific season. The other will include the matches played by AwayTeam Away against ALL other teams in that specific season. Given these filtered dataframes we take an average of the columns (with stats) like HR, AR, etc. This will provide us with the past stats for games played between the two teams against all other teams in that specific season. We can then use these past average stats as features to input into the classifier. This should produce an improvement because recent season data should act as a better estimator of the result of current season games"
      ]
    },
    {
      "cell_type": "markdown",
      "source": [
        "#### Create Dataframe & Design Matrix"
      ],
      "metadata": {
        "id": "6B_zEgsEBqVI"
      }
    },
    {
      "cell_type": "code",
      "source": [
        "# HELPER FUNCTIONS FOR CREATE_DF()\n",
        "def get_season_start_date(date):\n",
        "    if date.month <= 7:\n",
        "        return datetime(date.year-1, 8, 1)\n",
        "    return datetime(date.year-0, 8, 1)\n",
        "\n",
        "def filter_dataframe_by_bothteams_history(df, date, HomeTeam, AwayTeam):\n",
        "    # Convert the input string date into datetime\n",
        "    date = pd.to_datetime(date, dayfirst=True)\n",
        "\n",
        "    # Filter the dataframe to include only rows where Date\n",
        "    df_filtered = df.copy()\n",
        "    df_filtered = df_filtered[(df_filtered.Date<date) & (df_filtered.HomeTeam_Enc==HomeTeam) & (df_filtered.AwayTeam_Enc==AwayTeam)]\n",
        "\n",
        "    # Return filtered dataframe\n",
        "    return df_filtered\n",
        "\n",
        "def filter_dataframe_by_hometeam_recent_season(df, date, HomeTeam):\n",
        "    # Convert the input string date into datetime\n",
        "    date = pd.to_datetime(date, dayfirst=True)\n",
        "\n",
        "    # Filter the dataframe to include only rows where Dateinput(first day of season) && HomeTeam=input(HomeTeam)\n",
        "    df_filtered = df.copy()\n",
        "    df_filtered = df_filtered[(df_filtered.Date<date) & (df_filtered.Date>get_season_start_date(date)) & (df_filtered.HomeTeam_Enc==HomeTeam)]\n",
        "\n",
        "    # Return filtered dataframe\n",
        "    return df_filtered\n",
        "\n",
        "def filter_dataframe_by_awayteam_recent_season(df, date, AwayTeam):\n",
        "    # Convert the input string date into datetime\n",
        "    date = pd.to_datetime(date, dayfirst=True)\n",
        "\n",
        "    # Filter the dataframe to include only rows where Dateinput(first day of season) && HomeTeam=input(HomeTeam)\n",
        "    df_filtered = df.copy()\n",
        "    df_filtered = df_filtered[(df_filtered.Date<date) & (df_filtered.Date>get_season_start_date(date)) & (df_filtered.AwayTeam_Enc==AwayTeam)]\n",
        "\n",
        "    # Return filtered dataframe\n",
        "    return df_filtered\n",
        "\n",
        "# This function takes as input the filtered dataframe from previous cell, features to average and a dictionary,\n",
        "# it then appends an average of each feature to the dictionary\n",
        "def average_columns(avg_features, filtered_df):\n",
        "    for feature in avg_features.keys():\n",
        "        df_col_means = filtered_df[feature].mean()\n",
        "        avg_features[feature].append(df_col_means)\n",
        "\n",
        "\n",
        "\n",
        "# CREATE FEATURES & ADD TO ORIGINAL DATAFRAME\n",
        "def create_df(df):\n",
        "  df_final = df_epl.copy()\n",
        "  # These are the features we want to get averages for both teams\n",
        "  avg_features_both = {\n",
        "                      \"FTHG\": [],\n",
        "                      \"FTAG\": [],\n",
        "                      \"HTHG\": [],\n",
        "                      \"HTAG\": [],\n",
        "                      \"HS\"  : [],\n",
        "                      \"AS\"  : [],\n",
        "                      \"HST\" : [],\n",
        "                      \"AST\" : [],\n",
        "                      \"HF\"  : [],\n",
        "                      \"AF\"  : [],\n",
        "                      \"HC\"  : [],\n",
        "                      \"AC\"  : [],\n",
        "                      \"HY\"  : [],\n",
        "                      \"AY\"  : [],\n",
        "                      \"HR\"  : [],\n",
        "                      \"AR\"  : []\n",
        "                  }\n",
        "\n",
        "  # These are the features we want to get averages for home team\n",
        "  avg_features_home = {\n",
        "                      \"FTHG\": [],\n",
        "                      \"HTHG\": [],\n",
        "                      \"HS\"  : [],\n",
        "                      \"HST\" : [],\n",
        "                      \"HF\"  : [],\n",
        "                      \"HC\"  : [],\n",
        "                      \"HY\"  : [],\n",
        "                      \"HR\"  : [],\n",
        "                  }\n",
        "\n",
        "  # These are the features we want to get averages for away team\n",
        "  avg_features_away = {\n",
        "                      \"FTAG\": [],\n",
        "                      \"HTAG\": [],\n",
        "                      \"AS\"  : [],\n",
        "                      \"AST\" : [],\n",
        "                      \"AF\"  : [],\n",
        "                      \"AC\"  : [],\n",
        "                      \"AY\"  : [],\n",
        "                      \"AR\"  : []\n",
        "                    }\n",
        "\n",
        "  # Run the two functions on each row of the df_epl_train and fill the dictionary, For each row in the dataframe\n",
        "  for index, row in df_final.iterrows():\n",
        "      # Filter the dataframe to only show matches played between those teams and before the certain date\n",
        "      df_epl_train_average_bothteams_history = filter_dataframe_by_bothteams_history(df_final, row[\"Date\"],row[\"HomeTeam_Enc\"],row[\"AwayTeam_Enc\"])\n",
        "      df_epl_train_average_hometeam_recent_season = filter_dataframe_by_hometeam_recent_season(df_final, row[\"Date\"],row[\"HomeTeam_Enc\"])\n",
        "      df_epl_train_average_awayteam_recent_season = filter_dataframe_by_awayteam_recent_season(df_final, row[\"Date\"],row[\"AwayTeam_Enc\"])\n",
        "      # Get averages from the filtered dataframe and add the the dictionary\n",
        "      average_columns(avg_features_both, df_epl_train_average_bothteams_history)\n",
        "      average_columns(avg_features_home, df_epl_train_average_hometeam_recent_season)\n",
        "      average_columns(avg_features_away, df_epl_train_average_awayteam_recent_season)\n",
        "\n",
        "  for feature in avg_features_both.keys():\n",
        "      # Get the list of averages for a certain feature from the dicitonary\n",
        "      feature_vals = avg_features_both[feature]\n",
        "      # Add the list of averages into the dataframe for that certain feature\n",
        "      df_final[feature + \"_HISTORY\"] = feature_vals\n",
        "\n",
        "  for feature in avg_features_home.keys():\n",
        "      # Get the list of averages for a certain feature from the dicitonary\n",
        "      feature_vals = avg_features_home[feature]\n",
        "      # Add the list of averages into the dataframe for that certain feature\n",
        "      df_final[feature + \"_AVG\"] = feature_vals\n",
        "      \n",
        "  for feature in avg_features_away.keys():\n",
        "      # Get the list of averages for a certain feature from the dicitonary\n",
        "      feature_vals = avg_features_away[feature]\n",
        "      # Add the list of averages into the dataframe for that certain feature\n",
        "      df_final[feature + \"_AVG\"] = feature_vals\n",
        "\n",
        "  # Drop any rows with nan\n",
        "  return df_final.dropna()\n",
        "\n",
        "\n",
        "\n",
        "# CODE TO CREATE DESIGN MATRIX\n",
        "def create_design_matrix(df):\n",
        "  # X = df.loc[:,['Day', 'Month', 'HomeTeam_Enc', 'AwayTeam_Enc',\n",
        "  #                             'HS_HISTORY','AS_HISTORY','HST_HISTORY','AST_HISTORY','HF_HISTORY','AF_HISTORY','HC_HISTORY','AC_HISTORY','HY_HISTORY','AY_HISTORY','HR_HISTORY','AR_HISTORY',\n",
        "  #                             'HS_AVG','AS_AVG','HST_AVG','AST_AVG','HF_AVG','AF_AVG','HC_AVG','AC_AVG','HY_AVG','AY_AVG','HR_AVG','AR_AVG']].values\n",
        "  X = df.loc[:,['Day', 'Month', 'HomeTeam_Enc', 'AwayTeam_Enc','FTHG_AVG','FTAG_AVG','HTHG_AVG','HTAG_AVG','HS_AVG','AS_AVG','HST_AVG','AST_AVG','HF_AVG','AF_AVG','HC_AVG','AC_AVG','HY_AVG','AY_AVG','HR_AVG','AR_AVG']].values\n",
        "  # X = df.drop(['FTR', 'Date'], axis=1).values\n",
        "  return X\n",
        "\n",
        "\n",
        "\n",
        "# MAIN CODE\n",
        "df_final = create_df(df_epl)\n",
        "X = create_design_matrix(df_final)\n",
        "y = df_final.loc[:,['FTR']].values\n",
        "X_train, X_test, y_train, y_test = model_selection.train_test_split(X, y, test_size=0.2, random_state=42)\n",
        "\n",
        "FTR_encoder = LabelEncoder()\n",
        "y_train = FTR_encoder.fit_transform(y_train);"
      ],
      "metadata": {
        "colab": {
          "base_uri": "https://localhost:8080/"
        },
        "id": "8Gi9bdPyBzTJ",
        "outputId": "4eb39403-cf24-4ed5-a030-abd5cad94993"
      },
      "execution_count": null,
      "outputs": [
        {
          "output_type": "stream",
          "name": "stderr",
          "text": [
            "/usr/local/lib/python3.7/dist-packages/sklearn/preprocessing/_label.py:115: DataConversionWarning: A column-vector y was passed when a 1d array was expected. Please change the shape of y to (n_samples, ), for example using ravel().\n",
            "  y = column_or_1d(y, warn=True)\n"
          ]
        }
      ]
    },
    {
      "cell_type": "markdown",
      "source": [
        "#### Decision Tree Classifier"
      ],
      "metadata": {
        "id": "tjf6pFNoB0W1"
      }
    },
    {
      "cell_type": "code",
      "source": [
        "# best_param = []\n",
        "# best_acc = 0\n",
        "# param_grid = [\n",
        "#     {'max_features': np.linspace(5, 40, 5)}\n",
        "# ]\n",
        "# accuracy_validation = np.empty((5, len(max_features)))\n",
        "\n",
        "# for k, (index_train, index_val) in enumerate(kf.split(X_train)):\n",
        "#   X_train, X_val = X_train[index_train, :], X_train[index_val, :]\n",
        "#   y_train, y_val = y_train[index_train], y_train[index_val]\n",
        "#   # compute classification accuracy on validation set solution\n",
        "#   for l, max_feature in enumerate(max_features):\n",
        "#       # Create an empty Tree model\n",
        "#       dt = DecisionTreeClassifier(random_state=42, max_features=max_feature)\n",
        "#       # Fit the model using training data\n",
        "#       dt.fit(X_train, y_train)\n",
        "#       # Make predictions using the model we have created\n",
        "#       y_pred = dt.predict(X_val)\n",
        "#       # Reconverting prediction values (i.e. 0, 1 or 2) back into (H, D or A) using the FTR_encoder defined in earlier cell\n",
        "#       y_pred = FTR_encoder.inverse_transform(y_pred)\n",
        "#       # Check the accuracy for the parameter\n",
        "#       accuracy_validation[k, l] = accuracy_score(y_pred, y_val)    \n",
        "\n",
        "# # compute mean validation accuracy for 5 folds solution\n",
        "# accuracy_validation = np.mean(accuracy_validation, axis=0)\n",
        "\n",
        "# # plot the mean validation accuracy with your train and test accuracy\n",
        "# # what can you conclude?\n",
        "# # solution\n",
        "# plot_accuracy(gammas, {'train': accuracy_train, \n",
        "#                        'test': accuracy_test,\n",
        "#                        'validation': accuracy_validation})\n",
        "\n",
        "\n",
        "cv = KFold(n_splits=5, random_state=42, shuffle=True)  # 5-fold cross validation\n",
        "results = list()\n",
        "# define the model\n",
        "dt = DecisionTreeClassifier(random_state=42)\n",
        "# define search space - hyperparameters\n",
        "space = dict()\n",
        "space['max_features'] = [1,2,3,4,5]#list(np.linspace(0, 40, 5))\n",
        "# ADD OTHER HYPERPARAMERTERS HERE\n",
        "# define search space\n",
        "search = GridSearchCV(dt, space, scoring='accuracy', cv=cv, refit=True)\n",
        "# execute search (i.e. start model selection) using the parameters\n",
        "result = search.fit(X_train, y_train)\n",
        "# get the best performing model fit on the whole training set\n",
        "best_model = result.best_estimator_\n",
        "\n",
        "# Using the cross validation we have found the best hyperparamters and\n",
        "# hence the best model, now will we use this model to predict the values\n",
        "# for the unseen test data - evaluate model on the hold out dataset\n",
        "y_pred = best_model.predict(X_test)\n",
        "\n",
        "# Reconverting prediction values (i.e. 0, 1 or 2) back into (H, D or A) \n",
        "# using the FTR_encoder defined in earlier cell\n",
        "y_pred = FTR_encoder.inverse_transform(y_pred)\n",
        "\n",
        "evaluate_report(y_pred, y_test)"
      ],
      "metadata": {
        "colab": {
          "base_uri": "https://localhost:8080/",
          "height": 471
        },
        "id": "lILPefZhB8Ad",
        "outputId": "4c62f275-69df-41e9-e501-69618ca9f353"
      },
      "execution_count": null,
      "outputs": [
        {
          "output_type": "stream",
          "name": "stdout",
          "text": [
            "Accuracy:  0.4113238967527061\n",
            "              precision    recall  f1-score   support\n",
            "\n",
            "           A       0.37      0.37      0.37       351\n",
            "           D       0.30      0.26      0.28       330\n",
            "           H       0.49      0.53      0.51       520\n",
            "\n",
            "    accuracy                           0.41      1201\n",
            "   macro avg       0.39      0.39      0.39      1201\n",
            "weighted avg       0.40      0.41      0.41      1201\n",
            "\n"
          ]
        },
        {
          "output_type": "display_data",
          "data": {
            "text/plain": [
              "<Figure size 432x288 with 2 Axes>"
            ],
            "image/png": "[encoded data removed]"
          },
          "metadata": {
            "needs_background": "light"
          }
        }
      ]
    },
    {
      "cell_type": "markdown",
      "source": [
        "#### Random Forest"
      ],
      "metadata": {
        "id": "AR9K2vzxB9Fl"
      }
    },
    {
      "cell_type": "code",
      "source": [
        "# Create an empty Random Forest model\n",
        "rf = RandomForestClassifier(random_state=42)\n",
        "# Fit the model using training data\n",
        "rf.fit(X_train, y_train)\n",
        "# Make predictions using the model we have created\n",
        "y_pred = rf.predict(X_test)\n",
        "# Reconverting prediction values (i.e. 0, 1 or 2) back into (H, D or A) using the FTR_encoder defined in earlier cell\n",
        "y_pred = FTR_encoder.inverse_transform(y_pred)\n",
        "\n",
        "evaluate_report(y_pred, y_test)"
      ],
      "metadata": {
        "id": "d481OUWpCB_r"
      },
      "execution_count": null,
      "outputs": []
    },
    {
      "cell_type": "markdown",
      "source": [
        "#### K-Nearest Neighbours (KNN)"
      ],
      "metadata": {
        "id": "9LhGVq57CDzr"
      }
    },
    {
      "cell_type": "code",
      "source": [
        "# Create an empty KNN model\n",
        "knn = KNeighborsClassifier()\n",
        "# Fit the model using training data\n",
        "knn.fit(X_train, y_train)\n",
        "# Make predictions using the model we have created\n",
        "y_pred = knn.predict(X_test)\n",
        "# Reconverting prediction values (i.e. 0, 1 or 2) back into (H, D or A) using the FTR_encoder defined in earlier cell\n",
        "y_pred = FTR_encoder.inverse_transform(y_pred)\n",
        "\n",
        "evaluate_report(y_pred, y_test)"
      ],
      "metadata": {
        "id": "NLx3GYUfCK8Q"
      },
      "execution_count": null,
      "outputs": []
    },
    {
      "cell_type": "markdown",
      "source": [
        "#### Summary Of Results"
      ],
      "metadata": {
        "id": "LTmnpmPnCMNA"
      }
    },
    {
      "cell_type": "code",
      "source": [
        "# TODO(@Adam): Add histogram to compare accuracies of the differen models trained before (plus baseline)"
      ],
      "metadata": {
        "id": "ro4uUDqOCQZN"
      },
      "execution_count": null,
      "outputs": []
    },
    {
      "cell_type": "markdown",
      "metadata": {
        "id": "xE3rzsKRD_-8"
      },
      "source": [
        "### **FEATURE SET 5** – Complex: Included Team Ratings, Expected Goals, Number of Past Wins (Home & Away)\n",
        "\n",
        "*SUMMARY ->* Here we aim to improve our previous score by adding some complex features to the design matrix. These features are Home/Away Team ratings, the expected/predicted goals for each team and the number of past wins in season for the home/away team.\n",
        "\n",
        "The Home/Away team ratings are calculated by using a weighted sum of some of the averages we calculated in MODEL 4. The expected goals for each team are calculated using a polynomial regression classifier that is trained using again some of the features from the previous MODELS. The number of past wins are calculated by summing the number of wins by the team in the season. Once we calculate these extra features, we can then use them as extra inputs into the classifier.\n",
        "\n",
        "NOTE: We must remove the rows in the dataframe where the average values of stats/features are 'nan'; we get these values because either its the teams first game of the season (hence no past data) OR because we have not got the past stats for these matches in the dataset. We cannot use the 'nan' values for the classifier training and hence have to remove these rows. We can then train a classifier using this final dataframe.\n",
        "\n",
        "SO, In the final model/classifier, in the case where we DO NOT have these past stats of the teams playing, we need to switch back to using a variation of MODEL 2 which takes the 4 basic features: day, month, HomeTeam and AwayTeam. In the case where we DO have these past stats for the teams, we can use this model/classifier and input the features like HST_AVG. We would find these by using the filter_dataframe() and average_columns() functions to find them for any two specific teams playing each other on some date.\n",
        "\n",
        "NOTE: This applies to MODEL 4 as well. A similar case applies to MODEL 3 BUT  in this case it happens when the two teams playing each other have not played each other before OR when we do not have this data in the dataset."
      ]
    },
    {
      "cell_type": "markdown",
      "metadata": {
        "id": "RsJ9sKRBD_-8"
      },
      "source": []
    },
    {
      "cell_type": "markdown",
      "metadata": {
        "id": "AhXfaJtDD_-8"
      },
      "source": []
    }
  ],
  "metadata": {
    "kernelspec": {
      "display_name": "Python 3.10.4 ('COMP0036')",
      "language": "python",
      "name": "python3"
    },
    "language_info": {
      "codemirror_mode": {
        "name": "ipython",
        "version": 3
      },
      "file_extension": ".py",
      "mimetype": "text/x-python",
      "name": "python",
      "nbconvert_exporter": "python",
      "pygments_lexer": "ipython3",
      "version": "3.10.8"
    },
    "orig_nbformat": 4,
    "vscode": {
      "interpreter": {
        "hash": "17969e96c672e81b7c4af3859a4ff591d8f1fed8af1fa4f38310cd48afd8d95b"
      }
    },
    "colab": {
      "provenance": [],
      "collapsed_sections": [
        "EAr74ORbD_-u",
        "gwMT8Qnn9nZv",
        "egebksDVD_-2",
        "LN62IXgcD_-3",
        "IeIZNyEzD_-3",
        "yiGyGUmFD_-4",
        "C70kVZBwD_-5",
        "dNhdZ17pD_-5",
        "-ps6EFiRD_-7",
        "RL40yZlH-C4i",
        "nS6ffh-4-jbj",
        "7h8XaYd--7Jc",
        "q6LmWr_P_xIX",
        "qzshQ8wID_-7",
        "xE3rzsKRD_-8"
      ],
      "include_colab_link": true
    }
  },
  "nbformat": 4,
  "nbformat_minor": 0
}