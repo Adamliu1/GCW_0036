{
 "cells": [
  {
   "cell_type": "markdown",
   "metadata": {},
   "source": [
    "# COMP0036 Group Assignment: BEAT THE BOOKIE\n",
    "\n",
    "### Group N"
   ]
  },
  {
   "cell_type": "code",
   "execution_count": 157,
   "metadata": {},
   "outputs": [],
   "source": [
    "import os\n",
    "import pandas as pd\n",
    "import numpy as np\n",
    "\n",
    "from sklearn.preprocessing import LabelEncoder\n",
    "from sklearn import model_selection\n",
    "\n",
    "from sklearn.metrics import accuracy_score\n",
    "from sklearn.metrics import classification_report\n",
    "\n",
    "from sklearn.neighbors import KNeighborsClassifier\n",
    "from sklearn.tree import DecisionTreeClassifier\n",
    "from sklearn.ensemble import RandomForestClassifier"
   ]
  },
  {
   "cell_type": "code",
   "execution_count": 158,
   "metadata": {},
   "outputs": [],
   "source": [
    "cwd = os.path.join(os.getcwd(), 'Group Coursework Brief-20221106', 'Data_Files', 'Data_Files')\n",
    "dirName_trainData = os.path.join(cwd, 'epl-training.csv')"
   ]
  },
  {
   "cell_type": "code",
   "execution_count": 159,
   "metadata": {},
   "outputs": [],
   "source": [
    "df_epl_train = pd.read_csv(dirName_trainData)\n",
    "\n",
    "# NOTE: I have manually removed the (one) line in csv file with blanks\n",
    "\n",
    "# This is code to automatically remove rows with blanks cells - not currently working\n",
    "# # Remove any rows with blank cells - Clean Data\n",
    "# df_epl_train_3 = df_epl_train_2.copy()\n",
    "# df_epl_train_3 = df_epl_train3.replace(r'^\\s*$', float('NaN'), regex = True)\n",
    "\n",
    "# df_epl_train = df_epl_train_3.copy()\n",
    "# df_epl_train = df_epl_train.dropna(inplace = True)"
   ]
  },
  {
   "cell_type": "code",
   "execution_count": 160,
   "metadata": {
    "scrolled": false
   },
   "outputs": [
    {
     "data": {
      "text/html": [
       "<div>\n",
       "<style scoped>\n",
       "    .dataframe tbody tr th:only-of-type {\n",
       "        vertical-align: middle;\n",
       "    }\n",
       "\n",
       "    .dataframe tbody tr th {\n",
       "        vertical-align: top;\n",
       "    }\n",
       "\n",
       "    .dataframe thead th {\n",
       "        text-align: right;\n",
       "    }\n",
       "</style>\n",
       "<table border=\"1\" class=\"dataframe\">\n",
       "  <thead>\n",
       "    <tr style=\"text-align: right;\">\n",
       "      <th></th>\n",
       "      <th>Date</th>\n",
       "      <th>HomeTeam</th>\n",
       "      <th>AwayTeam</th>\n",
       "      <th>FTHG</th>\n",
       "      <th>FTAG</th>\n",
       "      <th>FTR</th>\n",
       "      <th>HTHG</th>\n",
       "      <th>HTAG</th>\n",
       "      <th>HTR</th>\n",
       "      <th>Referee</th>\n",
       "      <th>...</th>\n",
       "      <th>HST</th>\n",
       "      <th>AST</th>\n",
       "      <th>HC</th>\n",
       "      <th>AC</th>\n",
       "      <th>HF</th>\n",
       "      <th>AF</th>\n",
       "      <th>HY</th>\n",
       "      <th>AY</th>\n",
       "      <th>HR</th>\n",
       "      <th>AR</th>\n",
       "    </tr>\n",
       "  </thead>\n",
       "  <tbody>\n",
       "    <tr>\n",
       "      <th>0</th>\n",
       "      <td>19/08/00</td>\n",
       "      <td>Charlton</td>\n",
       "      <td>Man City</td>\n",
       "      <td>4.0</td>\n",
       "      <td>0.0</td>\n",
       "      <td>H</td>\n",
       "      <td>2.0</td>\n",
       "      <td>0.0</td>\n",
       "      <td>H</td>\n",
       "      <td>Rob Harris</td>\n",
       "      <td>...</td>\n",
       "      <td>14.0</td>\n",
       "      <td>4.0</td>\n",
       "      <td>6.0</td>\n",
       "      <td>6.0</td>\n",
       "      <td>13.0</td>\n",
       "      <td>12.0</td>\n",
       "      <td>1.0</td>\n",
       "      <td>2.0</td>\n",
       "      <td>0.0</td>\n",
       "      <td>0.0</td>\n",
       "    </tr>\n",
       "    <tr>\n",
       "      <th>1</th>\n",
       "      <td>19/08/00</td>\n",
       "      <td>Chelsea</td>\n",
       "      <td>West Ham</td>\n",
       "      <td>4.0</td>\n",
       "      <td>2.0</td>\n",
       "      <td>H</td>\n",
       "      <td>1.0</td>\n",
       "      <td>0.0</td>\n",
       "      <td>H</td>\n",
       "      <td>Graham Barber</td>\n",
       "      <td>...</td>\n",
       "      <td>10.0</td>\n",
       "      <td>5.0</td>\n",
       "      <td>7.0</td>\n",
       "      <td>7.0</td>\n",
       "      <td>19.0</td>\n",
       "      <td>14.0</td>\n",
       "      <td>1.0</td>\n",
       "      <td>2.0</td>\n",
       "      <td>0.0</td>\n",
       "      <td>0.0</td>\n",
       "    </tr>\n",
       "    <tr>\n",
       "      <th>2</th>\n",
       "      <td>19/08/00</td>\n",
       "      <td>Coventry</td>\n",
       "      <td>Middlesbrough</td>\n",
       "      <td>1.0</td>\n",
       "      <td>3.0</td>\n",
       "      <td>A</td>\n",
       "      <td>1.0</td>\n",
       "      <td>1.0</td>\n",
       "      <td>D</td>\n",
       "      <td>Barry Knight</td>\n",
       "      <td>...</td>\n",
       "      <td>3.0</td>\n",
       "      <td>9.0</td>\n",
       "      <td>8.0</td>\n",
       "      <td>4.0</td>\n",
       "      <td>15.0</td>\n",
       "      <td>21.0</td>\n",
       "      <td>5.0</td>\n",
       "      <td>3.0</td>\n",
       "      <td>1.0</td>\n",
       "      <td>0.0</td>\n",
       "    </tr>\n",
       "    <tr>\n",
       "      <th>3</th>\n",
       "      <td>19/08/00</td>\n",
       "      <td>Derby</td>\n",
       "      <td>Southampton</td>\n",
       "      <td>2.0</td>\n",
       "      <td>2.0</td>\n",
       "      <td>D</td>\n",
       "      <td>1.0</td>\n",
       "      <td>2.0</td>\n",
       "      <td>A</td>\n",
       "      <td>Andy D'Urso</td>\n",
       "      <td>...</td>\n",
       "      <td>4.0</td>\n",
       "      <td>6.0</td>\n",
       "      <td>5.0</td>\n",
       "      <td>8.0</td>\n",
       "      <td>11.0</td>\n",
       "      <td>13.0</td>\n",
       "      <td>1.0</td>\n",
       "      <td>1.0</td>\n",
       "      <td>0.0</td>\n",
       "      <td>0.0</td>\n",
       "    </tr>\n",
       "    <tr>\n",
       "      <th>4</th>\n",
       "      <td>19/08/00</td>\n",
       "      <td>Leeds</td>\n",
       "      <td>Everton</td>\n",
       "      <td>2.0</td>\n",
       "      <td>0.0</td>\n",
       "      <td>H</td>\n",
       "      <td>2.0</td>\n",
       "      <td>0.0</td>\n",
       "      <td>H</td>\n",
       "      <td>Dermot Gallagher</td>\n",
       "      <td>...</td>\n",
       "      <td>8.0</td>\n",
       "      <td>6.0</td>\n",
       "      <td>6.0</td>\n",
       "      <td>4.0</td>\n",
       "      <td>21.0</td>\n",
       "      <td>20.0</td>\n",
       "      <td>1.0</td>\n",
       "      <td>3.0</td>\n",
       "      <td>0.0</td>\n",
       "      <td>0.0</td>\n",
       "    </tr>\n",
       "  </tbody>\n",
       "</table>\n",
       "<p>5 rows × 22 columns</p>\n",
       "</div>"
      ],
      "text/plain": [
       "       Date  HomeTeam       AwayTeam  FTHG  FTAG FTR  HTHG  HTAG HTR  \\\n",
       "0  19/08/00  Charlton       Man City   4.0   0.0   H   2.0   0.0   H   \n",
       "1  19/08/00   Chelsea       West Ham   4.0   2.0   H   1.0   0.0   H   \n",
       "2  19/08/00  Coventry  Middlesbrough   1.0   3.0   A   1.0   1.0   D   \n",
       "3  19/08/00     Derby    Southampton   2.0   2.0   D   1.0   2.0   A   \n",
       "4  19/08/00     Leeds        Everton   2.0   0.0   H   2.0   0.0   H   \n",
       "\n",
       "            Referee  ...   HST  AST   HC   AC    HF    AF   HY   AY   HR   AR  \n",
       "0        Rob Harris  ...  14.0  4.0  6.0  6.0  13.0  12.0  1.0  2.0  0.0  0.0  \n",
       "1     Graham Barber  ...  10.0  5.0  7.0  7.0  19.0  14.0  1.0  2.0  0.0  0.0  \n",
       "2      Barry Knight  ...   3.0  9.0  8.0  4.0  15.0  21.0  5.0  3.0  1.0  0.0  \n",
       "3       Andy D'Urso  ...   4.0  6.0  5.0  8.0  11.0  13.0  1.0  1.0  0.0  0.0  \n",
       "4  Dermot Gallagher  ...   8.0  6.0  6.0  4.0  21.0  20.0  1.0  3.0  0.0  0.0  \n",
       "\n",
       "[5 rows x 22 columns]"
      ]
     },
     "execution_count": 160,
     "metadata": {},
     "output_type": "execute_result"
    }
   ],
   "source": [
    "df_epl_train.head()"
   ]
  },
  {
   "cell_type": "markdown",
   "metadata": {},
   "source": [
    "## Model 1 (Supervised Learning): Decision Tree, Nearest Neighbour Classifiers, Random Forest\n",
    "This models use the features Day, Month, HomeTeam and AwayTeam to predict the FTR result of a test match given its Date (Day, Month), HomeTeam and AwayTeam. This is a fully supervised learning approach. We would like to expand this by shifting away from supervised learning, as the test data only has Date, HomeTeam and AwayTeam. "
   ]
  },
  {
   "cell_type": "code",
   "execution_count": 161,
   "metadata": {},
   "outputs": [
    {
     "data": {
      "text/html": [
       "<div>\n",
       "<style scoped>\n",
       "    .dataframe tbody tr th:only-of-type {\n",
       "        vertical-align: middle;\n",
       "    }\n",
       "\n",
       "    .dataframe tbody tr th {\n",
       "        vertical-align: top;\n",
       "    }\n",
       "\n",
       "    .dataframe thead th {\n",
       "        text-align: right;\n",
       "    }\n",
       "</style>\n",
       "<table border=\"1\" class=\"dataframe\">\n",
       "  <thead>\n",
       "    <tr style=\"text-align: right;\">\n",
       "      <th></th>\n",
       "      <th>Date</th>\n",
       "      <th>HomeTeam</th>\n",
       "      <th>AwayTeam</th>\n",
       "      <th>FTHG</th>\n",
       "      <th>FTAG</th>\n",
       "      <th>FTR</th>\n",
       "      <th>HTHG</th>\n",
       "      <th>HTAG</th>\n",
       "      <th>HTR</th>\n",
       "      <th>Referee</th>\n",
       "      <th>...</th>\n",
       "      <th>HY</th>\n",
       "      <th>AY</th>\n",
       "      <th>HR</th>\n",
       "      <th>AR</th>\n",
       "      <th>Referee_Enc</th>\n",
       "      <th>AwayTeam_Enc</th>\n",
       "      <th>HomeTeam_Enc</th>\n",
       "      <th>Day</th>\n",
       "      <th>Month</th>\n",
       "      <th>Year</th>\n",
       "    </tr>\n",
       "  </thead>\n",
       "  <tbody>\n",
       "    <tr>\n",
       "      <th>0</th>\n",
       "      <td>2000-08-19</td>\n",
       "      <td>Charlton</td>\n",
       "      <td>Man City</td>\n",
       "      <td>4.0</td>\n",
       "      <td>0.0</td>\n",
       "      <td>H</td>\n",
       "      <td>2.0</td>\n",
       "      <td>0.0</td>\n",
       "      <td>H</td>\n",
       "      <td>Rob Harris</td>\n",
       "      <td>...</td>\n",
       "      <td>1.0</td>\n",
       "      <td>2.0</td>\n",
       "      <td>0.0</td>\n",
       "      <td>0.0</td>\n",
       "      <td>136</td>\n",
       "      <td>25</td>\n",
       "      <td>12</td>\n",
       "      <td>19</td>\n",
       "      <td>8</td>\n",
       "      <td>2000</td>\n",
       "    </tr>\n",
       "    <tr>\n",
       "      <th>1</th>\n",
       "      <td>2000-08-19</td>\n",
       "      <td>Chelsea</td>\n",
       "      <td>West Ham</td>\n",
       "      <td>4.0</td>\n",
       "      <td>2.0</td>\n",
       "      <td>H</td>\n",
       "      <td>1.0</td>\n",
       "      <td>0.0</td>\n",
       "      <td>H</td>\n",
       "      <td>Graham Barber</td>\n",
       "      <td>...</td>\n",
       "      <td>1.0</td>\n",
       "      <td>2.0</td>\n",
       "      <td>0.0</td>\n",
       "      <td>0.0</td>\n",
       "      <td>63</td>\n",
       "      <td>42</td>\n",
       "      <td>13</td>\n",
       "      <td>19</td>\n",
       "      <td>8</td>\n",
       "      <td>2000</td>\n",
       "    </tr>\n",
       "    <tr>\n",
       "      <th>2</th>\n",
       "      <td>2000-08-19</td>\n",
       "      <td>Coventry</td>\n",
       "      <td>Middlesbrough</td>\n",
       "      <td>1.0</td>\n",
       "      <td>3.0</td>\n",
       "      <td>A</td>\n",
       "      <td>1.0</td>\n",
       "      <td>1.0</td>\n",
       "      <td>D</td>\n",
       "      <td>Barry Knight</td>\n",
       "      <td>...</td>\n",
       "      <td>5.0</td>\n",
       "      <td>3.0</td>\n",
       "      <td>1.0</td>\n",
       "      <td>0.0</td>\n",
       "      <td>19</td>\n",
       "      <td>27</td>\n",
       "      <td>14</td>\n",
       "      <td>19</td>\n",
       "      <td>8</td>\n",
       "      <td>2000</td>\n",
       "    </tr>\n",
       "    <tr>\n",
       "      <th>3</th>\n",
       "      <td>2000-08-19</td>\n",
       "      <td>Derby</td>\n",
       "      <td>Southampton</td>\n",
       "      <td>2.0</td>\n",
       "      <td>2.0</td>\n",
       "      <td>D</td>\n",
       "      <td>1.0</td>\n",
       "      <td>2.0</td>\n",
       "      <td>A</td>\n",
       "      <td>Andy D'Urso</td>\n",
       "      <td>...</td>\n",
       "      <td>1.0</td>\n",
       "      <td>1.0</td>\n",
       "      <td>0.0</td>\n",
       "      <td>0.0</td>\n",
       "      <td>12</td>\n",
       "      <td>35</td>\n",
       "      <td>16</td>\n",
       "      <td>19</td>\n",
       "      <td>8</td>\n",
       "      <td>2000</td>\n",
       "    </tr>\n",
       "    <tr>\n",
       "      <th>4</th>\n",
       "      <td>2000-08-19</td>\n",
       "      <td>Leeds</td>\n",
       "      <td>Everton</td>\n",
       "      <td>2.0</td>\n",
       "      <td>0.0</td>\n",
       "      <td>H</td>\n",
       "      <td>2.0</td>\n",
       "      <td>0.0</td>\n",
       "      <td>H</td>\n",
       "      <td>Dermot Gallagher</td>\n",
       "      <td>...</td>\n",
       "      <td>1.0</td>\n",
       "      <td>3.0</td>\n",
       "      <td>0.0</td>\n",
       "      <td>0.0</td>\n",
       "      <td>44</td>\n",
       "      <td>17</td>\n",
       "      <td>22</td>\n",
       "      <td>19</td>\n",
       "      <td>8</td>\n",
       "      <td>2000</td>\n",
       "    </tr>\n",
       "  </tbody>\n",
       "</table>\n",
       "<p>5 rows × 28 columns</p>\n",
       "</div>"
      ],
      "text/plain": [
       "        Date  HomeTeam       AwayTeam  FTHG  FTAG FTR  HTHG  HTAG HTR  \\\n",
       "0 2000-08-19  Charlton       Man City   4.0   0.0   H   2.0   0.0   H   \n",
       "1 2000-08-19   Chelsea       West Ham   4.0   2.0   H   1.0   0.0   H   \n",
       "2 2000-08-19  Coventry  Middlesbrough   1.0   3.0   A   1.0   1.0   D   \n",
       "3 2000-08-19     Derby    Southampton   2.0   2.0   D   1.0   2.0   A   \n",
       "4 2000-08-19     Leeds        Everton   2.0   0.0   H   2.0   0.0   H   \n",
       "\n",
       "            Referee  ...   HY   AY   HR   AR  Referee_Enc  AwayTeam_Enc  \\\n",
       "0        Rob Harris  ...  1.0  2.0  0.0  0.0          136            25   \n",
       "1     Graham Barber  ...  1.0  2.0  0.0  0.0           63            42   \n",
       "2      Barry Knight  ...  5.0  3.0  1.0  0.0           19            27   \n",
       "3       Andy D'Urso  ...  1.0  1.0  0.0  0.0           12            35   \n",
       "4  Dermot Gallagher  ...  1.0  3.0  0.0  0.0           44            17   \n",
       "\n",
       "   HomeTeam_Enc  Day  Month  Year  \n",
       "0            12   19      8  2000  \n",
       "1            13   19      8  2000  \n",
       "2            14   19      8  2000  \n",
       "3            16   19      8  2000  \n",
       "4            22   19      8  2000  \n",
       "\n",
       "[5 rows x 28 columns]"
      ]
     },
     "execution_count": 161,
     "metadata": {},
     "output_type": "execute_result"
    }
   ],
   "source": [
    "# Encode some of the columns in the dataframe\n",
    "# NOTE: Using Label_Encoder to encode the (catergorical) values in the dataframe, this works by taking a list of values and mapping them to numbers - e.g. each referee in list will get a number\n",
    "# See the link: https://scikit-learn.org/stable/modules/generated/sklearn.preprocessing.LabelEncoder.html\n",
    "\n",
    "df_epl_train[\"Referee_Enc\"] = df_epl_train[\"Referee\"].astype(\"category\").cat.codes\n",
    "df_epl_train[\"AwayTeam_Enc\"] = df_epl_train[\"AwayTeam\"].astype(\"category\").cat.codes\n",
    "df_epl_train[\"HomeTeam_Enc\"] = df_epl_train[\"HomeTeam\"].astype(\"category\").cat.codes\n",
    "\n",
    "# Transform the date column into day and month columns and Add into dataframe (Extract days & months from date)\n",
    "df_epl_train[\"Date\"] = pd.to_datetime(df_epl_train[\"Date\"])\n",
    "df_epl_train[\"Day\"] = df_epl_train[\"Date\"].dt.day\n",
    "df_epl_train[\"Month\"] = df_epl_train[\"Date\"].dt.month \n",
    "df_epl_train[\"Year\"] = df_epl_train[\"Date\"].dt.year\n",
    "\n",
    "\n",
    "# This (below) is the transformed dataframe with new columns (at front) with categorical values converted into labels\n",
    "df_epl_train.head()"
   ]
  },
  {
   "cell_type": "code",
   "execution_count": 162,
   "metadata": {},
   "outputs": [],
   "source": [
    "# Create the input features matrix X (made of day, month, HomeTeam, AwayTeam, Referee)\n",
    "# Create the output values y vector (made of FTR)\n",
    "# Take these values from the transformed dataframe\n",
    "\n",
    "X = df_epl_train.loc[:,['Day', 'Month', 'HomeTeam_Enc', 'AwayTeam_Enc']].values\n",
    "y = df_epl_train.loc[:,'FTR'].values"
   ]
  },
  {
   "cell_type": "code",
   "execution_count": 163,
   "metadata": {},
   "outputs": [],
   "source": [
    "# Split the training data in a 80-20 split and keep 20% for final testing\n",
    "X_train, X_test, y_train, y_test = model_selection.train_test_split(X, y, test_size=0.2, random_state=22)\n",
    "\n",
    "# Encode the y output values as well\n",
    "FTR_encoder = LabelEncoder()\n",
    "y_train = FTR_encoder.fit_transform(y_train);"
   ]
  },
  {
   "cell_type": "markdown",
   "metadata": {},
   "source": [
    "Now that we have our input attributes and outputs we can create and test different prediction models:"
   ]
  },
  {
   "cell_type": "markdown",
   "metadata": {},
   "source": [
    "Using a Decision Tree Classifier with our training data:"
   ]
  },
  {
   "cell_type": "code",
   "execution_count": 164,
   "metadata": {},
   "outputs": [],
   "source": [
    "# Create an empty Tree model\n",
    "DT_Model = DecisionTreeClassifier(random_state=42)\n",
    "# Fit the model using training data\n",
    "DT_Model.fit(X_train, y_train)\n",
    "# Make predictions using the model we have created\n",
    "DT_predictions_test = DT_Model.predict(X_test)\n",
    "# Reconverting prediction values (i.e. 0, 1 or 2) back into (H, D or A) using the FTR_encoder defined in earlier cell\n",
    "DT_predictions_test = FTR_encoder.inverse_transform(DT_predictions_test)"
   ]
  },
  {
   "cell_type": "code",
   "execution_count": 165,
   "metadata": {},
   "outputs": [
    {
     "name": "stdout",
     "output_type": "stream",
     "text": [
      "0.3934040047114252\n"
     ]
    }
   ],
   "source": [
    "# https://scikit-learn.org/stable/modules/generated/sklearn.metrics.accuracy_score.html\n",
    "# Returns fraction of correctly classified samples\n",
    "\n",
    "print(accuracy_score(DT_predictions_test, y_test))"
   ]
  },
  {
   "cell_type": "code",
   "execution_count": 166,
   "metadata": {},
   "outputs": [
    {
     "name": "stdout",
     "output_type": "stream",
     "text": [
      "              precision    recall  f1-score   support\n",
      "\n",
      "           A       0.33      0.34      0.34       460\n",
      "           D       0.25      0.24      0.24       433\n",
      "           H       0.51      0.51      0.51       805\n",
      "\n",
      "    accuracy                           0.39      1698\n",
      "   macro avg       0.36      0.36      0.36      1698\n",
      "weighted avg       0.39      0.39      0.39      1698\n",
      "\n"
     ]
    }
   ],
   "source": [
    "# https://scikit-learn.org/stable/modules/generated/sklearn.metrics.classification_report.html\n",
    "\n",
    "print(classification_report(DT_predictions_test, y_test))"
   ]
  },
  {
   "cell_type": "markdown",
   "metadata": {},
   "source": [
    "Using a Nearest Neighbor Classifier with our training data:"
   ]
  },
  {
   "cell_type": "code",
   "execution_count": 145,
   "metadata": {},
   "outputs": [],
   "source": [
    "# Create an empty KNN model\n",
    "KNN_Model = KNeighborsClassifier(n_neighbors=6)\n",
    "# Fit the model using training data\n",
    "KNN_Model.fit(X_train, y_train)\n",
    "# Make predictions using the model we have created\n",
    "KNN_predictions_test = KNN_Model.predict(X_test)\n",
    "KNN_predictions_test = FTR_encoder.inverse_transform(KNN_predictions_test)"
   ]
  },
  {
   "cell_type": "code",
   "execution_count": 146,
   "metadata": {},
   "outputs": [
    {
     "name": "stdout",
     "output_type": "stream",
     "text": [
      "0.4122497055359246\n"
     ]
    }
   ],
   "source": [
    "print(accuracy_score(KNN_predictions_test, y_test))"
   ]
  },
  {
   "cell_type": "code",
   "execution_count": 147,
   "metadata": {},
   "outputs": [
    {
     "name": "stdout",
     "output_type": "stream",
     "text": [
      "              precision    recall  f1-score   support\n",
      "\n",
      "           A       0.41      0.34      0.37       577\n",
      "           D       0.18      0.26      0.21       278\n",
      "           H       0.53      0.51      0.52       843\n",
      "\n",
      "    accuracy                           0.41      1698\n",
      "   macro avg       0.37      0.37      0.37      1698\n",
      "weighted avg       0.43      0.41      0.42      1698\n",
      "\n"
     ]
    }
   ],
   "source": [
    "print(classification_report(KNN_predictions_test, y_test))"
   ]
  },
  {
   "cell_type": "code",
   "execution_count": 153,
   "metadata": {},
   "outputs": [],
   "source": [
    "# Create an empty KNN model\n",
    "RF_Model = RandomForestClassifier(n_estimators=50, random_state=42)\n",
    "# Fit the model using training data\n",
    "RF_Model.fit(X_train, y_train)\n",
    "# Make predictions using the model we have created\n",
    "RF_predictions_test = RF_Model.predict(X_test)\n",
    "RF_predictions_test = FTR_encoder.inverse_transform(RF_predictions_test)"
   ]
  },
  {
   "cell_type": "code",
   "execution_count": 154,
   "metadata": {},
   "outputs": [
    {
     "name": "stdout",
     "output_type": "stream",
     "text": [
      "0.45288574793875147\n"
     ]
    }
   ],
   "source": [
    "print(accuracy_score(RF_predictions_test, y_test))"
   ]
  },
  {
   "cell_type": "code",
   "execution_count": 155,
   "metadata": {},
   "outputs": [
    {
     "name": "stdout",
     "output_type": "stream",
     "text": [
      "              precision    recall  f1-score   support\n",
      "\n",
      "           A       0.34      0.39      0.36       418\n",
      "           D       0.19      0.27      0.22       297\n",
      "           H       0.66      0.54      0.59       983\n",
      "\n",
      "    accuracy                           0.45      1698\n",
      "   macro avg       0.39      0.40      0.39      1698\n",
      "weighted avg       0.50      0.45      0.47      1698\n",
      "\n"
     ]
    }
   ],
   "source": [
    "print(classification_report(RF_predictions_test, y_test))"
   ]
  },
  {
   "cell_type": "code",
   "execution_count": null,
   "metadata": {},
   "outputs": [],
   "source": []
  },
  {
   "cell_type": "code",
   "execution_count": null,
   "metadata": {},
   "outputs": [],
   "source": []
  }
 ],
 "metadata": {
  "kernelspec": {
   "display_name": "Python 3",
   "language": "python",
   "name": "python3"
  },
  "language_info": {
   "codemirror_mode": {
    "name": "ipython",
    "version": 3
   },
   "file_extension": ".py",
   "mimetype": "text/x-python",
   "name": "python",
   "nbconvert_exporter": "python",
   "pygments_lexer": "ipython3",
   "version": "3.8.5"
  }
 },
 "nbformat": 4,
 "nbformat_minor": 5
}
